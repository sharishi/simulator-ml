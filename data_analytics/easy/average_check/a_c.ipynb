{
 "cells": [
  {
   "cell_type": "markdown",
   "source": [
    "Средний чек\n",
    "Средний чек – это средняя стоимость всех товаров в заказе, по всем заказам за некоторый период.\n",
    "\n",
    "Вы работаете в компании, которая занимается продажей продуктов и хозтоваров онлайн с доставкой в Сербии (валюта - евро).\n",
    "\n",
    "Отдел маркетинга планирует провести большую промо-акцию, которая, предположительно, повысит средний чек покупателя (в противовес акциям, которые нацелены на Retention - вовлечённость, число пользователей в день - DAU, и другие метрики).\n",
    "\n",
    "Чтобы замерить эффект от маркетинговой кампании, мы планируем провести А/Б-тест и Вас попросили реализовать метрику, на основе которой будет приниматься решение об успешном или неуспешном проведении акции. Вам как аналитику необходимо определить, сколько в среднем тратят люди в магазине."
   ],
   "metadata": {
    "collapsed": false
   },
   "id": "9fb1fbe07c61090c"
  },
  {
   "cell_type": "code",
   "execution_count": null,
   "id": "initial_id",
   "metadata": {
    "collapsed": true
   },
   "outputs": [],
   "source": [
    "'''sql\n",
    "SELECT \n",
    "    DATE_TRUNC('month', toDate(buy_date)) ::DATE AS month, \n",
    "        AVG(check_amount) AS avg_check,\n",
    "            arrayElement(quantilesExactExclusive(0.5)(check_amount), 1) AS median_check\n",
    "            FROM \n",
    "                view_checks\n",
    "                GROUP BY \n",
    "                    month\n",
    "                    ORDER BY \n",
    "                        month;\n",
    "'''"
   ]
  },
  {
   "cell_type": "code",
   "execution_count": null,
   "outputs": [],
   "source": [
    "'''sql\n",
    "SELECT\n",
    "    toStartOfMonth(toDate(buy_date)) AS month,\n",
    "    AVG(check_amount) AS avg_check,\n",
    "    quantileExactExclusive(0.5)(check_amount) AS median_check\n",
    "FROM default.view_checks\n",
    "GROUP BY month\n",
    "ORDER BY month\n",
    "'''"
   ],
   "metadata": {
    "collapsed": false
   },
   "id": "fea741410ac7509b"
  }
 ],
 "metadata": {
  "kernelspec": {
   "display_name": "Python 3",
   "language": "python",
   "name": "python3"
  },
  "language_info": {
   "codemirror_mode": {
    "name": "ipython",
    "version": 2
   },
   "file_extension": ".py",
   "mimetype": "text/x-python",
   "name": "python",
   "nbconvert_exporter": "python",
   "pygments_lexer": "ipython2",
   "version": "2.7.6"
  }
 },
 "nbformat": 4,
 "nbformat_minor": 5
}
