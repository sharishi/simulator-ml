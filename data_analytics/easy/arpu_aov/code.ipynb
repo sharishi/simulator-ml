{
 "cells": [
  {
   "cell_type": "markdown",
   "source": [
    "ARPPU (average revenue per paying user) — это метрика, которая показывает среднюю прибыль от одного платящего пользователя за определенный период времени. Она позволяет измерять ценность продукта компании и прогнозировать доход. В расчёт попадают не все пользователи, а только те, что совершали платежи в течение периода (то есть, только Paying Users).\n",
    "\n",
    "AOV (average order value) — это сумма, которую в среднем тратят клиенты в магазине. Это один из основных показателей развития успешного бизнеса. Анализ AOV позволяет оценить эффективность рекламных кампаний и работу сотрудников, определить сезонность продаж."
   ],
   "metadata": {
    "collapsed": false
   },
   "id": "3fd273189e4f5c32"
  },
  {
   "cell_type": "code",
   "execution_count": null,
   "id": "initial_id",
   "metadata": {
    "collapsed": true
   },
   "outputs": [],
   "source": [
    "'''sql\n",
    "SELECT\n",
    "    DATE_TRUNC('month', date) ::DATE AS time,\n",
    "    SUM(amount) / COUNT(distinct email_id) AS arppu,\n",
    "    AVG(amount) AS aov\n",
    "    FROM\n",
    "    new_payments\n",
    "    WHERE\n",
    "    status = 'Confirmed'\n",
    "GROUP BY\n",
    "    DATE_TRUNC('month', date)\n",
    "ORDER BY\n",
    "    time;\n",
    "'''"
   ]
  }
 ],
 "metadata": {
  "kernelspec": {
   "display_name": "Python 3",
   "language": "python",
   "name": "python3"
  },
  "language_info": {
   "codemirror_mode": {
    "name": "ipython",
    "version": 2
   },
   "file_extension": ".py",
   "mimetype": "text/x-python",
   "name": "python",
   "nbconvert_exporter": "python",
   "pygments_lexer": "ipython2",
   "version": "2.7.6"
  }
 },
 "nbformat": 4,
 "nbformat_minor": 5
}
