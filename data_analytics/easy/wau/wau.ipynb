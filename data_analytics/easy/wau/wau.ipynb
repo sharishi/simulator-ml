{
 "cells": [
  {
   "cell_type": "markdown",
   "source": [
    "WAU (weekly active users) – количество активных пользователей в неделю.\n",
    "\n",
    "Вам предоставлен доступ к таблице default.churn_submits. В ней находятся данные по активности пользователей нашего Симулятора. Одна строка = одна попытка решения каким-то студентом какой-то задачи. "
   ],
   "metadata": {
    "collapsed": false
   },
   "id": "5a86d14215acf3b5"
  },
  {
   "cell_type": "markdown",
   "source": [
    "1. Напишите запрос с расчётом WAU за весь период скользящим окном в неделю с шагом в 1 день, при этом текущая дата должна включаться в расчет.\n",
    "Например, для даты 07.09.2022 нужно рассчитать WAU за период с 01.09.2022 по 07.09.2022.\n",
    "\n",
    "2. Название столбцов должно быть day и wau. Столбы должны идти именно в таком порядке.\n",
    "\n",
    "3. Сохраните SQL-запрос в файл query.sql и загрузить его в форму ниже."
   ],
   "metadata": {
    "collapsed": false
   },
   "id": "3ef2e094e7a51718"
  },
  {
   "cell_type": "code",
   "execution_count": null,
   "id": "initial_id",
   "metadata": {
    "collapsed": true
   },
   "outputs": [],
   "source": [
    "'''sql\n",
    "SELECT\n",
    "    DISTINCT day,\n",
    "    COUNT(DISTINCT user_id) OVER (\n",
    "        ORDER BY day\n",
    "        RANGE BETWEEN 6 PRECEDING AND CURRENT ROW\n",
    "    ) AS wau\n",
    "FROM (\n",
    "    SELECT\n",
    "        toDate(timestamp) AS day,\n",
    "        user_id\n",
    "    FROM\n",
    "        default.churn_submits\n",
    ") AS subquery\n",
    "ORDER BY\n",
    "    day;\n",
    "\n",
    "'''"
   ]
  },
  {
   "cell_type": "code",
   "execution_count": 1,
   "outputs": [
    {
     "data": {
      "text/plain": "'sql\\nSELECT\\n    DISTINCT DATE(timestamp) as day,\\n    COUNT(DISTINCT user_id) OVER (\\n        ORDER BY DATE(timestamp)\\n        RANGE BETWEEN 6 PRECEDING AND CURRENT ROW\\n    ) AS wau\\nFROM default.churn_submits\\n'"
     },
     "execution_count": 1,
     "metadata": {},
     "output_type": "execute_result"
    }
   ],
   "source": [
    "'''sql\n",
    "SELECT\n",
    "    DISTINCT DATE(timestamp) as day,\n",
    "    COUNT(DISTINCT user_id) OVER (\n",
    "        ORDER BY DATE(timestamp)\n",
    "        RANGE BETWEEN 6 PRECEDING AND CURRENT ROW\n",
    "    ) AS wau\n",
    "FROM default.churn_submits\n",
    "'''"
   ],
   "metadata": {
    "collapsed": false,
    "ExecuteTime": {
     "end_time": "2025-01-06T18:03:34.458035100Z",
     "start_time": "2025-01-06T18:03:34.435890700Z"
    }
   },
   "id": "e2c930dd6fe6215a"
  },
  {
   "cell_type": "code",
   "execution_count": null,
   "outputs": [],
   "source": [],
   "metadata": {
    "collapsed": false
   },
   "id": "5927783ff2d2d625"
  }
 ],
 "metadata": {
  "kernelspec": {
   "display_name": "Python 3",
   "language": "python",
   "name": "python3"
  },
  "language_info": {
   "codemirror_mode": {
    "name": "ipython",
    "version": 2
   },
   "file_extension": ".py",
   "mimetype": "text/x-python",
   "name": "python",
   "nbconvert_exporter": "python",
   "pygments_lexer": "ipython2",
   "version": "2.7.6"
  }
 },
 "nbformat": 4,
 "nbformat_minor": 5
}
