{
 "cells": [
  {
   "cell_type": "markdown",
   "source": [
    "DAU (daily active users – количество активных пользователей в день) – часто используемая метрика для оценки размера аудитории продукта. Редко, когда бывает разумным доверять показателям вроде «число регистраций за всё время».\n",
    "\n",
    "Другие подобные метрики: WAU (weekly active users) и MAU (monthly active users). Как определить, на какую из них полезно смотреть в первую очередь?\n",
    "\n",
    "Если все пользуются нашим продуктом ежедневно, все 3 дадут примерно одинаковый результат. Если пользователи заходят пару раз в неделю или тем более в месяц, мы отдаём предпочтение WAU или MAU. Часто на все три смотрят в комплексе. DAU – более техническая метрика, оценивающая «пропускную способность» нашего сервиса."
   ],
   "metadata": {
    "collapsed": false
   },
   "id": "ef29e32a43f8f461"
  },
  {
   "cell_type": "code",
   "execution_count": null,
   "id": "initial_id",
   "metadata": {
    "collapsed": true
   },
   "outputs": [],
   "source": []
  }
 ],
 "metadata": {
  "kernelspec": {
   "display_name": "Python 3",
   "language": "python",
   "name": "python3"
  },
  "language_info": {
   "codemirror_mode": {
    "name": "ipython",
    "version": 2
   },
   "file_extension": ".py",
   "mimetype": "text/x-python",
   "name": "python",
   "nbconvert_exporter": "python",
   "pygments_lexer": "ipython2",
   "version": "2.7.6"
  }
 },
 "nbformat": 4,
 "nbformat_minor": 5
}
