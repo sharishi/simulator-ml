{
 "cells": [
  {
   "cell_type": "markdown",
   "source": [
    "Сегментация пользователей по оплатам"
   ],
   "metadata": {
    "collapsed": false
   },
   "id": "f59d2c3273204afd"
  },
  {
   "cell_type": "code",
   "execution_count": null,
   "id": "initial_id",
   "metadata": {
    "collapsed": true
   },
   "outputs": [],
   "source": [
    "'''sql\n",
    "WITH user_amounts AS (\n",
    "  SELECT email_id, SUM(amount) AS summary\n",
    "  FROM new_payments\n",
    "  GROUP BY email_id\n",
    "),\n",
    "max_summary AS (\n",
    "  SELECT MAX(summary) AS max_amount\n",
    "  FROM user_amounts\n",
    "),\n",
    "user_amounts_with_max AS (\n",
    "  SELECT ua.email_id, ua.summary, ms.max_amount\n",
    "  FROM user_amounts ua\n",
    "  CROSS JOIN max_summary ms\n",
    ")\n",
    "SELECT\n",
    "  CASE\n",
    "    WHEN summary <= 20000 THEN '0-20000'\n",
    "    WHEN summary <= 40000 THEN '20001-40000'\n",
    "    WHEN summary <= 60000 THEN '40001-60000'\n",
    "    WHEN summary <= 80000 THEN '60001-80000'\n",
    "    WHEN summary <= 100000 THEN '80001-100000'\n",
    "    ELSE CONCAT('100001-', CAST(max_amount AS VARCHAR))\n",
    "  END AS purchase_range,\n",
    "  COUNT(user_amounts_with_max.email_id) AS num_of_users\n",
    "FROM user_amounts_with_max\n",
    "LEFT JOIN new_payments ON new_payments.email_id = user_amounts_with_max.email_id\n",
    "WHERE new_payments.mode IN ('MasterCard', 'МИР', 'Visa')\n",
    "GROUP BY purchase_range, max_amount;\n",
    "\n",
    "'''"
   ]
  },
  {
   "cell_type": "code",
   "execution_count": null,
   "outputs": [],
   "source": [
    "'''sql\n",
    "\n",
    "'''"
   ],
   "metadata": {
    "collapsed": false
   },
   "id": "4792d39dd47ff790"
  }
 ],
 "metadata": {
  "kernelspec": {
   "display_name": "Python 3",
   "language": "python",
   "name": "python3"
  },
  "language_info": {
   "codemirror_mode": {
    "name": "ipython",
    "version": 2
   },
   "file_extension": ".py",
   "mimetype": "text/x-python",
   "name": "python",
   "nbconvert_exporter": "python",
   "pygments_lexer": "ipython2",
   "version": "2.7.6"
  }
 },
 "nbformat": 4,
 "nbformat_minor": 5
}
