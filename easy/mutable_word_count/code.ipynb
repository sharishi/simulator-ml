{
 "cells": [
  {
   "cell_type": "markdown",
   "source": [
    "# Лайфхак\n",
    "Чтобы узнать, является ли объект изменяемым, попробуйте взять у него хэш"
   ],
   "metadata": {
    "collapsed": false
   },
   "id": "e1393044b02d06ea"
  },
  {
   "cell_type": "markdown",
   "source": [
    "Если у объекта можно взять хэш, значит, он неизменяемый."
   ],
   "metadata": {
    "collapsed": false
   },
   "id": "c31dba2f991301b3"
  },
  {
   "cell_type": "markdown",
   "source": [
    "Мы пишем сервис для обработки большого количества статей, публикуемых на нашей платформе. \n",
    "\n",
    "Для того, чтобы заниматься тематическим моделированием, нужно посчитать встречаемость слов."
   ],
   "metadata": {
    "collapsed": false
   },
   "id": "7ab0f14275fe4b68"
  },
  {
   "cell_type": "code",
   "execution_count": 1,
   "id": "initial_id",
   "metadata": {
    "collapsed": true,
    "ExecuteTime": {
     "end_time": "2024-10-05T19:16:28.994347500Z",
     "start_time": "2024-10-05T19:16:28.991167900Z"
    }
   },
   "outputs": [],
   "source": [
    "def word_count(texts):\n",
    "    count = {}\n",
    "    for text in texts:\n",
    "        for word in text.split():\n",
    "            count[word] = count.get(word, 0) + 1\n",
    "    return count"
   ]
  },
  {
   "cell_type": "markdown",
   "source": [
    "Спустя какое-то время количество текстов на нашем сайте стало настолько большим, что поместить в память всё разом уже не получится. Однако закупать новое железо мы тоже не торопимся. Поэтому решили слегка модифицировать функцию — так, чтобы она могла читать с диска тексты по батчам (например, по 10,000 за раз) и накапливать статистику по ним."
   ],
   "metadata": {
    "collapsed": false
   },
   "id": "833da2d3eb45b1a7"
  },
  {
   "cell_type": "code",
   "execution_count": 2,
   "outputs": [],
   "source": [
    "def word_count(batch, count={}):\n",
    "    for text in batch:\n",
    "        for word in text.split():\n",
    "            count[word] = count.get(word, 0) + 1\n",
    "    return count"
   ],
   "metadata": {
    "collapsed": false,
    "ExecuteTime": {
     "end_time": "2024-10-05T19:17:01.759775500Z",
     "start_time": "2024-10-05T19:17:01.741262800Z"
    }
   },
   "id": "cb8280fb20cfc94"
  },
  {
   "cell_type": "code",
   "execution_count": null,
   "outputs": [],
   "source": [
    "import utils\n",
    "\n",
    "\n",
    "def test_word_count():\n",
    "    \"\"\"Test word count\"\"\"\n",
    "    count = utils.word_count([\"this is a test\", \"this is another test\"])\n",
    "    assert count == {\"this\": 2, \"is\": 2, \"a\": 1, \"test\": 2, \"another\": 1}\n",
    "\n",
    "\n",
    "def test_word_count_tricky():\n",
    "    \"\"\"Test tricky word count\"\"\"\n",
    "    count1 = utils.word_count([\"first test\"])\n",
    "    count2 = utils.word_count([\"second test\"])\n",
    "\n",
    "    # Ожидаем, что словари независимы.\n",
    "    assert count1 == {\"first\": 1, \"test\": 1}\n",
    "    assert count2 == {\"second\": 1, \"test\": 1}\n"
   ],
   "metadata": {
    "collapsed": false
   },
   "id": "3ea29b5e1a72f991"
  },
  {
   "cell_type": "markdown",
   "source": [
    "Отлично! Вы верно написали тест с контрпримером для функции коллеги.\n",
    "\n",
    "Действительно, наличие изменяемых дефолтных значений в аргументах ведёт к багам."
   ],
   "metadata": {
    "collapsed": false
   },
   "id": "fb5e5437d2ca0d7e"
  },
  {
   "cell_type": "code",
   "execution_count": 17,
   "outputs": [],
   "source": [
    "def word_count(batch, count=None):\n",
    "    if count is None:\n",
    "        count = {}\n",
    "    for text_group in batch:\n",
    "        for text in text_group:\n",
    "            for word in text.split():\n",
    "                count[word] = count.get(word, 0) + 1\n",
    "    return count\n"
   ],
   "metadata": {
    "collapsed": false,
    "ExecuteTime": {
     "end_time": "2024-10-05T20:12:16.291199300Z",
     "start_time": "2024-10-05T20:12:16.276188900Z"
    }
   },
   "id": "69a1b2b61815c731"
  },
  {
   "cell_type": "code",
   "execution_count": 18,
   "outputs": [
    {
     "data": {
      "text/plain": "{'a': 7, 'b': 5, 'c': 3}"
     },
     "execution_count": 18,
     "metadata": {},
     "output_type": "execute_result"
    }
   ],
   "source": [
    "word_count([['a b c', 'a b', 'a'], ['a b c', 'a b c', 'a b', 'a']])"
   ],
   "metadata": {
    "collapsed": false,
    "ExecuteTime": {
     "end_time": "2024-10-05T20:12:16.592078300Z",
     "start_time": "2024-10-05T20:12:16.587322200Z"
    }
   },
   "id": "b5e5d6d205b1e9c8"
  },
  {
   "cell_type": "code",
   "execution_count": null,
   "outputs": [],
   "source": [],
   "metadata": {
    "collapsed": false
   },
   "id": "98369412eb47d9be"
  }
 ],
 "metadata": {
  "kernelspec": {
   "display_name": "Python 3",
   "language": "python",
   "name": "python3"
  },
  "language_info": {
   "codemirror_mode": {
    "name": "ipython",
    "version": 2
   },
   "file_extension": ".py",
   "mimetype": "text/x-python",
   "name": "python",
   "nbconvert_exporter": "python",
   "pygments_lexer": "ipython2",
   "version": "2.7.6"
  }
 },
 "nbformat": 4,
 "nbformat_minor": 5
}
