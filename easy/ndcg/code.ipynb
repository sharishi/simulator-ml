{
 "cells": [
  {
   "cell_type": "code",
   "execution_count": 2,
   "id": "initial_id",
   "metadata": {
    "collapsed": true,
    "ExecuteTime": {
     "end_time": "2024-09-27T16:32:42.613823600Z",
     "start_time": "2024-09-27T16:32:42.603871500Z"
    }
   },
   "outputs": [
    {
     "data": {
      "text/plain": "np.float64(4.26)"
     },
     "execution_count": 2,
     "metadata": {},
     "output_type": "execute_result"
    }
   ],
   "source": [
    "from typing import List\n",
    "\n",
    "import numpy as np\n",
    "\n",
    "\n",
    "def cumulative_gain(relevance: List[float], k: int) -> float:\n",
    "    \"\"\"Score is cumulative gain at k (CG@k)\n",
    "\n",
    "    Parameters\n",
    "    ----------\n",
    "    relevance:  `List[float]`\n",
    "        Relevance labels (Ranks)\n",
    "    k : `int`\n",
    "        Number of elements to be counted\n",
    "\n",
    "    Returns\n",
    "    -------\n",
    "    score : float\n",
    "    \"\"\"\n",
    "    score = np.sum(relevance[:k])\n",
    "    return score\n",
    "relevance = [0.99, 0.94, 0.88, 0.74, 0.71, 0.68]\n",
    "cumulative_gain(relevance,5)"
   ]
  },
  {
   "cell_type": "code",
   "execution_count": 22,
   "outputs": [],
   "source": [
    "from typing import List\n",
    "\n",
    "import numpy as np\n",
    "\n",
    "\n",
    "def discounted_cumulative_gain(relevance: List[float], k: int, method: str = \"standard\") -> float:\n",
    "    \"\"\"Discounted Cumulative Gain\n",
    "\n",
    "    Parameters\n",
    "    ----------\n",
    "    relevance : `List[float]`\n",
    "        Video relevance list\n",
    "    k : `int`\n",
    "        Count relevance to compute\n",
    "    method : `str`, optional\n",
    "        Metric implementation method, takes the values\n",
    "        `standard` - adds weight to the denominator\n",
    "        `industry` - adds weights to the numerator and denominator\n",
    "        `raise ValueError` - for any value\n",
    "\n",
    "    Returns\n",
    "    -------\n",
    "    score : `float`\n",
    "        Metric score\n",
    "    \"\"\"\n",
    "\n",
    "    match method:\n",
    "        case 'standard':\n",
    "            score = np.sum(list(map(lambda x, i: x / np.log2(i + 2), relevance[:k], range(k))))\n",
    "        case 'industry':\n",
    "            score = np.sum(list(map(lambda x, i: (2 ** x - 1) / np.log2(i + 2), relevance[:k], range(k))))\n",
    "        case _:\n",
    "            raise ValueError\n",
    "    return score"
   ],
   "metadata": {
    "collapsed": false,
    "ExecuteTime": {
     "end_time": "2024-09-27T17:25:59.969238900Z",
     "start_time": "2024-09-27T17:25:59.958224400Z"
    }
   },
   "id": "c86c4cf4c840f3f9"
  },
  {
   "cell_type": "code",
   "execution_count": 23,
   "outputs": [
    {
     "name": "stdout",
     "output_type": "stream",
     "text": [
      "2.6164401144680056\n"
     ]
    }
   ],
   "source": [
    "print(discounted_cumulative_gain([0.99, 0.94, 0.88, 0.74, 0.71, 0.68], 5, 'standard'))"
   ],
   "metadata": {
    "collapsed": false,
    "ExecuteTime": {
     "end_time": "2024-09-27T17:26:00.512700800Z",
     "start_time": "2024-09-27T17:26:00.508172900Z"
    }
   },
   "id": "26b4a2fe616fb58b"
  },
  {
   "cell_type": "code",
   "execution_count": 24,
   "outputs": [],
   "source": [
    "def discounted_cumulative_gain(relevance: List[float], k: int, method: str = \"standard\") -> float:\n",
    "    \"\"\"Discounted Cumulative Gain\n",
    "\n",
    "    Parameters\n",
    "    ----------\n",
    "    relevance : `List[float]`\n",
    "        Video relevance list\n",
    "    k : `int`\n",
    "        Count relevance to compute\n",
    "    method : `str`, optional\n",
    "        Metric implementation method, takes the values\n",
    "        `standard` - adds weight to the denominator\n",
    "        `industry` - adds weights to the numerator and denominator\n",
    "        `raise ValueError` - for any value\n",
    "\n",
    "    Returns\n",
    "    -------\n",
    "    score : `float`\n",
    "        Metric score\n",
    "    \"\"\"\n",
    "\n",
    "    if method == 'standard':\n",
    "        score = np.sum(list(map(lambda x, i: x / np.log2(i + 2), relevance[:k], range(k))))\n",
    "    elif method == 'industry':\n",
    "        score = np.sum(list(map(lambda x, i: (2 ** x - 1) / np.log2(i + 2), relevance[:k], range(k))))\n",
    "    else:\n",
    "        raise ValueError\n",
    "    return score\n"
   ],
   "metadata": {
    "collapsed": false,
    "ExecuteTime": {
     "end_time": "2024-09-27T17:40:30.035604100Z",
     "start_time": "2024-09-27T17:40:30.029595100Z"
    }
   },
   "id": "180932cdd565e47c"
  },
  {
   "cell_type": "code",
   "execution_count": 1,
   "outputs": [],
   "source": [
    "from typing import List\n",
    "import numpy as np\n",
    "\n",
    "\n",
    "def compute_dcg(relevance: List[float], k: int, method: str) -> float:\n",
    "    \"\"\"Compute Discounted Cumulative Gain (DCG)\n",
    "\n",
    "    Parameters\n",
    "    ----------\n",
    "    relevance : List[float]\n",
    "        Relevance scores\n",
    "    method : str\n",
    "        Metric implementation method\n",
    "\n",
    "    Returns\n",
    "    -------\n",
    "    float\n",
    "        DCG score\n",
    "    \"\"\"\n",
    "    relevance = np.array(relevance[:min(k, len(relevance))])\n",
    "\n",
    "    if method == \"standard\":\n",
    "        return np.sum(relevance / np.log2(np.arange(2, k + 2)))\n",
    "    elif method == \"industry\":\n",
    "        return np.sum((np.power(2, relevance) - 1) / np.log2(np.arange(2, k + 2)))\n",
    "    else:\n",
    "        raise ValueError\n",
    "\n",
    "\n",
    "def compute_idcg(relevance: List[float], k: int, method: str) -> float:\n",
    "    \"\"\"Compute Ideal Discounted Cumulative Gain (iDCG)\n",
    "\n",
    "    Parameters\n",
    "    ----------\n",
    "    relevance : List[float]\n",
    "        Relevance scores\n",
    "    method : str\n",
    "        Metric implementation method\n",
    "\n",
    "    Returns\n",
    "    -------\n",
    "    float\n",
    "        iDCG score\n",
    "    \"\"\"\n",
    "    sorted_relevance = sorted(relevance, reverse=True)\n",
    "    return compute_dcg(sorted_relevance, k, method)\n",
    "\n",
    "\n",
    "def normalized_dcg(relevance: List[float], k: int, method: str = \"standard\") -> float:\n",
    "    \"\"\"Normalized Discounted Cumulative Gain\n",
    "\n",
    "    Parameters\n",
    "    ----------\n",
    "    relevance : List[float]\n",
    "        Video relevance list\n",
    "    k : int\n",
    "        Count relevance to compute\n",
    "    method : str, optional\n",
    "        Metric implementation method\n",
    "\n",
    "    Returns\n",
    "    -------\n",
    "    float\n",
    "        Metric score\n",
    "    \"\"\"\n",
    "    if k <= 0:\n",
    "        return 0.0\n",
    "\n",
    "    if len(relevance) == 0:\n",
    "        return 0.0\n",
    "\n",
    "    dcg = compute_dcg(relevance,k, method)\n",
    "    idcg = compute_idcg(relevance,k, method)\n",
    "\n",
    "    return dcg / idcg if idcg > 0 else 0.0\n"
   ],
   "metadata": {
    "collapsed": false,
    "ExecuteTime": {
     "end_time": "2024-10-01T07:17:52.036270700Z",
     "start_time": "2024-10-01T07:17:51.614389300Z"
    }
   },
   "id": "5b254694982e2ba8"
  },
  {
   "cell_type": "code",
   "execution_count": 2,
   "outputs": [
    {
     "name": "stdout",
     "output_type": "stream",
     "text": [
      "1.0\n"
     ]
    }
   ],
   "source": [
    "print(normalized_dcg([0.99, 0.94, 0.88, 0.74, 0.71, 0.68], 5, 'standard'))"
   ],
   "metadata": {
    "collapsed": false,
    "ExecuteTime": {
     "end_time": "2024-10-01T07:17:52.040839700Z",
     "start_time": "2024-10-01T07:17:52.037269300Z"
    }
   },
   "id": "25e69feb36ef0339"
  },
  {
   "cell_type": "code",
   "execution_count": 3,
   "outputs": [],
   "source": [
    "def avg_ndcg(list_relevances: List[List[float]], k: int, method: str = 'standard') -> float:\n",
    "    \"\"\"average nDCG\n",
    "\n",
    "    Parameters\n",
    "    ----------\n",
    "    list_relevances : List[List[float]]\n",
    "        Video relevance matrix for various queries\n",
    "    k : int\n",
    "        Count relevance to compute\n",
    "    method : str, optional\n",
    "        Metric implementation method, takes the values\\\n",
    "        standard - adds weight to the denominator\\\n",
    "        industry - adds weights to the numerator and denominator\\\n",
    "        raise ValueError - for any value\n",
    "\n",
    "    Returns\n",
    "    -------\n",
    "    score : float\n",
    "        Metric score\n",
    "    \"\"\"\n",
    "    sum = 0\n",
    "    if len(list_relevances) == 0:\n",
    "        return 0.0\n",
    "    for one_list in list_relevances:\n",
    "        sum += normalized_dcg(one_list, k, method)\n",
    "\n",
    "    return sum/len(list_relevances)"
   ],
   "metadata": {
    "collapsed": false,
    "ExecuteTime": {
     "end_time": "2024-10-01T07:17:58.068081100Z",
     "start_time": "2024-10-01T07:17:58.061567900Z"
    }
   },
   "id": "58ed102b528e63fa"
  },
  {
   "cell_type": "code",
   "execution_count": null,
   "outputs": [],
   "source": [],
   "metadata": {
    "collapsed": false
   },
   "id": "397cd55f93ac6461"
  }
 ],
 "metadata": {
  "kernelspec": {
   "display_name": "Python 3",
   "language": "python",
   "name": "python3"
  },
  "language_info": {
   "codemirror_mode": {
    "name": "ipython",
    "version": 2
   },
   "file_extension": ".py",
   "mimetype": "text/x-python",
   "name": "python",
   "nbconvert_exporter": "python",
   "pygments_lexer": "ipython2",
   "version": "2.7.6"
  }
 },
 "nbformat": 4,
 "nbformat_minor": 5
}
