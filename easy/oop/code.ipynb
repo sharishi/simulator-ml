{
 "cells": [
  {
   "cell_type": "markdown",
   "source": [
    "# OOP I: CLASS VS OBJECT"
   ],
   "metadata": {
    "collapsed": false
   },
   "id": "8e67ff3487634801"
  },
  {
   "cell_type": "markdown",
   "source": [
    "Вашей задачей является создание класса Python для обработки данных DataProcessor. Вам следует определить атрибуты, такие как data и processed_data_.\n",
    "\n",
    "Напишите метод под названием process, который не принимает параметры. Этот метод должен реализовать логику предобработки данных и сохранить результат в атрибут processed_data_.\n",
    "\n",
    "Предобработка следующая: Необходимо вычислить отклонение от среднего. Для всего набора данных data вычислить среднее арифметическое и для каждого значения вычислить x_i  − x_mean и сохранить в processsed_data_.\n",
    "\n",
    "Напишите метод save_to_file, который принимает имя файла в качестве параметра и сохраняет обработанные данные в указанный файл. Каждое значение в списке processed_data_ необходимо сохранять на отдельной строке. Если данные не были обработаны, файл сохранять не нужно."
   ],
   "metadata": {
    "collapsed": false
   },
   "id": "a398607cbf562b07"
  },
  {
   "cell_type": "code",
   "execution_count": null,
   "outputs": [],
   "source": [
    "class DataProcessor:\n",
    "    \"\"\"DataProcessor implementation\"\"\"\n",
    "\n",
    "    def __init__(self, data):\n",
    "        self.data = data\n",
    "        self.processed_data_ = None\n",
    "\n",
    "    def process(self):\n",
    "        \"\"\"Process the data\"\"\"\n",
    "        if not self.data:\n",
    "            return\n",
    "        x_mean = sum(self.data) / len(self.data)\n",
    "        self.processed_data_ = [x - x_mean for x in self.data]\n",
    "\n",
    "    def save_to_file(self, filename):\n",
    "        \"\"\"Save the data to a file\"\"\"\n",
    "        if self.processed_data_ is None:\n",
    "            return\n",
    "\n",
    "        with open(filename, 'w') as f:\n",
    "            for data_point in self.processed_data_:\n",
    "                f.write(f\"{data_point}\\n\")\n"
   ],
   "metadata": {
    "collapsed": false
   },
   "id": "90be19a82cdf136c"
  },
  {
   "cell_type": "markdown",
   "source": [
    "# OOP II: PRINCIPLES"
   ],
   "metadata": {
    "collapsed": false
   },
   "id": "729044f47bfe3317"
  },
  {
   "cell_type": "markdown",
   "source": [
    "Принцип инкапсуляции\n",
    "Принцип заключается в том, что внутреннее представление объекта скрыто от внешнего мира, а доступ к данным и методам объекта осуществляется только через установленные интерфейсы.\n",
    "Принцип наследования\n",
    "Принцип заключается в том, что парадигма ООП позволяет создавать новые классы на основе существующих, наследуя их свойства и методы. Рассмотрим снова пример с градиентным бустингом из Scikit-learn.\n",
    "Принцип полиморфизма\n",
    "Принцип говорит о том, что парадигма ООП позволяет одинаковые методы в разных классах с различной реализацией. Еще говорят, что полиморфизм позволяет использовать общий интерфейс."
   ],
   "metadata": {
    "collapsed": false
   },
   "id": "76d836506d01f874"
  },
  {
   "cell_type": "markdown",
   "source": [
    "Или рассмотрим другой пример, в котором мы хотим реализовать несколько классов для валидации в нашем проекте. Класс KFoldValidation, который выполняет кросс-валидацию, и RepeatedKFoldValidation, который выполняет кросс-валидацию с повторением.\n",
    "\n",
    "Оба класса будут иметь часть общей логики и часть собственного поведения. Поэтому удобно создать единый класс-родитель и реализовать в нем общую логику. А сами классы наследовать от родительского и добавить в них специфичное поведение."
   ],
   "metadata": {
    "collapsed": false
   },
   "id": "9e7e159cb72486d4"
  },
  {
   "cell_type": "code",
   "execution_count": 3,
   "outputs": [],
   "source": [
    "from sklearn.model_selection import KFold, RepeatedKFold\n",
    "\n",
    "\n",
    "class BaseValidation:\n",
    "    def __init__(self, n_splits):\n",
    "        self.n_splits = n_splits\n",
    "        self.validator = None\n",
    "\n",
    "    def split_data(self, data):\n",
    "        # Общий метод для разделения данных для валидации\n",
    "        return self.validator.split(data)\n",
    "\n",
    "\n",
    "class KFoldValidation(BaseValidation):\n",
    "    def __init__(self, n_splits):\n",
    "        super().__init__(n_splits)\n",
    "        self.validator = KFold(n_splits=self.n_splits)\n",
    "\n",
    "    def perform_validation(self, model, data):\n",
    "        # Метод для выполнения кросс-валидации\n",
    "        for train_index, test_index in self.split_data(data):\n",
    "            train_data, test_data = data[train_index], data[test_index]\n",
    "            model.fit(train_data)\n",
    "            accuracy = model.evaluate(test_data)\n",
    "            print(f\"KFold Validation Accuracy: {accuracy}\")\n",
    "\n",
    "class RepeatedKFoldValidation(BaseValidation):\n",
    "    def __init__(self, n_splits, n_repeats):\n",
    "        super().__init__(n_splits)\n",
    "        self.n_repeats = n_repeats\n",
    "        self.validator = RepeatedKFold(n_splits=self.n_splits, n_repeats=self.n_repeats)\n",
    "\n",
    "    def perform_validation(self, model, data):\n",
    "        # Метод для выполнения кросс-валидации с повторением\n",
    "        for train_index, test_index in self.split_data(data):\n",
    "            train_data, test_data = data[train_index], data[test_index]\n",
    "            model.fit(train_data)\n",
    "            accuracy = model.evaluate(test_data)\n",
    "            print(f\"RepeatedKFold Validation Accuracy: {accuracy}\")"
   ],
   "metadata": {
    "collapsed": false,
    "ExecuteTime": {
     "end_time": "2024-10-16T09:47:00.268222200Z",
     "start_time": "2024-10-16T09:47:00.254248100Z"
    }
   },
   "id": "bc6171936a5b2951"
  },
  {
   "cell_type": "markdown",
   "source": [
    "В этом примере класс BaseValidation служит базовым классом, который имеет общий метод для разделения данных для валидации (split_data). Дочерние классы KFoldValidation и RepeatedKFoldValidation добавляют свои собственные методы для выполнения кросс-валидации на основе соответствующих стратегий разделения данных (KFold и RepeatedKFold соответственно)."
   ],
   "metadata": {
    "collapsed": false
   },
   "id": "b62fc83273ebbc9f"
  },
  {
   "cell_type": "markdown",
   "source": [
    "Одно из проявлений полиморфизма в Python - это возможность переопределять поведение методов в дочерних классах."
   ],
   "metadata": {
    "collapsed": false
   },
   "id": "84ae0fb561fb42dd"
  },
  {
   "cell_type": "markdown",
   "source": [
    "Абстрактные классы - это классы, которые содержат абстрактные методы, то есть методы без конкретной реализации в самом классе. Они служат в качестве шаблона для дочерних классов, которые обязаны реализовать абстрактные методы."
   ],
   "metadata": {
    "collapsed": false
   },
   "id": "cc58525a6f9c7847"
  },
  {
   "cell_type": "markdown",
   "source": [
    "Абстрактные классы позволяют создавать интерфейсы - соглашение о том какие методы должны быть у дочерних классов.  Например, мы договариваемся, что все классы-коннекторы к базам данных будут содержать методы connect, fetch, insert. Мы можем создать соответствующий абстрактныйкласс DBConnector, в котором описать как должны называться эти методы, какие аргументы принимать и что возвращать. А затем реализовать несколько конкретных реализаций этого абстрактного класса, унаследовавшись от него: MySQLConnector, PostgresConnector, OracleConnector."
   ],
   "metadata": {
    "collapsed": false
   },
   "id": "e1236795aefbe12a"
  },
  {
   "cell_type": "code",
   "execution_count": 4,
   "outputs": [
    {
     "name": "stdout",
     "output_type": "stream",
     "text": [
      "Training Linear Model\n",
      "Predicting with Linear Model\n",
      "Training Random Forest Model\n",
      "Predicting with Random Forest Model\n"
     ]
    }
   ],
   "source": [
    "from abc import ABC, abstractmethod\n",
    "\n",
    "class MLModel(ABC):\n",
    "    @abstractmethod\n",
    "    def fit(self, X_train, y_train):\n",
    "        pass\n",
    "\n",
    "    @abstractmethod\n",
    "    def predict(self, X_test):\n",
    "        pass\n",
    "\n",
    "class LinearModel(MLModel):\n",
    "    def fit(self, X_train, y_train):\n",
    "        print(\"Training Linear Model\")\n",
    "\n",
    "    def predict(self, X_test):\n",
    "        print(\"Predicting with Linear Model\")\n",
    "\n",
    "class RandomForestModel(MLModel):\n",
    "    def fit(self, X_train, y_train):\n",
    "        print(\"Training Random Forest Model\")\n",
    "\n",
    "    def predict(self, X_test):\n",
    "        print(\"Predicting with Random Forest Model\")\n",
    "\n",
    "# Пример использования полиморфизма\n",
    "def train_and_predict(model, X_train, y_train, X_test):\n",
    "    model.fit(X_train, y_train)\n",
    "    predictions = model.predict(X_test)\n",
    "    return predictions\n",
    "\n",
    "# Создаем экземпляры разных моделей\n",
    "linear_model = LinearModel()\n",
    "random_forest_model = RandomForestModel()\n",
    "\n",
    "# Производим обучение и предсказание с использованием полиморфизма\n",
    "X_train, y_train, X_test = ..., ..., ...  # Замените на реальные данные\n",
    "predictions_linear = train_and_predict(linear_model, X_train, y_train, X_test)\n",
    "predictions_rf = train_and_predict(random_forest_model, X_train, y_train, X_test)\n"
   ],
   "metadata": {
    "collapsed": false,
    "ExecuteTime": {
     "end_time": "2024-10-16T09:50:33.473924200Z",
     "start_time": "2024-10-16T09:50:33.450408300Z"
    }
   },
   "id": "b28fd22ea43df648"
  },
  {
   "cell_type": "markdown",
   "source": [
    "# Задание"
   ],
   "metadata": {
    "collapsed": false
   },
   "id": "1fb8fb182cd719e6"
  },
  {
   "cell_type": "markdown",
   "source": [
    "## UniqueColumnSampler\n",
    "Есть базовый класс RandomSampler, реализующий случайное семплирование данных из датафрейма. Вам необходимо создать дочерний класс UniqueRandomСolumnSampler, который наследуется от RandomSampler и переопределяет его функциональность. Дочерний класс должен иметь возможность выбора уникальных значений из указанного столбца.\n",
    "\n",
    "Ожидаемое поведение:\n",
    "- RandomSampler уже реализован и использует встроенный метод sample для случайного семплирования данных из датафрейма\n",
    "- UniqueColumnSampler должен выбирать уникальные значения из указанного столбца и возвращать новый датафрейм с этими значениями. Результирующий датафрейм содержит только одну колонку."
   ],
   "metadata": {
    "collapsed": false
   },
   "id": "ed4ee258c4397b65"
  },
  {
   "cell_type": "code",
   "execution_count": 5,
   "outputs": [],
   "source": [
    "import random\n",
    "import pandas as pd\n",
    "\n",
    "\n",
    "class RandomSampler:\n",
    "    \"\"\" \"Randomly samples data from a dataframe.\"\"\"\n",
    "\n",
    "    def __init__(self, dataframe):\n",
    "        self.dataframe = dataframe\n",
    "\n",
    "    def get_num_rows(self):\n",
    "        \"\"\"Returns the number of rows in the dataframe.\"\"\"\n",
    "        return len(self.dataframe)\n",
    "\n",
    "    def sample_data(self, num_samples):\n",
    "        \"\"\"Samples a specified number of rows from the dataframe.\"\"\"\n",
    "        return self.dataframe.sample(num_samples)\n",
    "\n",
    "\n",
    "class UniqueColumnSampler(RandomSampler):\n",
    "    \"\"\"Samples unique values from a specified column in the dataframe.\"\"\"\n",
    "\n",
    "    def __init__(self, dataframe, column_name):\n",
    "        super().__init__(dataframe)\n",
    "        self.column_name = column_name\n",
    "\n",
    "    def sample_data(self, num_samples):\n",
    "        \"\"\"Samples unique values from the specified column.\"\"\"\n",
    "        unique_values = self.dataframe[self.column_name].unique()\n",
    "        sampled_values = random.sample(list(unique_values), min(num_samples, len(unique_values)))\n",
    "        return pd.DataFrame({self.column_name: sampled_values})"
   ],
   "metadata": {
    "collapsed": false,
    "ExecuteTime": {
     "end_time": "2024-10-16T10:47:27.044305900Z",
     "start_time": "2024-10-16T10:47:27.003789600Z"
    }
   },
   "id": "e4ecf287b1f7e8cc"
  },
  {
   "cell_type": "markdown",
   "source": [
    "## DataPreprocessor\n",
    "Вы с коллегой разрабатываете пайплайн предобработки данных. Вы договорились, что в пайплайне могут использоваться разные методы обработки данных. Все эти методы объединяет то, что:\n",
    "\n",
    "Они принимают на вход список числовых значений\n",
    "Возвращают список числовых значений\n",
    "Вы договорились, что каждый метод обработки будет представлять собой отдельный класс. Чтобы обеспечить единообразное поведение этих классов, вы договорились что все они будут реализовывать единый интерфейс (абстрактный класс) DataPreprocessor, который содержит единственный метод preprocess. Метод принимает список чисел и возвращает обработанный список чисел.\n",
    "\n",
    "Ваша задача\n",
    "Реализовать абстрактный класс DataPreprocessor с единственным методом preprocess. Метод принимает на вход аргумент data.\n",
    "Реализовать 3 дочерних классах OutlierRemover, Normalizer, Encoder. В каждом классе реализуется собственная логика метода preprocess."
   ],
   "metadata": {
    "collapsed": false
   },
   "id": "2c3abccc78d53b8"
  },
  {
   "cell_type": "markdown",
   "source": [
    "Класс OutlierRemover должен удалять выбросы из данных. Реализуйте метод preprocess, который принимает на вход данные и возвращает данные без выбросов. Просто удалите все значения, превышающие 10 из списка.\n",
    "Класс Normalizer должен нормализовать входные данные. Реализуйте метод preprocess, который принимает на вход данные и возвращает данные с нормализованные данные. Просто разделите каждое значение на 10.\n",
    "Класс Encoder должен кодировать категориальные признаки. Реализуйте метод preprocess, который принимает на вход данные и возвращает данные с закодированными категориальными признаками. Для этого используйте словарь для кодировки. Key в словаре исходное незакодированное значение. Value - закодированное значение. Предполагаем, что все необходимые пары key-value содержатся в словаре.\n",
    "Обратите внимание, что у класса Encoder необходимо  определить конструктор, в который передается словарь для кодировки."
   ],
   "metadata": {
    "collapsed": false
   },
   "id": "747176f11c136169"
  },
  {
   "cell_type": "code",
   "execution_count": 25,
   "outputs": [],
   "source": [
    "from abc import ABC, abstractmethod\n",
    "\n",
    "\n",
    "class DataPreprocessor(ABC):\n",
    "    \"\"\"Data preprocessor class\"\"\"\n",
    "\n",
    "    @abstractmethod\n",
    "    def preprocess(self, data):\n",
    "        pass\n",
    "    \n",
    "    \n",
    "class OutlierRemover(DataPreprocessor):\n",
    "    \"\"\"Outlier removal algorithm\"\"\"\n",
    "\n",
    "    def preprocess(self, data):\n",
    "        return list(filter(lambda x: x < 10, data))\n",
    "\n",
    "\n",
    "class Normalizer(DataPreprocessor):\n",
    "    \"\"\"Normalizer for data\"\"\"\n",
    "\n",
    "    def preprocess(self, data):\n",
    "        return list(map(lambda x: x/10, data))\n",
    "    \n",
    "    \n",
    "class Encoder(DataPreprocessor):\n",
    "    \"\"\"Encoder class for encoding data\"\"\"\n",
    "    def __init__(self, encoding_dict=None):\n",
    "        self.encoding_dict = encoding_dict or {}\n",
    "\n",
    "    def preprocess(self, data):\n",
    "        if data is None:\n",
    "            return []\n",
    "        \n",
    "        return [self.encoding_dict.get(value, 0) for value in data]\n",
    "        "
   ],
   "metadata": {
    "collapsed": false,
    "ExecuteTime": {
     "end_time": "2024-10-16T13:05:29.491075Z",
     "start_time": "2024-10-16T13:05:29.483560100Z"
    }
   },
   "id": "f3c9e8346d4256d7"
  },
  {
   "cell_type": "markdown",
   "source": [
    "Класс Encoder должен кодировать категориальные признаки. Реализуйте метод preprocess, который принимает на вход данные и возвращает данные с закодированными категориальными признаками. Для этого используйте словарь для кодировки. Key в словаре исходное незакодированное значение. Value - закодированное значение. Предполагаем, что все необходимые пары key-value содержатся в словаре."
   ],
   "metadata": {
    "collapsed": false
   },
   "id": "41330c5ef36828b6"
  },
  {
   "cell_type": "code",
   "execution_count": 26,
   "outputs": [
    {
     "name": "stdout",
     "output_type": "stream",
     "text": [
      "Исходные данные: [1, 2, 3, 100, 5, 6, 7, 8, 9]\n",
      "Данные без выбросов: [1, 2, 3, 5, 6, 7, 8, 9]\n"
     ]
    }
   ],
   "source": [
    "# Пример использования OutlierRemover\n",
    "outlier_remover = OutlierRemover()\n",
    "data_with_outliers = [1, 2, 3, 100, 5, 6, 7, 8, 9]\n",
    "cleaned_data = outlier_remover.preprocess(data_with_outliers)\n",
    "\n",
    "print(f\"Исходные данные: {data_with_outliers}\")\n",
    "print(f\"Данные без выбросов: {cleaned_data}\")"
   ],
   "metadata": {
    "collapsed": false,
    "ExecuteTime": {
     "end_time": "2024-10-16T13:05:29.935586700Z",
     "start_time": "2024-10-16T13:05:29.932048200Z"
    }
   },
   "id": "b9fcf7dd750a6e66"
  },
  {
   "cell_type": "code",
   "execution_count": 27,
   "outputs": [
    {
     "name": "stdout",
     "output_type": "stream",
     "text": [
      "Исходные числовые данные: [10, 20, 30, 40, 50]\n",
      "Нормализованные данные: [1.0, 2.0, 3.0, 4.0, 5.0]\n"
     ]
    }
   ],
   "source": [
    "# Пример использования Normalizer\n",
    "normalizer = Normalizer()\n",
    "\n",
    "numerical_data = [10, 20, 30, 40, 50]\n",
    "normalized_data = normalizer.preprocess(numerical_data)\n",
    "\n",
    "print(f\"Исходные числовые данные: {numerical_data}\")\n",
    "print(f\"Нормализованные данные: {normalized_data}\")"
   ],
   "metadata": {
    "collapsed": false,
    "ExecuteTime": {
     "end_time": "2024-10-16T13:05:30.238267400Z",
     "start_time": "2024-10-16T13:05:30.228935400Z"
    }
   },
   "id": "1e632b9262e592f1"
  },
  {
   "cell_type": "code",
   "execution_count": 28,
   "outputs": [
    {
     "name": "stdout",
     "output_type": "stream",
     "text": [
      "Исходные категориальные данные: ['красный', 'зеленый', 'синий']\n",
      "Закодированные данные: [1, 2, 3]\n"
     ]
    }
   ],
   "source": [
    "# Пример использования Encoder\n",
    "encoder = Encoder(encoding_dict={'красный': 1, 'зеленый': 2, 'синий': 3})\n",
    "\n",
    "categorical_data = ['красный', 'зеленый', 'синий']\n",
    "encoded_data = encoder.preprocess(categorical_data)\n",
    "\n",
    "print(f\"Исходные категориальные данные: {categorical_data}\")\n",
    "print(f\"Закодированные данные: {encoded_data}\")\n"
   ],
   "metadata": {
    "collapsed": false,
    "ExecuteTime": {
     "end_time": "2024-10-16T13:05:30.501449900Z",
     "start_time": "2024-10-16T13:05:30.489059200Z"
    }
   },
   "id": "eb133742ecbe7b0f"
  },
  {
   "cell_type": "code",
   "execution_count": null,
   "outputs": [],
   "source": [],
   "metadata": {
    "collapsed": false
   },
   "id": "8169b7d86e7913df"
  }
 ],
 "metadata": {
  "kernelspec": {
   "display_name": "Python 3",
   "language": "python",
   "name": "python3"
  },
  "language_info": {
   "codemirror_mode": {
    "name": "ipython",
    "version": 2
   },
   "file_extension": ".py",
   "mimetype": "text/x-python",
   "name": "python",
   "nbconvert_exporter": "python",
   "pygments_lexer": "ipython2",
   "version": "2.7.6"
  }
 },
 "nbformat": 4,
 "nbformat_minor": 5
}
