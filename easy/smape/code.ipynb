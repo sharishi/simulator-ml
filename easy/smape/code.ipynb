{
 "cells": [
  {
   "cell_type": "markdown",
   "source": [
    "# Задача"
   ],
   "metadata": {
    "collapsed": false
   },
   "id": "dec7ea6dbe228ee5"
  },
  {
   "cell_type": "markdown",
   "source": [
    "Два месяца назад ваш коллега во время своей стажировки написал sMAPE, который корректно работал в продакшене всё это время, однако периодически метрика выдаёт ошибку, а вы теряете информацию. К сожалению, логи ошибки нам недоступны.\n",
    "\n",
    "Вы взялись помочь исправить случаи, когда данный код выдаёт ошибку, и исправить функцию, если она вызывает ошибки, не меняя поведение метрики в остальных ситуациях.\n",
    "\n",
    "Гарантируется, что y_true и y_pred – одинаковой длины."
   ],
   "metadata": {
    "collapsed": false
   },
   "id": "d74ec5961c8a8b6c"
  },
  {
   "cell_type": "code",
   "execution_count": 4,
   "id": "initial_id",
   "metadata": {
    "collapsed": true,
    "ExecuteTime": {
     "end_time": "2024-09-20T18:50:01.740913600Z",
     "start_time": "2024-09-20T18:50:01.737392300Z"
    }
   },
   "outputs": [],
   "source": [
    "import numpy as np\n",
    "\n",
    "\n",
    "def smape(y_true: np.array, y_pred: np.array) -> float:\n",
    "    return np.mean(2 * np.abs(y_true - y_pred) / (np.abs(y_true) + np.abs(y_pred)))"
   ]
  },
  {
   "cell_type": "code",
   "execution_count": 5,
   "outputs": [
    {
     "data": {
      "text/plain": "np.float64(1.9603960396039604)"
     },
     "execution_count": 5,
     "metadata": {},
     "output_type": "execute_result"
    }
   ],
   "source": [
    "smape(np.array([0.5]),np.array([50]))"
   ],
   "metadata": {
    "collapsed": false,
    "ExecuteTime": {
     "end_time": "2024-09-20T18:50:02.234948Z",
     "start_time": "2024-09-20T18:50:02.227370900Z"
    }
   },
   "id": "fb0015320af8f220"
  },
  {
   "cell_type": "markdown",
   "source": [
    "## Another variant of this function"
   ],
   "metadata": {
    "collapsed": false
   },
   "id": "95b0564906e6b90"
  },
  {
   "cell_type": "markdown",
   "source": [
    "SMAPE = (1/n) * Σ(|прогноз – фактический| / ((|фактический| + |прогноз|)/2) * 100"
   ],
   "metadata": {
    "collapsed": false
   },
   "id": "738581ee27f07b40"
  },
  {
   "cell_type": "code",
   "execution_count": 33,
   "outputs": [],
   "source": [
    "def smape(y_true: np.array, y_pred: np.array) -> float:\n",
    "    return 1/len(y_true) * np.sum(np.abs(y_pred - y_true)/np.abs((y_true - y_pred)/2))*100"
   ],
   "metadata": {
    "collapsed": false,
    "ExecuteTime": {
     "end_time": "2024-09-20T19:16:26.284937900Z",
     "start_time": "2024-09-20T19:16:26.278424400Z"
    }
   },
   "id": "af593479ef0b1a23"
  },
  {
   "cell_type": "code",
   "execution_count": 34,
   "outputs": [
    {
     "data": {
      "text/plain": "np.float64(200.0)"
     },
     "execution_count": 34,
     "metadata": {},
     "output_type": "execute_result"
    }
   ],
   "source": [
    "smape(np.array([0.5]),np.array([50]))"
   ],
   "metadata": {
    "collapsed": false,
    "ExecuteTime": {
     "end_time": "2024-09-20T19:16:26.646307400Z",
     "start_time": "2024-09-20T19:16:26.638680200Z"
    }
   },
   "id": "8d562b1625e4a3eb"
  },
  {
   "cell_type": "markdown",
   "source": [
    "And interestingly enough, it gives us a different answer)"
   ],
   "metadata": {
    "collapsed": false
   },
   "id": "d8c6ad0b7a76f92"
  },
  {
   "cell_type": "markdown",
   "source": [
    "# My solution"
   ],
   "metadata": {
    "collapsed": false
   },
   "id": "1aba6953f98adbbf"
  },
  {
   "cell_type": "code",
   "execution_count": 40,
   "outputs": [],
   "source": [
    "import numpy as np\n",
    "\n",
    "def smape(y_true: np.array, y_pred: np.array) -> float:\n",
    "\n",
    "\n",
    "\n",
    "    den = np.abs(y_true) + np.abs(y_pred)\n",
    "    \n",
    "    \n",
    "    den =                   np.where(den == 0, 1, den)\n",
    "    \n",
    "    return np.mean(2 * np.abs(y_true - y_pred) / den)"
   ],
   "metadata": {
    "collapsed": false,
    "ExecuteTime": {
     "end_time": "2024-09-20T19:19:11.219291500Z",
     "start_time": "2024-09-20T19:19:11.209071200Z"
    }
   },
   "id": "b1fad3ff840ccc18"
  },
  {
   "cell_type": "code",
   "execution_count": 38,
   "outputs": [
    {
     "data": {
      "text/plain": "np.float64(1.9603960396039604)"
     },
     "execution_count": 38,
     "metadata": {},
     "output_type": "execute_result"
    }
   ],
   "source": [
    "smape(np.array([0.5]),np.array([50]))"
   ],
   "metadata": {
    "collapsed": false,
    "ExecuteTime": {
     "end_time": "2024-09-20T19:18:51.272735600Z",
     "start_time": "2024-09-20T19:18:51.264946Z"
    }
   },
   "id": "9c94650e707efc06"
  },
  {
   "cell_type": "code",
   "execution_count": null,
   "outputs": [],
   "source": [],
   "metadata": {
    "collapsed": false
   },
   "id": "f5e8ad1a2016815c"
  }
 ],
 "metadata": {
  "kernelspec": {
   "display_name": "Python 3",
   "language": "python",
   "name": "python3"
  },
  "language_info": {
   "codemirror_mode": {
    "name": "ipython",
    "version": 2
   },
   "file_extension": ".py",
   "mimetype": "text/x-python",
   "name": "python",
   "nbconvert_exporter": "python",
   "pygments_lexer": "ipython2",
   "version": "2.7.6"
  }
 },
 "nbformat": 4,
 "nbformat_minor": 5
}
