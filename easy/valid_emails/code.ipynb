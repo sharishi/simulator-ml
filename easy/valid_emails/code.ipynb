{
 "cells": [
  {
   "cell_type": "markdown",
   "source": [
    "# Задача"
   ],
   "metadata": {
    "collapsed": false
   },
   "id": "31befb6f36fe1d22"
  },
  {
   "cell_type": "markdown",
   "source": [
    "Вашей команде поручили заняться разработкой сервиса для автоматического отлова ботов и предотвращения DDoS-атак. Для регистрации на сайте необходимо указать email-адрес. Не всегда указанный набор символов является корректным email.\n",
    "\n",
    "Вашему коллеге-стажёру поручили выполнить это маленькое задание, в результате чего был разработан код, приведённый ниже:"
   ],
   "metadata": {
    "collapsed": false
   },
   "id": "b6016b0da961761f"
  },
  {
   "cell_type": "markdown",
   "source": [
    "```python\n",
    "import re\n",
    "from typing import List\n",
    "\n",
    "\n",
    "def valid_emails(strings: List[str]) -> List[str]:\n",
    "    \"\"\"Take list of potential emails and returns only valid ones\"\"\"\n",
    "\n",
    "    valid_email_regex = r\"^[a-zA-Z0-9_.+-]+@[a-zA-Z0-9-]+\\.[a-zA-Z]{2,}$\"\n",
    "\n",
    "    def is_valid_email(email: str) -> bool:\n",
    "        return bool(re.fullmatch(valid_email_regex, email))\n",
    "\n",
    "    emails = []\n",
    "    for email in strings:\n",
    "        if is_valid_email(email):\n",
    "            emails.append(email)\n",
    "\n",
    "    return emails\n",
    "```"
   ],
   "metadata": {
    "collapsed": false
   },
   "id": "8d63f541b3025303"
  },
  {
   "cell_type": "markdown",
   "source": [
    "Код работает корректно и полностью решает задачу, но после ревью TeamLead`а остались комментарии о том, что его можно ускорить минимум в 2 раза, буквально поменяв две строчки, а какие он не сказал)"
   ],
   "metadata": {
    "collapsed": false
   },
   "id": "3fed408af14727b2"
  },
  {
   "cell_type": "code",
   "execution_count": 3,
   "outputs": [],
   "source": [
    "import re\n",
    "from typing import List\n",
    "\n",
    "\n",
    "def valid_emails(strings: List[str]) -> List[str]:\n",
    "    \"\"\"Take list of potential emails and returns only valid ones\"\"\"\n",
    "\n",
    "    valid_email_regex = r\"^[a-zA-Z0-9_.+-]+@[a-zA-Z0-9-]+\\.[a-zA-Z]{2,}$\"\n",
    "\n",
    "    def is_valid_email(email: str) -> bool:\n",
    "        return bool(re.fullmatch(valid_email_regex, email))\n",
    "\n",
    "    emails = []\n",
    "    for email in strings:\n",
    "        if is_valid_email(email):\n",
    "            emails.append(email)\n",
    "\n",
    "    return emails\n"
   ],
   "metadata": {
    "collapsed": false,
    "ExecuteTime": {
     "end_time": "2024-09-23T08:59:36.035444600Z",
     "start_time": "2024-09-23T08:59:36.033436900Z"
    }
   },
   "id": "8e26c6f6c58132bf"
  },
  {
   "cell_type": "markdown",
   "source": [
    "# Решение"
   ],
   "metadata": {
    "collapsed": false
   },
   "id": "a2c1c3d2e5f21983"
  },
  {
   "cell_type": "code",
   "execution_count": null,
   "outputs": [],
   "source": [
    "import re\n",
    "from typing import List\n",
    "\n",
    "def valid_emails(strings: List[str]) -> List[str]:\n",
    "    \"\"\"Take list of potential emails and returns only valid ones\"\"\"\n",
    "    \n",
    "    valid_email_regex = re.compile(r\"^[a-zA-Z0-9_.+-]+@[a-zA-Z0-9-]+\\.[a-zA-Z]{2,}$\")\n",
    "\n",
    "    return [email for email in strings if valid_email_regex.fullmatch(email)]\n"
   ],
   "metadata": {
    "collapsed": false
   },
   "id": "5247ee562b65362c"
  }
 ],
 "metadata": {
  "kernelspec": {
   "display_name": "Python 3",
   "language": "python",
   "name": "python3"
  },
  "language_info": {
   "codemirror_mode": {
    "name": "ipython",
    "version": 2
   },
   "file_extension": ".py",
   "mimetype": "text/x-python",
   "name": "python",
   "nbconvert_exporter": "python",
   "pygments_lexer": "ipython2",
   "version": "2.7.6"
  }
 },
 "nbformat": 4,
 "nbformat_minor": 5
}
