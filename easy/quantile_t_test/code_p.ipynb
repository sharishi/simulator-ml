{
 "cells": [
  {
   "cell_type": "markdown",
   "source": [
    "# QUANTILE T-TEST\n",
    "ML инженеры во FlyingFood, сервисе по доставке еды с помощью дронов-курьеров, разработали модель для оценки времени доставки заказа – ETA (estimated time of arrival). Это время мы показываем клиенту в приложении, когда тот выбирает, какое блюдо заказать, а также во время самого ожидания доставки. "
   ],
   "metadata": {
    "collapsed": false
   },
   "id": "74484d8d3c59d5c6"
  },
  {
   "cell_type": "markdown",
   "source": [
    "Если мы обещали время доставки 20 минут, а дрон-курьер летел час – клиент слишком долго ждёт, чтобы его удержать, придётся тратить бюджет, давать купоны и скидки, чтобы сохранить его лояльность. Если даём слишком консервативные оценки, он может принять решение, что у нас долгая доставка, отменить доставку и заказать у конкурентов. Обе ошибки неприятные, но у недопредсказания цена ошибки выше. \n",
    "\n",
    "Ваши коллеги выкатили новую модель, которая, по их словам, ведёт себя лучше в худшем случае (сокращает большой недопрогноз). Мы провели A/B-эксперимент, вас подключили к его анализу, когда он закончился. Нетрудно заметить, что то, как улучшился прогноз в среднем, здесь нас не очень интересует, поэтому обычный t-тест для средних здесь не применим. "
   ],
   "metadata": {
    "collapsed": false
   },
   "id": "50d714075a028265"
  },
  {
   "cell_type": "markdown",
   "source": [
    "Какой нужен статистический критерий для сравнения квантилей? \n",
    "\n",
    "Как сопоставить хвосты распределений в группах A и B? "
   ],
   "metadata": {
    "collapsed": false
   },
   "id": "225698cc5d5ae57d"
  },
  {
   "cell_type": "markdown",
   "source": [
    "# Статистический критерий\n",
    "В сердце любого A/B-теста – статистический критерий, который определяет, стала ли целевая метрика лучше или хуже. Метрика фиксируется до начала эксперимента. В нашем случае эта метрика – ошибка прогноза для каждого заказа.\n",
    "\n"
   ],
   "metadata": {
    "collapsed": false
   },
   "id": "f5e216ded3ab53f3"
  },
  {
   "cell_type": "markdown",
   "source": [
    "Какие данные мы имеем на входе?\n",
    "\n",
    "Контрольная выборка (группа A) — распределение ошибок прогноза для старого алгоритма.\n",
    "Экспериментальная выборка (группа B) — распределение ошибок прогноза для нового алгоритма.\n",
    "Популярный выбор — t-тест Стьюдента, который проверяет гипотезу о том, что средние значения в двух выборках не различаются. Готовую имплементацию t-теста можно найти в в библиотеке scipy. \n",
    "\n",
    "Как мы обсуждали ранее, для основной гипотезы, которую мы тестировали A/B-экспериментом, он не подходит, поскольку нас интересует изменение в хвостах распределений, а не в среднем. Однако стандартный t-тест – это именно то, что нам нужно, чтобы проверить наше базовое предположение, что новый алгоритм не повлиял на среднюю ошибку прогноза.\n",
    "\n",
    "Иными словами, что не добавилось неожиданных сторонних эффектов."
   ],
   "metadata": {
    "collapsed": false
   },
   "id": "7ffdd8b6d6dfb216"
  },
  {
   "cell_type": "markdown",
   "source": [
    "# Задача\n",
    "Ваша задача: написать функцию, которая проверяет, есть ли значимое различие средних ошибок прогнозов времени доставки в контрольной и экспериментальных выборках (в группах A и B). "
   ],
   "metadata": {
    "collapsed": false
   },
   "id": "83948abac8f17e9d"
  },
  {
   "cell_type": "code",
   "execution_count": 5,
   "id": "initial_id",
   "metadata": {
    "collapsed": true,
    "ExecuteTime": {
     "end_time": "2024-10-10T08:18:38.406650400Z",
     "start_time": "2024-10-10T08:18:38.387280400Z"
    }
   },
   "outputs": [],
   "source": [
    "from typing import List, Tuple\n",
    "from scipy import stats\n",
    "\n",
    "\n",
    "def ttest(\n",
    "    control: List[float],\n",
    "    experiment: List[float],\n",
    "    alpha: float = 0.05,\n",
    ") -> Tuple[float, bool]:\n",
    "    \"\"\"Two-sample t-test for the means of two independent samples\"\"\"\n",
    "    _, p_value = stats.ttest_ind(control, experiment)\n",
    "    result = bool(p_value <= alpha)\n",
    "\n",
    "    return p_value, result"
   ]
  },
  {
   "cell_type": "code",
   "execution_count": 6,
   "outputs": [
    {
     "name": "stdout",
     "output_type": "stream",
     "text": [
      "P-value: 0.0085\n",
      "Нет статистически значимой разницы (p > 0.05)\n"
     ]
    }
   ],
   "source": [
    "# Пример данных для контрольной и экспериментальной групп\n",
    "control_group = [20.1, 21.5, 22.3, 19.8, 20.9]\n",
    "experiment_group = [22.4, 23.1, 21.9, 23.5, 24.1]\n",
    "\n",
    "# Уровень значимости alpha\n",
    "alpha = 0.05\n",
    "\n",
    "# Вызов функции ttest\n",
    "p_value, result = ttest(control_group, experiment_group, alpha)\n",
    "\n",
    "# Вывод результатов\n",
    "print(f\"P-value: {p_value:.4f}\")\n",
    "# Вывод результатов\n",
    "if result:\n",
    "    print(f\"Нет статистически значимой разницы (p > {alpha})\")\n",
    "else:\n",
    "    print(f\"Есть статистически значимая разница (p <= {alpha})\")\n"
   ],
   "metadata": {
    "collapsed": false,
    "ExecuteTime": {
     "end_time": "2024-10-10T08:18:45.158498500Z",
     "start_time": "2024-10-10T08:18:45.147358900Z"
    }
   },
   "id": "b4798d2d3f58c3ae"
  },
  {
   "cell_type": "markdown",
   "source": [
    "Как мы и предполагали, средние совпали."
   ],
   "metadata": {
    "collapsed": false
   },
   "id": "c51ec1287ec03fc"
  },
  {
   "cell_type": "markdown",
   "source": [
    "Переходим к сравнению квантилей. Напомним, N%-ым квантилем (или, что то же самое, N-ый персентиль) – называют такое значение наблюдаемой величины, что ровно N% значений будет меньше.\n",
    "\n",
    "В данном A/B-эксперименте нас интересовало, как изменится ошибка обещанного пользователю времени доставки в самых плохих сценариях: чем больше ошибка, тем интенсивнее её негативный эффект на поведение пользователя. "
   ],
   "metadata": {
    "collapsed": false
   },
   "id": "a4de6dcbae3d8a9a"
  },
  {
   "cell_type": "markdown",
   "source": [
    "Но вот незадача. У каждой из выборок (контрольной и тестовой группах) всего одно конкретное значение 95-го квантиля. В это время, чтобы применять статистические критерии и считать p-value, нужны выборки. Выборка из 1 элемента – не звучит как валидная опция. Ну стал 95-й квантиль в группе B меньше чем в группе A если на 3 минуты, достаточно ли этого для принятия решения? А если стал на 5 минут? на 10? или на 1.2 минуты? Где проходит порог достаточно большой разницы и недостаточно большой? Как нам перейти от сравнения точечных значений – обратно к сравнению выборок?\n",
    "\n",
    "Если бы у нас была возможность провести 10 000 экспериментов, мы бы собрали 10 000 выборок и оценили в каждом эксперименте квантиль в группах A и в группах B. Применив стандартный t-тест мы бы поняли, есть ли эффект или нет.\n",
    "\n",
    "Однако 10 000 экспериментов звучит как избыточно большое количество данных.\n",
    "\n",
    "Можно ли сделать нечто подобное с результатами одного эксперимента?\n",
    "\n",
    "Ответ: да, можем."
   ],
   "metadata": {
    "collapsed": false
   },
   "id": "8e17dd86d1aec689"
  },
  {
   "cell_type": "markdown",
   "source": [
    "# Bootstrap\n",
    "Бутстрэп (bootstrap) — это техника, которая позволяет симулировать проведение тех самых 10 000 экспериментов и перейти от точечной оценки любой статистики (в нашем случае, 95-го персентиля) – к её распределению. \n",
    "\n",
    "Для этого из исходной выборки размерности N случайным образом сэмплируетсся N элементов с повторениями. У такой искусственной выборки считается нужная статистика и сохраняется. Действие повторяется тысячи раз: каждый раз какие-то элементы то попадают в очередную искусственную выборку, а то и по несколько раз, то не попадают совсем."
   ],
   "metadata": {
    "collapsed": false
   },
   "id": "b8a62349d005dd9a"
  },
  {
   "cell_type": "markdown",
   "source": [
    "В результате такого \"шатания\" мы переходим от точечной оценки статистики к её распределению, у которого можем посчитать доверительный интервал или к которому можем применить статистический тест.\n",
    "\n",
    "Напомним, доверительный интервал – это диапазон, который включает значение неизвестной статистики с заданной вероятностью. Например, 95%-доверительный интервал для среднего времени доставки с вероятностью 95% включает реальное среднее время доставки."
   ],
   "metadata": {
    "collapsed": false
   },
   "id": "cb58574a5cbbf2e3"
  },
  {
   "cell_type": "markdown",
   "source": [
    "Пример того, как можно посчитать распределение медианы с помощью бутстрэпа:"
   ],
   "metadata": {
    "collapsed": false
   },
   "id": "3ae445747f3bb2ba"
  },
  {
   "cell_type": "code",
   "execution_count": 7,
   "outputs": [],
   "source": [
    "import numpy as np\n",
    "\n",
    "def bootstrapped_median(x: List[float], n_bootstraps: int = 10_000) -> List[float]:\n",
    "    \"\"\"Bootstrapped median distribution\"\"\"\n",
    "    bootstrapped_medians = []\n",
    "    \n",
    "    for _ in range(n_bootstraps):\n",
    "        bootstrapped_sample = np.random.choice(x, size=len(x), replace=True)\n",
    "        bootstrapped_medians.append(np.median(bootstrapped_sample))\n",
    "        \n",
    "    return bootstrapped_medians\n"
   ],
   "metadata": {
    "collapsed": false,
    "ExecuteTime": {
     "end_time": "2024-10-10T09:05:16.943127800Z",
     "start_time": "2024-10-10T09:05:16.903135700Z"
    }
   },
   "id": "3916473eb0b5a6ae"
  },
  {
   "cell_type": "markdown",
   "source": [
    "После чего можно оценить 75-ый персентиль медианы с помощью:"
   ],
   "metadata": {
    "collapsed": false
   },
   "id": "3381bbb61d103a4d"
  },
  {
   "cell_type": "code",
   "execution_count": 8,
   "outputs": [],
   "source": [
    "# samples = bootstrapped_median(x, n_bootstraps=1000)\n",
    "# q75 = sorted(bootstrapped_median(x))[750]"
   ],
   "metadata": {
    "collapsed": false,
    "ExecuteTime": {
     "end_time": "2024-10-10T09:06:18.608461600Z",
     "start_time": "2024-10-10T09:06:18.577453300Z"
    }
   },
   "id": "7d33113a87294a9"
  },
  {
   "cell_type": "markdown",
   "source": [
    "# Задача\n",
    "Реализуйте bootstrapped t-тест для сравнения квантилей ошибок прогноза.\n",
    "\n",
    "Формат выходных данных совпадает с прошлым шагом."
   ],
   "metadata": {
    "collapsed": false
   },
   "id": "c4b3c8aed26b96d"
  },
  {
   "cell_type": "code",
   "execution_count": 9,
   "outputs": [],
   "source": [
    "import numpy as np\n",
    "\n",
    "def bootstrapped_mean(x: List[float], n_bootstraps: int = 1000) -> List[float]:\n",
    "    \"\"\"Bootstrapped median distribution\"\"\"\n",
    "    bootstrapped_means = []\n",
    "    \n",
    "    for _ in range(n_bootstraps):\n",
    "        bootstrapped_sample = np.random.choice(x, size=len(x), replace=True)\n",
    "        bootstrapped_means.append(np.mean(bootstrapped_sample))\n",
    "        \n",
    "    return bootstrapped_means"
   ],
   "metadata": {
    "collapsed": false,
    "ExecuteTime": {
     "end_time": "2024-10-10T09:10:38.911296Z",
     "start_time": "2024-10-10T09:10:38.897302400Z"
    }
   },
   "id": "acbfe5152362fa64"
  },
  {
   "cell_type": "code",
   "execution_count": 11,
   "outputs": [],
   "source": [
    "from typing import List\n",
    "from typing import Tuple\n",
    "\n",
    "import numpy as np\n",
    "from scipy.stats import ttest_ind\n",
    "\n",
    "\n",
    "def quantile_ttest(\n",
    "    control: List[float],\n",
    "    experiment: List[float],\n",
    "    alpha: float = 0.05,\n",
    "    quantile: float = 0.95,\n",
    "    n_bootstraps: int = 1000,\n",
    ") -> Tuple[float, bool]:\n",
    "    \"\"\"\n",
    "    Bootstrapped t-test for quantiles of two samples.\n",
    "    \"\"\"\n",
    "    control_bootstraps = bootstrapped_mean(control, n_bootstraps)\n",
    "    experiment_bootstraps = bootstrapped_mean(experiment, n_bootstraps)\n",
    "\n",
    "    # Вычисляем квантиль для каждого бутстрепа\n",
    "    control_q = np.quantile(control_bootstraps, quantile)\n",
    "    experiment_q = np.quantile(experiment_bootstraps, quantile)\n",
    "\n",
    "    # t-test для массивов бутстрепированных выборок\n",
    "    _, p_value = ttest_ind(control_bootstraps, experiment_bootstraps)\n",
    "\n",
    "    # Сравниваем p_value с уровнем значимости alpha\n",
    "    result = bool(p_value <= alpha)\n",
    "    return p_value, result\n"
   ],
   "metadata": {
    "collapsed": false,
    "ExecuteTime": {
     "end_time": "2024-10-10T09:19:54.397484800Z",
     "start_time": "2024-10-10T09:19:54.391479300Z"
    }
   },
   "id": "81cb2a85c431db46"
  },
  {
   "cell_type": "markdown",
   "source": [
    "Для решения этой задачи вы обрели новые навыки по статистическому тестированию гипотез и A/B тестам в машинном обучении. Кроме того, вы узнали про использование bootstrap-метод для оценки доверительных интервалов и квантилей распределений. Эти навыки могут быть очень полезны при работе с данными и в машинном обучении! "
   ],
   "metadata": {
    "collapsed": false
   },
   "id": "60d14a134aba14bf"
  },
  {
   "cell_type": "code",
   "execution_count": 10,
   "outputs": [],
   "source": [],
   "metadata": {
    "collapsed": false,
    "ExecuteTime": {
     "end_time": "2024-10-10T09:18:23.408169200Z",
     "start_time": "2024-10-10T09:18:23.378443800Z"
    }
   },
   "id": "f16dd164a590f141"
  },
  {
   "cell_type": "code",
   "execution_count": null,
   "outputs": [],
   "source": [],
   "metadata": {
    "collapsed": false
   },
   "id": "cc88131638ed0f5e"
  }
 ],
 "metadata": {
  "kernelspec": {
   "display_name": "Python 3",
   "language": "python",
   "name": "python3"
  },
  "language_info": {
   "codemirror_mode": {
    "name": "ipython",
    "version": 2
   },
   "file_extension": ".py",
   "mimetype": "text/x-python",
   "name": "python",
   "nbconvert_exporter": "python",
   "pygments_lexer": "ipython2",
   "version": "2.7.6"
  }
 },
 "nbformat": 4,
 "nbformat_minor": 5
}
