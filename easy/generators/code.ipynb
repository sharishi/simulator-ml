{
 "cells": [
  {
   "cell_type": "markdown",
   "source": [
    "# GENERATORS"
   ],
   "metadata": {
    "collapsed": false
   },
   "id": "c94e8993d71d0d4b"
  },
  {
   "cell_type": "markdown",
   "source": [
    "## Итераторы в Python\n",
    "Итераторы - это объекты, которые позволяют последовательно перебирать элементы коллекций. Это могут быть простые коллекции, как списки и кортежи, так и более сложные структуры данных, в том числе потоковые данные.\n",
    "\n",
    "Они реализуют два важных метода: __iter__() и __next__(). Метод __iter__() возвращает сам итератор, а __next__() возвращает следующий элемент коллекции. Когда элементы заканчиваются, __next__() вызывает исключение StopIteration, сигнализируя о том, что элементы в итераторе исчерпаны.\n",
    "\n"
   ],
   "metadata": {
    "collapsed": false
   },
   "id": "685751bf13669543"
  },
  {
   "cell_type": "markdown",
   "source": [
    "Преимущества итераторов:\n",
    "\n",
    "- Эффективное использование памяти: Итераторы не требуют загрузки всей коллекции в память, что делает их особенно полезными при работе с большими объемами данных.\n",
    "- Ленивая обработка данных: Итераторы обрабатывают элементы по одному, только по мере необходимости, что повышает эффективность.\n",
    "- Универсальность: Итераторы предоставляют единый способ перебора элементов различных коллекций."
   ],
   "metadata": {
    "collapsed": false
   },
   "id": "1b2f727b33802062"
  },
  {
   "cell_type": "markdown",
   "source": [
    "## Генераторы \n",
    "это простой и мощный инструмент для создания итераторов. Они пишутся как обычные функции, но вместо возвращения значений с помощью return, они используют yield для генерации серии значений. Каждый вызов yield приостанавливает выполнение функции, сохраняя ее состояние, что позволяет возобновить выполнение с того же места при следующем вызове."
   ],
   "metadata": {
    "collapsed": false
   },
   "id": "3891291b070441f7"
  },
  {
   "cell_type": "markdown",
   "source": [
    "```python\n",
    "def simple_generator():\n",
    "    yield 1\n",
    "    yield 2\n",
    "    yield 3\n",
    "\n",
    "```\n",
    "При использовании этого генератора в цикле for, он выдаст значения 1, 2, 3, каждое в отдельной итерации. После вызова каждого yield, выполнение функции будет приостанавливаться до следующей итерации внутри for.\n",
    "\n"
   ],
   "metadata": {
    "collapsed": false
   },
   "id": "115dce642c403735"
  },
  {
   "cell_type": "markdown",
   "source": [
    "## Задание\n",
    "Давайте попрактикуемся в написании генераторов и напишем 2 функции: генератор пользователей и генератор данных для графика.\n",
    "\n",
    "Важно использовать yield в обеих задачах для создания генераторов. Это обязательный элемент."
   ],
   "metadata": {
    "collapsed": false
   },
   "id": "7b5fc9f6de6dacbd"
  },
  {
   "cell_type": "markdown",
   "source": [
    "1. Генератор пользователей\n",
    "\n",
    "Напишите функцию-генератор username_generator, которая принимает количество записей n и опционально списки имен и фамилий. Если списки не заданы, используются значения по умолчанию. Для этого внутри генератора определите самостоятельно два списка, состоящие из нескольких значений: список имен и список фамилий.\n",
    "\n",
    "Функция создает словарь для каждого пользователя, содержащий поля id, first_name и last_name. ID пользователя должен быть уникальным и соответствовать порядковому номеру генерации. Имена и фамилии выбираются случайным образом из предоставленных или стандартных списков."
   ],
   "metadata": {
    "collapsed": false
   },
   "id": "9bb191b62847bbb0"
  },
  {
   "cell_type": "code",
   "execution_count": 3,
   "id": "initial_id",
   "metadata": {
    "collapsed": true,
    "ExecuteTime": {
     "end_time": "2024-10-14T08:04:58.160858Z",
     "start_time": "2024-10-14T08:04:58.147850800Z"
    }
   },
   "outputs": [
    {
     "name": "stdout",
     "output_type": "stream",
     "text": [
      "1 Liam Miller\n",
      "2 Sophia Miller\n",
      "3 Sophia Garcia\n"
     ]
    }
   ],
   "source": [
    "import random\n",
    "\n",
    "\n",
    "def username_generator(n, first_names=None, last_names=None):\n",
    "    # YOUR CODE\n",
    "    user_dict = dict()\n",
    "    if first_names is None and last_names is None:\n",
    "        first_names = []\n",
    "        last_names = []\n",
    "    \n",
    "    for i in range(1, n+1):\n",
    "        user_dict = {\n",
    "            'id': i,\n",
    "            'first_name': random.choice(first_names),\n",
    "            'last_name': random.choice(last_names)\n",
    "        }\n",
    "        yield user_dict\n",
    "\n",
    "# Example of use\n",
    "custom_first_names = [\"Max\", \"Sophia\", \"Liam\"]\n",
    "custom_last_names = [\"Miller\", \"Davis\", \"Garcia\"]\n",
    "for user in username_generator(3, custom_first_names, custom_last_names):\n",
    "    print(user['id'], user['first_name'], user['last_name'])\n",
    "\n",
    "# Example of output:\n",
    "# 1 Max Garcia\n",
    "# 2 Liam Davis\n",
    "# 3 Max Miller\n"
   ]
  },
  {
   "cell_type": "markdown",
   "source": [
    "2. Генератор данных для графика\n",
    "\n",
    "Напишите функцию-генератор data_generator, которая генерирует пары (x, y), где x - это последовательно возрастающие целые числа, начиная с 0, а y - случайное число в заданном диапазоне от 0 до 100. Генератор должен принимать один параметр - количество генерируемых пар n."
   ],
   "metadata": {
    "collapsed": false
   },
   "id": "b8820ac72ab67a94"
  },
  {
   "cell_type": "code",
   "execution_count": 4,
   "outputs": [
    {
     "name": "stdout",
     "output_type": "stream",
     "text": [
      "(0, 53)\n",
      "(1, 99)\n",
      "(2, 34)\n"
     ]
    }
   ],
   "source": [
    "\n",
    "def data_generator(n):\n",
    "    # YOUR CODE\n",
    "    for i in range(n):\n",
    "        pairs = (i, random.randint(0,100))\n",
    "        yield pairs\n",
    "\n",
    "# Example of use\n",
    "for data in data_generator(3):\n",
    "    print(data)\n",
    "\n",
    "# Example of output:\n",
    "# (0, 49)\n",
    "# (1, 27)\n",
    "# (2, 88)\n"
   ],
   "metadata": {
    "collapsed": false,
    "ExecuteTime": {
     "end_time": "2024-10-14T08:06:57.813946700Z",
     "start_time": "2024-10-14T08:06:57.789432300Z"
    }
   },
   "id": "465154d94c14372c"
  },
  {
   "cell_type": "markdown",
   "source": [
    "Генераторные выражения  - это более компактный способ создания генераторов. Они не добавляют новой функциональности, можно обойтись и без них, но делают работу с генераторами более удобной."
   ],
   "metadata": {
    "collapsed": false
   },
   "id": "2db4bd31caa672a8"
  },
  {
   "cell_type": "markdown",
   "source": [
    "```python\n",
    "gen_exp = (x**2 for x in range(10))\n",
    "\n",
    "for val in gen_exp:\n",
    "    print(val)\n",
    "```"
   ],
   "metadata": {
    "collapsed": false
   },
   "id": "23e61e0aef6bd0d"
  },
  {
   "cell_type": "markdown",
   "source": [
    "List, Set, Dict Comprehensions - это удобный способ описать генераторное выражение и сразу обернуть его в функцию list, set или dict. Другими словами это удобный способ создать коллекцию."
   ],
   "metadata": {
    "collapsed": false
   },
   "id": "27c32c08c9ae0aee"
  },
  {
   "cell_type": "markdown",
   "source": [
    "```python\n",
    "list_example = [x**2 for x in range(10)]\n",
    "print(result)\n",
    "\n",
    "# Example of output\n",
    "# [0, 1, 4, 9, 16, 25, 36, 49, 64, 81]\n",
    "\n",
    "\n",
    "set_example = {x**2 for x in range(-2, 5)}\n",
    "print(result)\n",
    "\n",
    "# Example of output\n",
    "# {25, 9, 0, 1, 4, 16}\n",
    "\n",
    "\n",
    "dict_example = {x:x**2 for x in range(4)}\n",
    "print(result)\n",
    "\n",
    "# Example of output\n",
    "# {0: 0, 1: 1, 2: 4, 3: 9}\n",
    "```"
   ],
   "metadata": {
    "collapsed": false
   },
   "id": "271f47e596bde697"
  },
  {
   "cell_type": "code",
   "execution_count": null,
   "outputs": [],
   "source": [],
   "metadata": {
    "collapsed": false
   },
   "id": "99b8e5b2071e6deb"
  }
 ],
 "metadata": {
  "kernelspec": {
   "display_name": "Python 3",
   "language": "python",
   "name": "python3"
  },
  "language_info": {
   "codemirror_mode": {
    "name": "ipython",
    "version": 2
   },
   "file_extension": ".py",
   "mimetype": "text/x-python",
   "name": "python",
   "nbconvert_exporter": "python",
   "pygments_lexer": "ipython2",
   "version": "2.7.6"
  }
 },
 "nbformat": 4,
 "nbformat_minor": 5
}
