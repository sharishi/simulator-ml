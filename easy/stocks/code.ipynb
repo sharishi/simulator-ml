{
 "cells": [
  {
   "cell_type": "markdown",
   "source": [
    "# Stocks\n",
    "Наша модель динамического ценообразования на маркетплейсе KarpovExpress предсказывает оборот на завтра в рублях. Прогноз выполняется на основе некоторого набора фичей и цены. Также мы знаем, сколько товаров хранится на складе и доступно для продажи. Предполагается, что на данные товары нет никаких дополнительных промоакций, скидок и для каждого покупателя цена одинакова.\n",
    "\n",
    "Колонки таблицы\n",
    "sku – SKU (Stock Keeping Unit), уникальный ID товара (тип int)\n",
    "gmv – GMV (Gross Merchandise Volume), аналог розничного товарооборота (тип float)\n",
    "stock – число единиц товара на складе (тип int)\n",
    "price – цена на товар (тип float)\n",
    "Формула расчёта: GMV = (цена) * (штук продано)"
   ],
   "metadata": {
    "collapsed": false
   },
   "id": "109f44f5d4e6fb8f"
  },
  {
   "cell_type": "code",
   "execution_count": 25,
   "id": "initial_id",
   "metadata": {
    "collapsed": true,
    "ExecuteTime": {
     "end_time": "2024-09-26T15:47:03.848754800Z",
     "start_time": "2024-09-26T15:47:03.827762400Z"
    }
   },
   "outputs": [],
   "source": [
    "import pandas as pd\n",
    "import numpy as np\n",
    "\n",
    "# Данные\n",
    "data = {\n",
    "    'sku': [100, 200, 300],\n",
    "    'gmv': [400, 350, 500],\n",
    "    'price': [100, 70, 120],\n",
    "    'stock': [3, 10, 5]\n",
    "}\n",
    "\n",
    "# Создание DataFrame\n",
    "df = pd.DataFrame(data)\n",
    "def limit_gmv(df: pd.DataFrame) -> pd.DataFrame:\n",
    "    \"\"\"GMV predict\"\"\"\n",
    "    df = df.copy()\n",
    "    df['gmv'] = np.where(\n",
    "        (df['gmv'] / df['price']) < df['stock']  ,\n",
    "        (np.minimum(df['gmv'],np.floor(df['gmv'] / df['price'])*df['price'])).astype(int),\n",
    "        df['stock'] * df['price']\n",
    "    )\n",
    "    return df"
   ]
  },
  {
   "cell_type": "code",
   "execution_count": 26,
   "outputs": [
    {
     "data": {
      "text/plain": "   sku  gmv  price  stock\n0  100  300    100      3\n1  200  350     70     10\n2  300  480    120      5",
      "text/html": "<div>\n<style scoped>\n    .dataframe tbody tr th:only-of-type {\n        vertical-align: middle;\n    }\n\n    .dataframe tbody tr th {\n        vertical-align: top;\n    }\n\n    .dataframe thead th {\n        text-align: right;\n    }\n</style>\n<table border=\"1\" class=\"dataframe\">\n  <thead>\n    <tr style=\"text-align: right;\">\n      <th></th>\n      <th>sku</th>\n      <th>gmv</th>\n      <th>price</th>\n      <th>stock</th>\n    </tr>\n  </thead>\n  <tbody>\n    <tr>\n      <th>0</th>\n      <td>100</td>\n      <td>300</td>\n      <td>100</td>\n      <td>3</td>\n    </tr>\n    <tr>\n      <th>1</th>\n      <td>200</td>\n      <td>350</td>\n      <td>70</td>\n      <td>10</td>\n    </tr>\n    <tr>\n      <th>2</th>\n      <td>300</td>\n      <td>480</td>\n      <td>120</td>\n      <td>5</td>\n    </tr>\n  </tbody>\n</table>\n</div>"
     },
     "execution_count": 26,
     "metadata": {},
     "output_type": "execute_result"
    }
   ],
   "source": [
    "limit_gmv(df)"
   ],
   "metadata": {
    "collapsed": false,
    "ExecuteTime": {
     "end_time": "2024-09-26T15:47:04.104936400Z",
     "start_time": "2024-09-26T15:47:04.097193200Z"
    }
   },
   "id": "c42c47d850aca740"
  },
  {
   "cell_type": "markdown",
   "source": [
    "# Эталонное решение"
   ],
   "metadata": {
    "collapsed": false
   },
   "id": "1a1287617e379199"
  },
  {
   "cell_type": "code",
   "execution_count": null,
   "outputs": [],
   "source": [
    "import pandas as pd\n",
    "\n",
    "\n",
    "def limit_gmv(df: pd.DataFrame) -> pd.DataFrame:\n",
    "    \"\"\"Limited GMV\"\"\"\n",
    "    df = df.copy()\n",
    "    qty = df.gmv / df.price\n",
    "    qty = qty.clip(None, df.stock)\n",
    "    qty = qty.astype(int)\n",
    "    df.gmv = qty * df.price\n",
    "    return df\n"
   ],
   "metadata": {
    "collapsed": false
   },
   "id": "90f3b91b53549b2e"
  }
 ],
 "metadata": {
  "kernelspec": {
   "display_name": "Python 3",
   "language": "python",
   "name": "python3"
  },
  "language_info": {
   "codemirror_mode": {
    "name": "ipython",
    "version": 2
   },
   "file_extension": ".py",
   "mimetype": "text/x-python",
   "name": "python",
   "nbconvert_exporter": "python",
   "pygments_lexer": "ipython2",
   "version": "2.7.6"
  }
 },
 "nbformat": 4,
 "nbformat_minor": 5
}
