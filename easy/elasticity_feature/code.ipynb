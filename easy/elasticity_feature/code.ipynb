{
 "cells": [
  {
   "cell_type": "markdown",
   "source": [
    "\n",
    "Вам необходимо дописать функцию elasticity_df, которая принимает на вход датасет с предыдущего шага и возвращает эластичность для каждого SKU.\n",
    "\n",
    "Чтобы подсчитать эластичность:\n",
    "\n",
    "Для каждого товара постройте линейную зависимость логарифма продаж от цены.\n",
    "Возьмите коэффициент детерминации линейной регрессии R \n",
    "\n",
    " \n",
    "\n",
    "Коэффициент детерминации показывает долю объясненной дисперсии в зависимости двух переменных. \n",
    "\n",
    "Если спрос товара хорошо объясняется ценой (есть явная зависимость), то коэффициент будет максимальный (неважно, какой, например, коэффициент наклона у кривой). Если объясняется плохо, коэффициент будет низкий, а на графике зависимости видно не будет.\n"
   ],
   "metadata": {
    "collapsed": false
   },
   "id": "133cad0fbe0278aa"
  },
  {
   "cell_type": "markdown",
   "source": [
    "Формат датасета:\n",
    "```\n",
    "     sku     dates   price  qty\n",
    "0  10060  10/04/19  2798.0    3\n",
    "1  10060  11/04/19  2798.0    2\n",
    "2  10060  12/04/19  2798.0    4\n",
    "3  10060  13/04/19  2798.0    3\n",
    "4  10060  14/04/19  2798.0    1\n",
    "5  10060  15/04/19  2821.0    4\n",
    "6  10060  16/04/19  2821.0    4\n",
    "7  10060  17/04/19  2821.0    4\n",
    "8  10060  18/04/19  2821.0    3\n",
    "9  10060  19/04/19  2821.0    2\n",
    "```"
   ],
   "metadata": {
    "collapsed": false
   },
   "id": "2d0a75f78d722dd3"
  },
  {
   "cell_type": "markdown",
   "source": [
    "Формула линейной зависимости спроса от цены\n",
    "log(Q+1)=α∗P+β\n",
    "\n"
   ],
   "metadata": {
    "collapsed": false
   },
   "id": "54968d3eab1aac3c"
  },
  {
   "cell_type": "code",
   "execution_count": 3,
   "id": "initial_id",
   "metadata": {
    "collapsed": true,
    "ExecuteTime": {
     "end_time": "2024-09-23T10:44:13.906135800Z",
     "start_time": "2024-09-23T10:44:13.438243800Z"
    }
   },
   "outputs": [],
   "source": [
    "import pandas as pd\n",
    "import numpy as np\n",
    "from sklearn.linear_model import LinearRegression\n",
    "from sklearn.metrics import r2_score\n",
    "\n",
    "def elasticity_df(df: pd.DataFrame) -> pd.DataFrame:\n",
    "    \"\"\"Elasticity count\"\"\"\n",
    "    #first\n",
    "    df_g = df.groupby('sku')\n",
    "    \n",
    "    for sku, g in df_g:\n",
    "        log_qty = np.log(df_g['qty'] + 1)\n",
    "        price = df_g['price'].values.reshape(-1, 1)\n",
    "        \n",
    "        model = LinearRegression()\n",
    "        model.fit(price, log_qty)\n",
    "        \n",
    "        log_qty_pred = model.predict(price)\n",
    "        \n",
    "        r_squared = r2_score(log_qty, log_qty_pred)\n",
    "    \n",
    "    return pd.DataFrame({'sku': df_g['sku'], 'elasticity' : r_squared})\n"
   ]
  },
  {
   "cell_type": "code",
   "execution_count": 10,
   "outputs": [
    {
     "name": "stdout",
     "output_type": "stream",
     "text": [
      "     sku  elasticity\n",
      "0  10060    0.156232\n"
     ]
    }
   ],
   "source": [
    "# Пример данных\n",
    "data = {\n",
    "    'sku': [10060, 10060, 10060, 10060, 10060, 10060,10060,10060,10060,10060],\n",
    "    'price': [2798.0, 2798.0, 2798.0, 2798.0, 2798.0, 2821.0, 2821.0,2821.0,2821.0,2821.0],\n",
    "    'qty': [3,2,4,3,1,4,4,4,3,2]\n",
    "}\n",
    "\n",
    "# Создание DataFrame\n",
    "df = pd.DataFrame(data)\n",
    "\n",
    "def elasticity_df(df: pd.DataFrame) -> pd.DataFrame:\n",
    "    grouped = df.groupby('sku')\n",
    "    \n",
    "    results = []\n",
    "    \n",
    "    for sku, group in grouped:\n",
    "        # Логарифм продаж с добавлением 1 (чтобы избежать log(0))\n",
    "        log_sales = np.log(group['qty'] + 1)\n",
    "        price = group['price'].values.reshape(-1, 1)\n",
    "        \n",
    "        # Линейная регрессия\n",
    "        model = LinearRegression()\n",
    "        model.fit(price, log_sales)\n",
    "        \n",
    "        # Предсказанные значения логарифма продаж\n",
    "        log_sales_pred = model.predict(price)\n",
    "        \n",
    "        # Коэффициент детерминации R^2\n",
    "        r_squared = r2_score(log_sales, log_sales_pred)\n",
    "\n",
    "        results.append({'sku': sku, 'elasticity': r_squared})\n",
    "    \n",
    "    results = pd.DataFrame(results)\n",
    "    \n",
    "    return results\n",
    "\n",
    "print(elasticity_df(df))"
   ],
   "metadata": {
    "collapsed": false,
    "ExecuteTime": {
     "end_time": "2024-09-25T19:22:39.656326400Z",
     "start_time": "2024-09-25T19:22:39.647812700Z"
    }
   },
   "id": "cf693e4659273c85"
  },
  {
   "cell_type": "code",
   "execution_count": null,
   "outputs": [],
   "source": [
    "import numpy as np\n",
    "import pandas as pd\n",
    "from scipy.stats import linregress\n",
    "\n",
    "\n",
    "def linreg_rvalue(df: pd.DataFrame) -> float:\n",
    "    p, q = df[\"price\"], np.log1p(df[\"qty\"])\n",
    "    return linregress(p, q).rvalue ** 2\n",
    "\n",
    "\n",
    "def elasticity_df(df: pd.DataFrame) -> pd.DataFrame:\n",
    "    elast = df.groupby(\"sku\")[[\"price\", \"qty\"]].apply(linreg_rvalue)\n",
    "    elast = elast.rename(\"elast\")\n",
    "    elast_df = pd.DataFrame()\n",
    "    elast_df[\"sku\"] = elast.index\n",
    "    elast_df[\"elasticity\"] = elast.values\n",
    "    return elast_df"
   ],
   "metadata": {
    "collapsed": false
   },
   "id": "d8123dce34473cec"
  }
 ],
 "metadata": {
  "kernelspec": {
   "display_name": "Python 3",
   "language": "python",
   "name": "python3"
  },
  "language_info": {
   "codemirror_mode": {
    "name": "ipython",
    "version": 2
   },
   "file_extension": ".py",
   "mimetype": "text/x-python",
   "name": "python",
   "nbconvert_exporter": "python",
   "pygments_lexer": "ipython2",
   "version": "2.7.6"
  }
 },
 "nbformat": 4,
 "nbformat_minor": 5
}
