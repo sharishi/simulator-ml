{
 "cells": [
  {
   "cell_type": "markdown",
   "source": [
    "# YAML CONFIG\n",
    "Мы в Karpov.Courses заводим Text-to-Speech модель для клонирования голоса: хотим добавить боту на основе ChatGPT озвучку голосом Толи. Этот бот уже активно используется как помощник в Симулятор SQL. \n",
    "\n",
    "Для настройки моделей используются конфиги (конфигурационный файл, config) большого уровня вложенности, параметры из которых периодически требуется устанавливать в качестве переменных окружения.\n",
    "\n",
    "Коллеги попросили написать утилиту для парсинга конфигов в переменные окружения и обратно. Конфиги хранятся в формате YAML (Yet Another Markup Language)."
   ],
   "metadata": {
    "collapsed": false
   },
   "id": "f984f73415491cfc"
  },
  {
   "cell_type": "markdown",
   "source": [
    "Пример конфига"
   ],
   "metadata": {
    "collapsed": false
   },
   "id": "b457de0a4c1426dd"
  },
  {
   "cell_type": "markdown",
   "source": [
    "```yaml\n",
    "\n",
    "F0_path: \"Utils/JDC/bst.t7\"\n",
    "ASR_config: \"Utils/ASR/config.yml\"\n",
    "ASR_path: \"Utils/ASR/epoch_00100.pth\"\n",
    "\n",
    "preprocess_params:\n",
    "  sr: 24000\n",
    "  spect_params:\n",
    "    n_fft: 2048\n",
    "    win_length: 1200\n",
    "    hop_length: 300\n",
    "\n",
    "model_params:\n",
    "  dim_in: 64\n",
    "  style_dim: 64\n",
    "  latent_dim: 16\n",
    "  num_domains: 20\n",
    "  max_conv_dim: 512\n",
    "  n_repeat: 4\n",
    "```"
   ],
   "metadata": {
    "collapsed": false
   },
   "id": "a78fd0b345266409"
  },
  {
   "cell_type": "markdown",
   "source": [
    "Пример переменных окружения:"
   ],
   "metadata": {
    "collapsed": false
   },
   "id": "28e04bd69f3f3085"
  },
  {
   "cell_type": "markdown",
   "source": [
    "```yaml\n",
    "F0_path=Utils/JDC/bst.t7\n",
    "ASR_config=Utils/ASR/config.yml\n",
    "\n",
    "...\n",
    "\n",
    "preprocess_params.sr=24000\n",
    "preprocess_params.spect_params.n_fft=2048\n",
    "\n",
    "...\n",
    "\n",
    "model_params.dim_in=64\n",
    "\n",
    "```"
   ],
   "metadata": {
    "collapsed": false
   },
   "id": "4442f511d068f461"
  },
  {
   "cell_type": "markdown",
   "source": [
    "# Задание\n",
    "Напишите две функции\n",
    "\n",
    "yaml_to_env — функция принимает на вход текст конфига и возвращает текст с переменными окружения.\n",
    "env_to_yaml — функция принимает на вход текст с переменными окружения и возвращает текст с конфигом иерархической структуры."
   ],
   "metadata": {
    "collapsed": false
   },
   "id": "78d823372d3eb8bb"
  },
  {
   "cell_type": "markdown",
   "source": [
    "Псевдокод для парсинга конфига\n",
    "\n",
    "Преобразуем текст конфига в словарь (дерево)\n",
    "Рекурсивно обходим дерево:\n",
    "    Если значение это словарь:\n",
    "        Рекурсивно обходим словарь\n",
    "    Иначе:\n",
    "        Формируем строку переменной окружения вида \"preprocess_params.sr.n_fft=2048\" и добавляем к результату\n",
    "Возвращает результат в виде строки"
   ],
   "metadata": {
    "collapsed": false
   },
   "id": "ea1caa0bfa8be100"
  },
  {
   "cell_type": "code",
   "execution_count": 11,
   "id": "initial_id",
   "metadata": {
    "collapsed": true,
    "ExecuteTime": {
     "end_time": "2024-10-10T14:09:51.164253500Z",
     "start_time": "2024-10-10T14:09:51.161255Z"
    }
   },
   "outputs": [],
   "source": [
    "import yaml\n",
    "\n",
    "def parse_to_dict(config_text: str) -> dict:\n",
    "    try:\n",
    "        config_dict = yaml.safe_load(config_text)\n",
    "    except yaml.YAMLError as e:\n",
    "        raise ValueError(f\"Ошибка парсинга YAML: {e}\")\n",
    "    return config_dict\n",
    "\n",
    "def parse_config(config_file: dict, prefix=\"\") -> str:\n",
    "    result = \"\"\n",
    "    for key, val in config_file.items():\n",
    "        new_prefix = prefix + key\n",
    "        if isinstance(val, dict):\n",
    "            result += parse_config(val, new_prefix + '.')\n",
    "        else:\n",
    "            result += f\"{new_prefix}={val}\\n\"\n",
    "    return result\n",
    "\n",
    "\n",
    "def yaml_to_env(config_file: str) -> str:\n",
    "    config_dict = parse_to_dict(config_file)\n",
    "    result = parse_config(config_dict)\n",
    "    \n",
    "    return result\n"
   ]
  },
  {
   "cell_type": "code",
   "execution_count": 13,
   "outputs": [
    {
     "name": "stdout",
     "output_type": "stream",
     "text": [
      "preprocess_params.sr.n_fft=2048\n",
      "preprocess_params.sr.hop_length=512\n",
      "preprocess_params.window=hann\n"
     ]
    }
   ],
   "source": [
    "# Пример использования\n",
    "config_text = '''\n",
    "preprocess_params:\n",
    "  sr:\n",
    "    n_fft: 2048\n",
    "    hop_length: 512\n",
    "  window: \"hann\"\n",
    "'''\n",
    "print(yaml_to_env(config_text))"
   ],
   "metadata": {
    "collapsed": false,
    "ExecuteTime": {
     "end_time": "2024-10-10T14:10:02.796417500Z",
     "start_time": "2024-10-10T14:10:02.759162Z"
    }
   },
   "id": "b4f6c02204cdb11c"
  },
  {
   "cell_type": "markdown",
   "source": [
    "```yaml\n",
    "F0_path=Utils/JDC/bst.t7\n",
    "ASR_config=Utils/ASR/config.yml\n",
    "\n",
    "preprocess_params.sr=24000\n",
    "preprocess_params.spect_params.n_fft=2048\n",
    "\n",
    "\n",
    "model_params.dim_in=64\n",
    "\n",
    "```"
   ],
   "metadata": {
    "collapsed": false
   },
   "id": "7bba51464bc3cd1a"
  },
  {
   "cell_type": "code",
   "execution_count": 35,
   "outputs": [],
   "source": [
    "def set_nested_dict(config_dict: dict, keys: list, value):\n",
    "    for key in keys[:-1]:\n",
    "        config_dict = config_dict.setdefault(key, {})\n",
    "    config_dict[keys[-1]] = int(value) if value.isdigit() else value"
   ],
   "metadata": {
    "collapsed": false,
    "ExecuteTime": {
     "end_time": "2024-10-10T14:41:10.505790900Z",
     "start_time": "2024-10-10T14:41:10.493795200Z"
    }
   },
   "id": "a1a88f69a7d9f921"
  },
  {
   "cell_type": "code",
   "execution_count": 31,
   "outputs": [],
   "source": [
    "def env_to_dict(env_list: str) -> dict:\n",
    "    config_dict = dict()\n",
    "    lines = env_list.strip().splitlines()\n",
    "    \n",
    "    for line in lines:\n",
    "        if '=' in line:\n",
    "            key, value = line.split('=', 1)\n",
    "            keys = key.split('.')\n",
    "            set_nested_dict(config_dict, keys, value)\n",
    "    \n",
    "    return config_dict\n",
    "                \n",
    "def dict_to_yaml(config_dict: dict) -> str:\n",
    "    return yaml.dump(config_dict, sort_keys=False, default_flow_style=False) "
   ],
   "metadata": {
    "collapsed": false,
    "ExecuteTime": {
     "end_time": "2024-10-10T14:39:25.967400700Z",
     "start_time": "2024-10-10T14:39:25.945391800Z"
    }
   },
   "id": "6cd62bcfdd3121ec"
  },
  {
   "cell_type": "code",
   "execution_count": 32,
   "outputs": [],
   "source": [
    "def env_to_yaml(env_list: str) -> str:\n",
    "    config_dict = env_to_dict(env_list)\n",
    "    return dict_to_yaml(config_dict)"
   ],
   "metadata": {
    "collapsed": false,
    "ExecuteTime": {
     "end_time": "2024-10-10T14:39:26.347261600Z",
     "start_time": "2024-10-10T14:39:26.339264600Z"
    }
   },
   "id": "289b5a07a12619a0"
  },
  {
   "cell_type": "code",
   "execution_count": 33,
   "outputs": [
    {
     "name": "stdout",
     "output_type": "stream",
     "text": [
      "F0_path: Utils/JDC/bst.t7\n",
      "ASR_config: Utils/ASR/config.yml\n",
      "preprocess_params:\n",
      "  sr: 24000\n",
      "  spect_params:\n",
      "    n_fft: 2048\n",
      "model_params:\n",
      "  dim_in: 64\n"
     ]
    }
   ],
   "source": [
    "to_yaml = \"\"\"\n",
    "F0_path=Utils/JDC/bst.t7\n",
    "ASR_config=Utils/ASR/config.yml\n",
    "preprocess_params.sr=24000\n",
    "preprocess_params.spect_params.n_fft=2048\n",
    "\n",
    "\n",
    "model_params.dim_in=64\n",
    "\"\"\"\n",
    "print(env_to_yaml(to_yaml))"
   ],
   "metadata": {
    "collapsed": false,
    "ExecuteTime": {
     "end_time": "2024-10-10T14:39:26.645057800Z",
     "start_time": "2024-10-10T14:39:26.637533600Z"
    }
   },
   "id": "d92ddf43bae6bb1a"
  },
  {
   "cell_type": "code",
   "execution_count": 34,
   "outputs": [
    {
     "name": "stdout",
     "output_type": "stream",
     "text": [
      "F0_path: Utils/JDC/bst.t7\n",
      "ASR_config: Utils/ASR/config.yml\n",
      "preprocess_params:\n",
      "  sr: 24000\n",
      "  spect_params:\n",
      "    n_fft: 2048\n",
      "model_params:\n",
      "  dim_in: 64\n"
     ]
    }
   ],
   "source": [
    "# Пример использования:\n",
    "env_text = \"\"\"\n",
    "F0_path=Utils/JDC/bst.t7\n",
    "ASR_config=Utils/ASR/config.yml\n",
    "preprocess_params.sr=24000\n",
    "preprocess_params.spect_params.n_fft=2048\n",
    "model_params.dim_in=64\n",
    "\"\"\"\n",
    "\n",
    "yaml_output = env_to_yaml(env_text)\n",
    "print(yaml_output)"
   ],
   "metadata": {
    "collapsed": false,
    "ExecuteTime": {
     "end_time": "2024-10-10T14:39:30.065104200Z",
     "start_time": "2024-10-10T14:39:30.060096100Z"
    }
   },
   "id": "a074e142550c6ccc"
  },
  {
   "cell_type": "code",
   "execution_count": 36,
   "outputs": [
    {
     "name": "stdout",
     "output_type": "stream",
     "text": [
      "F0_path=Utils/JDC/bst.t7\n",
      "ASR_config=Utils/ASR/config.yml\n",
      "ASR_path=Utils/ASR/epoch_00100.pth\n",
      "preprocess_params.sr=24000\n",
      "spect_params.n_fft=2048\n",
      "spect_params.win_length=1200\n",
      "spect_params.hop_length=300\n",
      "model_params.dim_in=64\n",
      "model_params.style_dim=64\n",
      "model_params.latent_dim=16\n",
      "model_params.num_domains=20\n",
      "model_params.max_conv_dim=512\n",
      "model_params.n_repeat=4\n",
      "model_params.dropout=0.1\n",
      "model_params.use_spectral_norm=True\n",
      "\n",
      "------------------\n",
      "ASR_config: Utils/ASR/config.yml\n",
      "ASR_path: Utils/ASR/epoch_00100.pth\n",
      "F0_path: Utils/JDC/bst.t7\n",
      "model_params:\n",
      "  dim_in: 64\n",
      "  dropout: 0.1\n",
      "  latent_dim: 16\n",
      "  max_conv_dim: 512\n",
      "  n_repeat: 4\n",
      "  num_domains: 20\n",
      "  style_dim: 64\n",
      "  use_spectral_norm: true\n",
      "preprocess_params:\n",
      "  sr: 24000\n",
      "spect_params:\n",
      "  hop_length: 300\n",
      "  n_fft: 2048\n",
      "  win_length: 1200\n"
     ]
    }
   ],
   "source": [
    "from typing import Any\n",
    "\n",
    "import yaml\n",
    "\n",
    "\n",
    "def yaml_to_env(config_file: str) -> str:\n",
    "    \"\"\"Converts yaml config to env list\"\"\"\n",
    "\n",
    "    def _yaml_to_env(config: dict, prefix: str = \"\") -> str:\n",
    "\n",
    "        env_list = \"\"\n",
    "        for key, value in config.items():\n",
    "            if isinstance(value, dict):\n",
    "                env_list += _yaml_to_env(value, f\"{prefix}{key}.\")\n",
    "            else:\n",
    "                env_list += f\"{prefix}{key}={value}\\n\"\n",
    "\n",
    "        return env_list\n",
    "\n",
    "    config = yaml.load(config_file, Loader=yaml.FullLoader)\n",
    "    return _yaml_to_env(config)\n",
    "\n",
    "\n",
    "def env_to_yaml(env_list: str) -> str:\n",
    "    \"\"\"Converts env list to yaml config\"\"\"\n",
    "\n",
    "    def convert_value(value: str) -> Any:\n",
    "        if value.isnumeric():\n",
    "            return int(value)\n",
    "        if value.replace(\".\", \"\", 1).isnumeric():\n",
    "            return float(value)\n",
    "        if value.lower() in [\"true\", \"false\"]:\n",
    "            return value.lower() == \"true\"\n",
    "        return value\n",
    "\n",
    "    def _env_to_yaml(env_list: str, config: dict = {}) -> dict:\n",
    "        for line in env_list.splitlines():\n",
    "            key, value = line.split(\"=\")\n",
    "\n",
    "            value = convert_value(value)\n",
    "\n",
    "            key = key.split(\".\", 1)\n",
    "            if len(key) == 1:\n",
    "                config[key[0]] = value\n",
    "            else:\n",
    "                if key[0] not in config:\n",
    "                    config[key[0]] = {}\n",
    "                _env_to_yaml(f\"{key[1]}={value}\", config[key[0]])\n",
    "        return config\n",
    "\n",
    "    return yaml.dump(_env_to_yaml(env_list), default_style=\"\", default_flow_style=False)\n",
    "\n",
    "\n",
    "if __name__ == \"__main__\":\n",
    "    # Example\n",
    "    yaml_config = \"\"\"\n",
    "    F0_path: \"Utils/JDC/bst.t7\"\n",
    "    ASR_config: \"Utils/ASR/config.yml\"\n",
    "    ASR_path: \"Utils/ASR/epoch_00100.pth\"\n",
    "\n",
    "    preprocess_params:\n",
    "        sr: 24000\n",
    "    spect_params:\n",
    "        n_fft: 2048\n",
    "        win_length: 1200\n",
    "        hop_length: 300\n",
    "\n",
    "    model_params:\n",
    "        dim_in: 64\n",
    "        style_dim: 64\n",
    "        latent_dim: 16\n",
    "        num_domains: 20\n",
    "        max_conv_dim: 512\n",
    "        n_repeat: 4\n",
    "        dropout: 0.1\n",
    "        use_spectral_norm: true\n",
    "\n",
    "    \"\"\"\n",
    "\n",
    "    env_list = yaml_to_env(yaml_config)\n",
    "    print(env_list)\n",
    "    print(\"------------------\")\n",
    "    yaml_config = env_to_yaml(env_list)\n",
    "    print(yaml_config)\n"
   ],
   "metadata": {
    "collapsed": false,
    "ExecuteTime": {
     "end_time": "2024-10-10T15:11:21.064299500Z",
     "start_time": "2024-10-10T15:11:21.056273Z"
    }
   },
   "id": "4350ea86b89dfbb3"
  },
  {
   "cell_type": "code",
   "execution_count": 3,
   "outputs": [],
   "source": [],
   "metadata": {
    "collapsed": false,
    "ExecuteTime": {
     "end_time": "2024-10-11T11:01:15.227736Z",
     "start_time": "2024-10-11T11:01:15.201712700Z"
    }
   },
   "id": "154826687360be97"
  },
  {
   "cell_type": "code",
   "execution_count": 16,
   "outputs": [],
   "source": [],
   "metadata": {
    "collapsed": false,
    "ExecuteTime": {
     "end_time": "2024-10-11T12:00:31.217239400Z",
     "start_time": "2024-10-11T12:00:31.203720700Z"
    }
   },
   "id": "d49467162d7c09e8"
  },
  {
   "cell_type": "code",
   "execution_count": null,
   "outputs": [],
   "source": [],
   "metadata": {
    "collapsed": false
   },
   "id": "4be3ad0b412ccc30"
  }
 ],
 "metadata": {
  "kernelspec": {
   "display_name": "Python 3",
   "language": "python",
   "name": "python3"
  },
  "language_info": {
   "codemirror_mode": {
    "name": "ipython",
    "version": 2
   },
   "file_extension": ".py",
   "mimetype": "text/x-python",
   "name": "python",
   "nbconvert_exporter": "python",
   "pygments_lexer": "ipython2",
   "version": "2.7.6"
  }
 },
 "nbformat": 4,
 "nbformat_minor": 5
}
