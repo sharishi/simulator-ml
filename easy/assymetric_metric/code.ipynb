{
 "cells": [
  {
   "cell_type": "markdown",
   "source": [
    "Мы работаем в компании X6. Наша задача — прогноз товарооборота бытовой техники: нужно понять, сколько каждого товара привезти на ту или иную точку для продажи. Допустим, поставки осуществляются раз в 3 месяца. Если привезем слишком мало, то весь товар скупят, новые клиенты не смогут купить нужную им технику. Из-за чего мы потеряем потенциальную прибыль (missed profit), так как не смогли покрыть спрос. Если привозим слишком много (а зачастую бытовая техника – крупногабаритный товар), то это ведёт к переполнению склада, что затрудняет ввоз более новых моделей техники.\n",
    "\n",
    "Что в данной ситуации предпочтительнее: привезти на склад больше чем нужно или меньше?\n",
    "\n",
    "Вам необходимо придумать функцию потерь, которая была бы адекватная для данной бизнес-задачи:"
   ],
   "metadata": {
    "collapsed": false
   },
   "id": "ab58f32576b52f4d"
  },
  {
   "cell_type": "code",
   "execution_count": null,
   "id": "initial_id",
   "metadata": {
    "collapsed": true
   },
   "outputs": [],
   "source": [
    "import numpy as np\n",
    "\n",
    "def turnover_error(y_true: np.array, y_pred: np.array) -> float:  \n",
    "     error = ((y_true - y_pred)/ y_pred)**2\n",
    "     return np.mean(error)"
   ]
  },
  {
   "cell_type": "markdown",
   "source": [
    "or rmsle"
   ],
   "metadata": {
    "collapsed": false
   },
   "id": "a4cf63e9dc305476"
  },
  {
   "cell_type": "code",
   "execution_count": null,
   "outputs": [],
   "source": [
    "import numpy as np\n",
    "\n",
    "\n",
    "def turnover_error_iconic(y_true: np.ndarray, y_pred: np.ndarray) -> float:\n",
    "    \"\"\"Turnover error function\n",
    "\n",
    "    Args:\n",
    "        y_true (np.ndarray): True values\n",
    "        y_pred (np.ndarray): Pred values\n",
    "\n",
    "    Returns:\n",
    "        float: Turnover error\n",
    "    \"\"\"\n",
    "    return np.sum((np.log1p(y_true) - np.log1p(y_pred)) ** 2) ** 0.5\n"
   ],
   "metadata": {
    "collapsed": false
   },
   "id": "be0e0581af710a5"
  },
  {
   "cell_type": "markdown",
   "source": [
    "Оценка Lifetime Value\n",
    "Мы B2B финтех стартап — предоставляем депозиты/кредиты, куплю/продажу ценных бумаг и другие финансовые инструменты. У нас небольшое число очень крупных клиентов. Мы заключаем контракты минимум на 1 год. Для принятия решения о сотрудничестве мы разрабатываем модель, которая для потенциального клиента прогнозирует LTV (LifeTime Value, сколько денег нам принесёт клиент за всё время, что будет пользоваться нашим сервисом).\n",
    "\n",
    "Подумайте, что предпочтительнее: недооценить или переоценить стоимость потенциального клиента?\n",
    "\n",
    "Вам необходимо выбрать или разработать функцию, отражающую ошибку для оценки модели прогноза LTV."
   ],
   "metadata": {
    "collapsed": false
   },
   "id": "d5dc9103e90aa2c6"
  },
  {
   "cell_type": "code",
   "execution_count": 5,
   "outputs": [],
   "source": [
    "import numpy as np\n",
    "\n",
    "def ltv_error(y_true: np.array, y_pred: np.array) -> float:\n",
    "    \"\"\"LTVTurnover error function\n",
    "\n",
    "    Args:\n",
    "        y_true (np.ndarray): True values\n",
    "        y_pred (np.ndarray): Pred values\n",
    "\n",
    "    Returns:\n",
    "        float: Turnover error\n",
    "    \"\"\"\n",
    "    y_true = np.array(y_true)\n",
    "    y_pred = np.array(y_pred)\n",
    "    squared_true = y_true ** 2\n",
    "    squared_pred = y_pred ** 2\n",
    "    error = np.sqrt(np.sum(np.abs(squared_true - squared_pred)))\n",
    "    print(np.abs(squared_true - squared_pred))\n",
    "    return error"
   ],
   "metadata": {
    "collapsed": false,
    "ExecuteTime": {
     "end_time": "2024-10-01T20:12:09.203975Z",
     "start_time": "2024-10-01T20:12:09.193461100Z"
    }
   },
   "id": "bd1dc3d7defdd137"
  },
  {
   "cell_type": "code",
   "execution_count": 9,
   "outputs": [
    {
     "name": "stdout",
     "output_type": "stream",
     "text": [
      "[500]\n"
     ]
    },
    {
     "data": {
      "text/plain": "np.float64(22.360679774997898)"
     },
     "execution_count": 9,
     "metadata": {},
     "output_type": "execute_result"
    }
   ],
   "source": [
    "ltv_error([20], [30])"
   ],
   "metadata": {
    "collapsed": false,
    "ExecuteTime": {
     "end_time": "2024-10-01T20:13:38.449918600Z",
     "start_time": "2024-10-01T20:13:38.438504400Z"
    }
   },
   "id": "a3d7bd15aff2b328"
  },
  {
   "cell_type": "code",
   "execution_count": null,
   "outputs": [],
   "source": [],
   "metadata": {
    "collapsed": false
   },
   "id": "f87e4dbb189a121d"
  }
 ],
 "metadata": {
  "kernelspec": {
   "display_name": "Python 3",
   "language": "python",
   "name": "python3"
  },
  "language_info": {
   "codemirror_mode": {
    "name": "ipython",
    "version": 2
   },
   "file_extension": ".py",
   "mimetype": "text/x-python",
   "name": "python",
   "nbconvert_exporter": "python",
   "pygments_lexer": "ipython2",
   "version": "2.7.6"
  }
 },
 "nbformat": 4,
 "nbformat_minor": 5
}
