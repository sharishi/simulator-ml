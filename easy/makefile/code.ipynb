{
 "cells": [
  {
   "cell_type": "markdown",
   "source": [
    "# MAKEFILE\n",
    "\n",
    "\n",
    "Makefile — это специальный файл (в имени файла не указывается расширение), который используется как «точка входа» в ваш проект. Он организует запуск различных действий с вашим проектом – в одном месте.\n",
    "\n",
    "\n",
    "\n",
    "С помощью одной команды make можно автоматизировать запуск скриптов и приложений, выполнение тестов, сборку датасетов и контейнеров, компиляций, линтеров и т.д. Определение стандартного набора команд позволяет организовать последовательный рабочий процесс внутри проекта, снижая вероятность ошибок. Это особенно удобно для новых ребят в проекте, потому что в одном месте сразу содержится список всех доступных скриптов (и необходимых для них окружений)."
   ],
   "metadata": {
    "collapsed": false
   },
   "id": "35cbfca186964148"
  },
  {
   "cell_type": "markdown",
   "source": [
    "```makefile\n",
    "# Makefile for Python Project\n",
    "SHELL := /bin/bash\n",
    ".PHONY: install dataset fit predict fit-predict test clean\n",
    "\n",
    "# Install project dependencies\n",
    "install:\n",
    "    pip install -r requirements.txt\n",
    "\n",
    "# Prepare data\n",
    "dataset:\n",
    "    source /root/miniconda3/etc/profile.d/conda.sh && \\\n",
    "    conda activate eta && \\\n",
    "    python scripts/data_preparation.py\n",
    "\n",
    "# Train the model\n",
    "fit:\n",
    "    source /root/miniconda3/etc/profile.d/conda.sh && \\\n",
    "    conda activate eta && \\\n",
    "    python scripts/train_model.py\n",
    "\n",
    "# Make predictions\n",
    "predict:\n",
    "    source /root/miniconda3/etc/profile.d/conda.sh && \\\n",
    "    conda activate eta && \\\n",
    "    python scripts/predict.py\n",
    "\n",
    "# Train the model and make predictions\n",
    "fit-predict: fit predict\n",
    "\n",
    "# Run tests\n",
    "test:\n",
    "    source /root/miniconda3/etc/profile.d/conda.sh && \\\n",
    "    conda activate eta-test && \\\n",
    "    python -m unittest discover tests\n",
    "\n",
    "# Clean up temporary files\n",
    "clean:\n",
    "    rm -rf __pycache__\n",
    "```"
   ],
   "metadata": {
    "collapsed": false
   },
   "id": "5511faf986fd181d"
  },
  {
   "cell_type": "markdown",
   "source": [
    "# Задание\n",
    "Скачайте шаблон архив проекта и распакуйте его. Внутри вы найдете следующий проект:\n",
    "\n",
    "project/\n",
    "|-- scripts/\n",
    "|   |-- predict.sh\n",
    "|   |-- preprocess.sh\n",
    "|   |-- docker_build.sh\n",
    "|-- Dockerfile\n",
    "|-- src/\n",
    "|   |-- predict.py\n",
    "|   |-- preprocess.py\n",
    "|-- Makefile\n",
    "\n",
    "\n",
    "Ваша задача: преобразовать предоставленные bash-скрипты в Makefile с соответствующими командами.\n",
    "\n",
    "Шаги:\n",
    "\n",
    "Откройте предоставленный Makefile.\n",
    "Создайте три команды: predict, preprocess, build-docker.\n",
    "Каждая команда должны выполнять те же действия, что одноименные скрипты в папке /scripts.\n",
    "Сохраните Makefile и протестируйте его, выполнив команды:  make predict и др.\n",
    "Скрипты в папке scripts/ теперь больше не нужны, их следует удалить.\n",
    "Отправьте ваш Makefile на проверку."
   ],
   "metadata": {
    "collapsed": false
   },
   "id": "4af27b4acb021249"
  },
  {
   "cell_type": "markdown",
   "source": [
    "```makefile\n",
    "# Makefile for mock ML project\n",
    "\n",
    "# Target for prediction\n",
    "predict:\n",
    "\techo \"Running the predict script...\"\n",
    "\tpython src/predict.py\n",
    "\n",
    "# Target for preprocessing\n",
    "preprocess:\n",
    "\techo \"Running the preprocessing script...\"\n",
    "\tpython src/preprocess.py\n",
    "\n",
    "# Target for building the Docker image\n",
    "build-docker:\n",
    "\techo \"Building the Docker image...\"\n",
    "\tdocker build -t mock_ml_image .\n",
    "\n",
    "```"
   ],
   "metadata": {
    "collapsed": false
   },
   "id": "c2dac59aab579b8d"
  },
  {
   "cell_type": "code",
   "execution_count": null,
   "id": "initial_id",
   "metadata": {
    "collapsed": true
   },
   "outputs": [],
   "source": []
  }
 ],
 "metadata": {
  "kernelspec": {
   "display_name": "Python 3",
   "language": "python",
   "name": "python3"
  },
  "language_info": {
   "codemirror_mode": {
    "name": "ipython",
    "version": 2
   },
   "file_extension": ".py",
   "mimetype": "text/x-python",
   "name": "python",
   "nbconvert_exporter": "python",
   "pygments_lexer": "ipython2",
   "version": "2.7.6"
  }
 },
 "nbformat": 4,
 "nbformat_minor": 5
}
