{
 "cells": [
  {
   "cell_type": "markdown",
   "source": [
    "# Описание задачи\n",
    "Компания стремится оперативно реагировать на изменения на рынке и поддерживать конкурентоспособность, поэтому ваша задача — извлечь из выгруженных HTML-страниц с товарами конкурентов необходимую информацию. Это поможет компании быстрее адаптироваться к рыночным условиям и предложить клиентам наиболее выгодные условия."
   ],
   "metadata": {
    "collapsed": false
   },
   "id": "b029322ca6a72922"
  },
  {
   "cell_type": "markdown",
   "source": [
    "# Парсинг и регулярные выражения"
   ],
   "metadata": {
    "collapsed": false
   },
   "id": "7606ef1847a459ef"
  },
  {
   "cell_type": "markdown",
   "source": [
    "\n",
    "Парсинг — это процесс извлечения структурированных данных из неструктурированных или частично структурированных источников. В контексте веб-скрапинга это означает получение нужной информации с веб-страниц.\n",
    "\n",
    "HTML (HyperText Markup Language) — стандартный язык разметки документов для создания веб-страниц. HTML используется для структурирования информации и представления ее в веб-браузерах.\n",
    "\n",
    "Теги HTML — элементы, используемые для создания структуры HTML-документа. Теги обычно заключены в угловые скобки, например, \\<div>, \\<span>, \\<h1>. Они могут содержать атрибуты, которые предоставляют дополнительную информацию об элементах."
   ],
   "metadata": {
    "collapsed": false
   },
   "id": "34feca9146c454b6"
  },
  {
   "cell_type": "markdown",
   "source": [
    "Регулярные выражения — это последовательности символов, которые определяют шаблон поиска. Они используются для поиска, совпадения и извлечения частей текста на основе заданных шаблонов."
   ],
   "metadata": {
    "collapsed": false
   },
   "id": "dcba61c961d5d427"
  },
  {
   "cell_type": "markdown",
   "source": [
    "Регулярные выражения являются мощным инструментом для работы с текстом. Основные из способов их использования:\n",
    "\n",
    "Фильтрация: регулярные выражения позволяют фильтровать строки текста, соответствующие определенным шаблонам. Это полезно, например, при извлечении номеров телефонов, адресов электронной почты или других специфических данных из большого текста.\n",
    "Поиск подстрок: с помощью регулярных выражений можно находить подстроки в тексте, которые соответствуют определенным условиям. Это позволяет извлекать нужные данные из сложных текстовых документов.\n",
    "Замена: регулярные выражения используются для замены найденных подстрок другими значениями. Это полезно, например, для форматирования текста или очистки данных.\n",
    "Разделение текста: регулярные выражения также могут использоваться для разделения текста на основе сложных шаблонов. Это полезно для разбора текста на части.\n",
    "Библиотека re в Python\n",
    "Библиотека re предоставляет мощные средства для работы с регулярными выражениями. Библиотека re включает функции для поиска, разделения, замены и извлечения текста на основе заданных шаблонов.\n",
    "\n",
    "Основные функции библиотеки re:\n",
    "\n",
    "re.compile(pattern) – компиляция шаблона регулярного выражения. \n",
    "re.search(pattern, string) – поиск первого совпадения шаблона в строке.\n",
    "re.match(pattern, string) – проверка, совпадает ли шаблон с началом строки.\n",
    "re.findall(pattern, string) – поиск всех совпадений шаблона в строке.\n",
    "re.sub(pattern, repl, string) – замена всех совпадений шаблона на заданную подстроку."
   ],
   "metadata": {
    "collapsed": false
   },
   "id": "cb0912ad3d12fba2"
  },
  {
   "cell_type": "markdown",
   "source": [
    "Задание\n",
    "Напишите функцию parse_product_info, которая принимает HTML-код в виде строки и возвращает словарь со следующими ключами:\n",
    "\n",
    "1. title – название товара;\n",
    "2. category – категория товара\n",
    "3. old_price – базовая (перечеркнутая цена)\n",
    "4. new_price – текущая цена\n",
    "\n"
   ],
   "metadata": {
    "collapsed": false
   },
   "id": "9e96c5627ac7c03d"
  },
  {
   "cell_type": "code",
   "execution_count": 11,
   "id": "initial_id",
   "metadata": {
    "collapsed": true,
    "ExecuteTime": {
     "end_time": "2024-10-26T09:12:04.084697200Z",
     "start_time": "2024-10-26T09:12:04.067175500Z"
    }
   },
   "outputs": [],
   "source": [
    "import re\n",
    "\n",
    "def parse_product_info(html: str) -> dict:\n",
    "    \"\"\"\n",
    "    Extracts product information from the given HTML.\n",
    "\n",
    "    Parameters:\n",
    "        html (str): The input HTML data.\n",
    "\n",
    "    Returns:\n",
    "        product_info (dict): A dictionary containing the product's info.\n",
    "    \"\"\"\n",
    "\n",
    "    # Регулярные выражения для извлечения информации\n",
    "    title_pattern = r'<h1(.+?) class=\"product-title\">(.+?)<\\/h1>'\n",
    "    category_pattern = r'<(.+?) class=\"(.+?)category(.+?)\".*?>(.*?)<\\/\\1>'\n",
    "    old_price_pattern = r'<(.+?) class=\"price-old\"(.+?)>(.+?)<(.+?)>'\n",
    "    new_price_pattern = r'<(.+?) class=\"price-new\"(.+?)>(.+?)<(.+?)>'\n",
    "\n",
    "    title = re.search(title_pattern, html)\n",
    "    category = re.search(category_pattern, html)\n",
    "    old_price = re.search(old_price_pattern, html)\n",
    "    new_price = re.search(new_price_pattern, html)\n",
    "\n",
    "    product_info = {\n",
    "        'title': title.group(2) if title else None,\n",
    "        'category': category.group(4) if category else None,\n",
    "        'old_price': old_price.group(3) if old_price else None,\n",
    "        'new_price': new_price.group(3) if new_price else None,\n",
    "    }\n",
    "    \n",
    "    return product_info\n"
   ]
  },
  {
   "cell_type": "code",
   "execution_count": 23,
   "outputs": [],
   "source": [
    "import re\n",
    "\n",
    "\n",
    "def remove_html_tags(text: str) -> str:\n",
    "    \"\"\"Removes HTML tags from a given string.\"\"\"\n",
    "    clean_pattern = re.compile(r'<.*?>')\n",
    "    return clean_pattern.sub('', text)\n",
    "\n",
    "\n",
    "def parse_product_info(html: str) -> dict:\n",
    "    \"\"\"\n",
    "    Extracts product information from the given HTML.\n",
    "\n",
    "    Parameters:\n",
    "        html (str): The input HTML data.\n",
    "\n",
    "    Returns:\n",
    "        product_info (dict): A dictionary containing the product's info.\n",
    "    \"\"\"\n",
    "\n",
    "    # Регулярные выражения для извлечения информации\n",
    "    title_pattern = r'<h1 class=\"product-title\">(.+?)<\\/h1>'\n",
    "    category_pattern = r'<(.+?) class=\"product-category\".*?>(.*?)<\\/\\1>'\n",
    "    old_price_pattern = r'<span class=\"price-old\">(.+?)<\\/span>'\n",
    "    new_price_pattern = r'<span class=\"price-new\">(.+?)<\\/span>'\n",
    "\n",
    "    title = re.search(title_pattern, html)\n",
    "    category = re.search(category_pattern, html)\n",
    "    old_price = re.search(old_price_pattern, html)\n",
    "    new_price = re.search(new_price_pattern, html)\n",
    "\n",
    "    product_info = {\n",
    "        'title': remove_html_tags(title.group(1)) if title else '',\n",
    "        'category': remove_html_tags(category.group(2)) if category else '',\n",
    "        'old_price': remove_html_tags(old_price.group(1)) if old_price else '',\n",
    "        'new_price': remove_html_tags(new_price.group(1)) if new_price else '',\n",
    "    }\n",
    "\n",
    "    return product_info\n"
   ],
   "metadata": {
    "collapsed": false,
    "ExecuteTime": {
     "end_time": "2024-10-26T10:08:41.014037400Z",
     "start_time": "2024-10-26T10:08:41.007039500Z"
    }
   },
   "id": "f2769ec46086a125"
  },
  {
   "cell_type": "code",
   "execution_count": 24,
   "outputs": [
    {
     "name": "stdout",
     "output_type": "stream",
     "text": [
      "{'title': 'Example Product', 'category': 'Example Category', 'old_price': '$100.00', 'new_price': '$80.00'}\n"
     ]
    }
   ],
   "source": [
    "html = '''<html>\n",
    "<head><title>Example Product Page</title></head>\n",
    "<body>\n",
    "    <h1 class=\"product-title\">Example Product</h1>\n",
    "    <a class=\"product-category\" href=\"/category\">Example Category</a>\n",
    "    <span class=\"price-old\">$100.00</span>\n",
    "    <span class=\"price-new\">$80.00</span>\n",
    "</body>\n",
    "</html>'''\n",
    "       \n",
    "\n",
    "product_info = parse_product_info(html)\n",
    "print(product_info)\n",
    "# {\n",
    "#     'title': 'Example Product',\n",
    "#     'category': 'Example Category',\n",
    "#     'old_price': '$100.00',\n",
    "#     'new_price': '$80.00'\n",
    "# }"
   ],
   "metadata": {
    "collapsed": false,
    "ExecuteTime": {
     "end_time": "2024-10-26T10:08:41.722767700Z",
     "start_time": "2024-10-26T10:08:41.720240800Z"
    }
   },
   "id": "f6a0be7924f2df50"
  },
  {
   "cell_type": "code",
   "execution_count": null,
   "outputs": [],
   "source": [
    "import re\n",
    "\n",
    "\n",
    "def parse_product_info(html: str) -> dict:\n",
    "    \"\"\"\n",
    "    Extracts product information from the given HTML.\n",
    "\n",
    "    Parameters:\n",
    "        html (str): The input HTML data.\n",
    "\n",
    "    Returns:\n",
    "        product_info (dict): A dictionary containing the product's info.\n",
    "    \"\"\"\n",
    "    \n",
    "    title_pattern = re.compile(\n",
    "    \tr'class=\"product-title\">(.*?)</h1>', re.DOTALL\n",
    "    )\n",
    "    category_pattern = re.compile(\n",
    "    \tr'class=\"product-category\">(.*?)</', re.DOTALL\n",
    "    )\n",
    "    old_price_pattern = re.compile(\n",
    "        r'class=\"price-old\">(?:<strike>)?(.*?)(?:</strike>)?</', re.DOTALL\n",
    "    )\n",
    "    new_price_pattern = re.compile(\n",
    "    \tr'class=\"price-new\">(.*?)</', re.DOTALL\n",
    "    )\n",
    "\n",
    "    def clean_html(raw_html):\n",
    "        clean_pattern = re.compile('<.*?>')\n",
    "        clean_text = re.sub(clean_pattern, '', raw_html)\n",
    "        return clean_text.strip()\n",
    "\n",
    "    title_match = title_pattern.search(html)\n",
    "    category_match = category_pattern.search(html)\n",
    "    old_price_match = old_price_pattern.search(html)\n",
    "    new_price_match = new_price_pattern.search(html)\n",
    "\n",
    "    title = clean_html(title_match.group(1))\n",
    "    category = clean_html(category_match.group(1))\n",
    "    old_price = clean_html(old_price_match.group(1))\n",
    "    new_price = clean_html(new_price_match.group(1))\n",
    "\n",
    "    product_info = {\n",
    "        'title': title,\n",
    "        'category': category,\n",
    "        'old_price': old_price,\n",
    "        'new_price': new_price,\n",
    "    }\n",
    "\n",
    "    return product_info"
   ],
   "metadata": {
    "collapsed": false
   },
   "id": "6cc478e44e75e084"
  }
 ],
 "metadata": {
  "kernelspec": {
   "display_name": "Python 3",
   "language": "python",
   "name": "python3"
  },
  "language_info": {
   "codemirror_mode": {
    "name": "ipython",
    "version": 2
   },
   "file_extension": ".py",
   "mimetype": "text/x-python",
   "name": "python",
   "nbconvert_exporter": "python",
   "pygments_lexer": "ipython2",
   "version": "2.7.6"
  }
 },
 "nbformat": 4,
 "nbformat_minor": 5
}
