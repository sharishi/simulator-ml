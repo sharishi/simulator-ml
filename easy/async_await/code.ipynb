{
 "cells": [
  {
   "cell_type": "markdown",
   "source": [
    "# ASYNC AWAIT"
   ],
   "metadata": {
    "collapsed": false
   },
   "id": "4adf071379b1df01"
  },
  {
   "cell_type": "markdown",
   "source": [
    "Асинхронное программирование позволяет программам эффективно обрабатывать множество задач одновременно, не блокируя основной поток выполнения во время ожидания операций. Этот метод улучшает производительность, позволяя использовать время ожидания для выполнения других задач и оптимизируя использование ресурсов. "
   ],
   "metadata": {
    "collapsed": false
   },
   "id": "6bd942ee33e29936"
  },
  {
   "cell_type": "markdown",
   "source": [
    "Важно уметь различать задачи, связанные с вводом-выводом (I/O-bound tasks), и задачи, требующие интенсивных вычислений (CPU-bound tasks)."
   ],
   "metadata": {
    "collapsed": false
   },
   "id": "e3d0c2ddea3e9dbc"
  },
  {
   "cell_type": "markdown",
   "source": [
    "I/O-bound операции включают в себя время ожидания для завершения таких действий, как выполнение сетевых запросов или чтение данных с диска. В этих случаях применение асинхронного программирования оказывается особенно эффективным. \n",
    "\n",
    "CPU-bound операции представляют собой вычисления, требующие значительных ресурсов процессора. Хотя асинхронность не является единственным способом ускорения вычислительных операций, такие задачи могут быть оптимизированы в рамках асинхронной программы. Например, можно эффективно задеплоить ML-модель в асинхронный сервис.\n",
    "\n",
    "Python поддерживает асинхронное программирование с помощью конструкций async и await. Библиотека asyncio предоставляет необходимый фреймворк для написания асинхронного кода. Она использует такие концепции, как корутины (функции, определенные с помощью async def), задачи (запланированные корутины) и цикл событий (основа механизма выполнения asyncio), для управления асинхронными операциями."
   ],
   "metadata": {
    "collapsed": false
   },
   "id": "909270c039f89325"
  },
  {
   "cell_type": "markdown",
   "source": [
    "# Задание\n",
    "Вам дан код синхронного FastAPI сервиса (API), предназначенного для парсинга HTML-страниц. Сервис принимает URL (функция /parse_url/), по которому он выполняет HTTP-запрос, а затем имитирует процесс парсинга страницы. Время, затрачиваемое на парсинг, варьируется: обычно это 0.1 секунды, но с вероятностью 10% это время увеличивается в несколько раз, что имитирует случаи более сложного и длительного парсинга.\n",
    "\n",
    "В функции run_test происходит симуляция нагрузки на API при обработке множества запросов одновременно. Поскольку сервис является синхронным, он будет обрабатывать каждый входящий запрос последовательно, то есть начнет обрабатывать следующий запрос только после того, как закончит обработку предыдущего. Это может привести к простою при обработке большого количества запросов, особенно из-за периодических \"зависаний\" в парсинге.\n",
    "\n",
    "Симуляция в данном случае означает тестирование сервиса в тестовой среде (TestClient) без необходимости запуска сервера на компьютере. Такой метод подходит для написания юнит-тестов и других видов тестирования API."
   ],
   "metadata": {
    "collapsed": false
   },
   "id": "7c48431545ec3a64"
  },
  {
   "cell_type": "code",
   "execution_count": 2,
   "id": "initial_id",
   "metadata": {
    "collapsed": true,
    "ExecuteTime": {
     "end_time": "2024-10-20T11:21:59.474533500Z",
     "start_time": "2024-10-20T11:20:45.258240900Z"
    }
   },
   "outputs": [
    {
     "name": "stdout",
     "output_type": "stream",
     "text": [
      "Time taken: 73.88819169998169 seconds\n"
     ]
    }
   ],
   "source": [
    "import random\n",
    "import time\n",
    "\n",
    "import httpx\n",
    "from fastapi import FastAPI\n",
    "from fastapi.testclient import TestClient\n",
    "\n",
    "app = FastAPI()\n",
    "\n",
    "\n",
    "@app.post(\"/parse_url/\")\n",
    "def parse_url(url: str) -> str:\n",
    "    try:\n",
    "        with httpx.Client() as client:\n",
    "            r = client.get(url)\n",
    "            r.raise_for_status()\n",
    "\n",
    "            parse_time = 0.1 * random.randint(5, 10) if random.random() < 0.1 else 0.1\n",
    "            time.sleep(parse_time)\n",
    "\n",
    "            return f\"Parsed {url}\"\n",
    "    except Exception as e:\n",
    "        return f\"Error fetching {url}: {e}\"\n",
    "\n",
    "\n",
    "def run_test(n_requests: int) -> float:\n",
    "    url = \"https://httpbin.org/\"\n",
    "\n",
    "    with TestClient(app) as client:\n",
    "        ts = time.time()\n",
    "        for _ in range(n_requests):\n",
    "            _ = client.post(\"/parse_url/\", params={\"url\": url})\n",
    "        return time.time() - ts\n",
    "\n",
    "\n",
    "if __name__ == \"__main__\":\n",
    "    t = run_test(n_requests=100)\n",
    "    print(f\"Time taken: {t} seconds\")\n"
   ]
  },
  {
   "cell_type": "markdown",
   "source": [
    "Перепишите сервис:\n",
    "\n",
    "Перепишите сервис, сделав его асинхронным. Функция parse_url асинхронно извлекает содержимое по-указанному URL, включая случайную задержку, чтобы имитировать время обработки, а run_test симулирует нагрузку, выполняя множество асинхронных запросов к API одновременно и возвращая общее время выполнения."
   ],
   "metadata": {
    "collapsed": false
   },
   "id": "18cf08d1df827190"
  },
  {
   "cell_type": "code",
   "execution_count": 9,
   "outputs": [
    {
     "name": "stderr",
     "output_type": "stream",
     "text": [
      "<frozen genericpath>:77: RuntimeWarning: coroutine 'run_test' was never awaited\n",
      "RuntimeWarning: Enable tracemalloc to get the object allocation traceback\n"
     ]
    },
    {
     "ename": "RuntimeError",
     "evalue": "asyncio.run() cannot be called from a running event loop",
     "output_type": "error",
     "traceback": [
      "\u001B[1;31m---------------------------------------------------------------------------\u001B[0m",
      "\u001B[1;31mRuntimeError\u001B[0m                              Traceback (most recent call last)",
      "Cell \u001B[1;32mIn[9], line 38\u001B[0m\n\u001B[0;32m     35\u001B[0m         \u001B[38;5;28;01mreturn\u001B[39;00m time\u001B[38;5;241m.\u001B[39mtime() \u001B[38;5;241m-\u001B[39m ts\n\u001B[0;32m     37\u001B[0m \u001B[38;5;28;01mif\u001B[39;00m \u001B[38;5;18m__name__\u001B[39m \u001B[38;5;241m==\u001B[39m \u001B[38;5;124m\"\u001B[39m\u001B[38;5;124m__main__\u001B[39m\u001B[38;5;124m\"\u001B[39m:\n\u001B[1;32m---> 38\u001B[0m     t \u001B[38;5;241m=\u001B[39m \u001B[43masyncio\u001B[49m\u001B[38;5;241;43m.\u001B[39;49m\u001B[43mrun\u001B[49m\u001B[43m(\u001B[49m\u001B[43mrun_test\u001B[49m\u001B[43m(\u001B[49m\u001B[43mn_requests\u001B[49m\u001B[38;5;241;43m=\u001B[39;49m\u001B[38;5;241;43m100\u001B[39;49m\u001B[43m)\u001B[49m\u001B[43m)\u001B[49m\n\u001B[0;32m     39\u001B[0m     \u001B[38;5;28mprint\u001B[39m(\u001B[38;5;124mf\u001B[39m\u001B[38;5;124m\"\u001B[39m\u001B[38;5;124mTime taken: \u001B[39m\u001B[38;5;132;01m{\u001B[39;00mt\u001B[38;5;132;01m}\u001B[39;00m\u001B[38;5;124m seconds\u001B[39m\u001B[38;5;124m\"\u001B[39m)\n",
      "File \u001B[1;32mC:\\Program Files\\Python311\\Lib\\asyncio\\runners.py:186\u001B[0m, in \u001B[0;36mrun\u001B[1;34m(main, debug)\u001B[0m\n\u001B[0;32m    161\u001B[0m \u001B[38;5;250m\u001B[39m\u001B[38;5;124;03m\"\"\"Execute the coroutine and return the result.\u001B[39;00m\n\u001B[0;32m    162\u001B[0m \n\u001B[0;32m    163\u001B[0m \u001B[38;5;124;03mThis function runs the passed coroutine, taking care of\u001B[39;00m\n\u001B[1;32m   (...)\u001B[0m\n\u001B[0;32m    182\u001B[0m \u001B[38;5;124;03m    asyncio.run(main())\u001B[39;00m\n\u001B[0;32m    183\u001B[0m \u001B[38;5;124;03m\"\"\"\u001B[39;00m\n\u001B[0;32m    184\u001B[0m \u001B[38;5;28;01mif\u001B[39;00m events\u001B[38;5;241m.\u001B[39m_get_running_loop() \u001B[38;5;129;01mis\u001B[39;00m \u001B[38;5;129;01mnot\u001B[39;00m \u001B[38;5;28;01mNone\u001B[39;00m:\n\u001B[0;32m    185\u001B[0m     \u001B[38;5;66;03m# fail fast with short traceback\u001B[39;00m\n\u001B[1;32m--> 186\u001B[0m     \u001B[38;5;28;01mraise\u001B[39;00m \u001B[38;5;167;01mRuntimeError\u001B[39;00m(\n\u001B[0;32m    187\u001B[0m         \u001B[38;5;124m\"\u001B[39m\u001B[38;5;124masyncio.run() cannot be called from a running event loop\u001B[39m\u001B[38;5;124m\"\u001B[39m)\n\u001B[0;32m    189\u001B[0m \u001B[38;5;28;01mwith\u001B[39;00m Runner(debug\u001B[38;5;241m=\u001B[39mdebug) \u001B[38;5;28;01mas\u001B[39;00m runner:\n\u001B[0;32m    190\u001B[0m     \u001B[38;5;28;01mreturn\u001B[39;00m runner\u001B[38;5;241m.\u001B[39mrun(main)\n",
      "\u001B[1;31mRuntimeError\u001B[0m: asyncio.run() cannot be called from a running event loop"
     ]
    }
   ],
   "source": [
    "import asyncio\n",
    "import random\n",
    "import time\n",
    "\n",
    "import httpx\n",
    "from fastapi import FastAPI\n",
    "\n",
    "app = FastAPI()\n",
    "\n",
    "\n",
    "@app.post(\"/parse_url/\")\n",
    "# async parse_url\n",
    "async def parse_url(url: str) -> str:\n",
    "    \"\"\"Asynchronous function to parse url\"\"\"\n",
    "    try:\n",
    "        async with httpx.AsyncClient() as client:\n",
    "            r = await client.get(url)\n",
    "            r.raise_for_status()\n",
    "\n",
    "            parse_time = 0.1 * random.randint(5, 10) if random.random() < 0.1 else 0.1\n",
    "            await asyncio.sleep(parse_time)\n",
    "\n",
    "            return f\"Parsed {url}\"\n",
    "    except Exception as e:\n",
    "        return f\"Error fetching {url}: {e}\"\n",
    "\n",
    "\n",
    "# async run_test\n",
    "async def run_test(n_requests: int) -> float:\n",
    "    \"\"\" Asynchronous function to run test\"\"\"\n",
    "    url = \"https://httpbin.org/\"\n",
    "\n",
    "    async with httpx.AsyncClient() as client:\n",
    "        ts = time.time()\n",
    "        tasks = [client.post(\"http://localhost:8000/parse_url/\", json={\"url\": url}) for _ in range(n_requests)]\n",
    "        await asyncio.gather(*tasks)\n",
    "        return time.time() - ts\n",
    "\n",
    "if __name__ == \"__main__\":\n",
    "    t = asyncio.run(run_test(n_requests=100))\n",
    "    print(f\"Time taken: {t} seconds\")\n"
   ],
   "metadata": {
    "collapsed": false,
    "ExecuteTime": {
     "end_time": "2024-10-20T11:57:53.387760100Z",
     "start_time": "2024-10-20T11:57:53.325000700Z"
    }
   },
   "id": "b8c0996458e2c7dd"
  },
  {
   "cell_type": "code",
   "execution_count": 10,
   "outputs": [
    {
     "ename": "RuntimeError",
     "evalue": "asyncio.run() cannot be called from a running event loop",
     "output_type": "error",
     "traceback": [
      "\u001B[1;31m---------------------------------------------------------------------------\u001B[0m",
      "\u001B[1;31mRuntimeError\u001B[0m                              Traceback (most recent call last)",
      "Cell \u001B[1;32mIn[10], line 43\u001B[0m\n\u001B[0;32m     39\u001B[0m         \u001B[38;5;28;01mreturn\u001B[39;00m time\u001B[38;5;241m.\u001B[39mtime() \u001B[38;5;241m-\u001B[39m ts\n\u001B[0;32m     42\u001B[0m \u001B[38;5;28;01mif\u001B[39;00m \u001B[38;5;18m__name__\u001B[39m \u001B[38;5;241m==\u001B[39m \u001B[38;5;124m\"\u001B[39m\u001B[38;5;124m__main__\u001B[39m\u001B[38;5;124m\"\u001B[39m:\n\u001B[1;32m---> 43\u001B[0m     t \u001B[38;5;241m=\u001B[39m \u001B[43masyncio\u001B[49m\u001B[38;5;241;43m.\u001B[39;49m\u001B[43mrun\u001B[49m\u001B[43m(\u001B[49m\u001B[43mrun_test\u001B[49m\u001B[43m(\u001B[49m\u001B[43mn_requests\u001B[49m\u001B[38;5;241;43m=\u001B[39;49m\u001B[38;5;241;43m100\u001B[39;49m\u001B[43m)\u001B[49m\u001B[43m)\u001B[49m\n\u001B[0;32m     44\u001B[0m     \u001B[38;5;28mprint\u001B[39m(\u001B[38;5;124mf\u001B[39m\u001B[38;5;124m\"\u001B[39m\u001B[38;5;124mTime taken: \u001B[39m\u001B[38;5;132;01m{\u001B[39;00mt\u001B[38;5;132;01m}\u001B[39;00m\u001B[38;5;124m seconds\u001B[39m\u001B[38;5;124m\"\u001B[39m)\n",
      "File \u001B[1;32mC:\\Program Files\\Python311\\Lib\\asyncio\\runners.py:186\u001B[0m, in \u001B[0;36mrun\u001B[1;34m(main, debug)\u001B[0m\n\u001B[0;32m    161\u001B[0m \u001B[38;5;250m\u001B[39m\u001B[38;5;124;03m\"\"\"Execute the coroutine and return the result.\u001B[39;00m\n\u001B[0;32m    162\u001B[0m \n\u001B[0;32m    163\u001B[0m \u001B[38;5;124;03mThis function runs the passed coroutine, taking care of\u001B[39;00m\n\u001B[1;32m   (...)\u001B[0m\n\u001B[0;32m    182\u001B[0m \u001B[38;5;124;03m    asyncio.run(main())\u001B[39;00m\n\u001B[0;32m    183\u001B[0m \u001B[38;5;124;03m\"\"\"\u001B[39;00m\n\u001B[0;32m    184\u001B[0m \u001B[38;5;28;01mif\u001B[39;00m events\u001B[38;5;241m.\u001B[39m_get_running_loop() \u001B[38;5;129;01mis\u001B[39;00m \u001B[38;5;129;01mnot\u001B[39;00m \u001B[38;5;28;01mNone\u001B[39;00m:\n\u001B[0;32m    185\u001B[0m     \u001B[38;5;66;03m# fail fast with short traceback\u001B[39;00m\n\u001B[1;32m--> 186\u001B[0m     \u001B[38;5;28;01mraise\u001B[39;00m \u001B[38;5;167;01mRuntimeError\u001B[39;00m(\n\u001B[0;32m    187\u001B[0m         \u001B[38;5;124m\"\u001B[39m\u001B[38;5;124masyncio.run() cannot be called from a running event loop\u001B[39m\u001B[38;5;124m\"\u001B[39m)\n\u001B[0;32m    189\u001B[0m \u001B[38;5;28;01mwith\u001B[39;00m Runner(debug\u001B[38;5;241m=\u001B[39mdebug) \u001B[38;5;28;01mas\u001B[39;00m runner:\n\u001B[0;32m    190\u001B[0m     \u001B[38;5;28;01mreturn\u001B[39;00m runner\u001B[38;5;241m.\u001B[39mrun(main)\n",
      "\u001B[1;31mRuntimeError\u001B[0m: asyncio.run() cannot be called from a running event loop"
     ]
    }
   ],
   "source": [
    "import asyncio\n",
    "import random\n",
    "import time\n",
    "\n",
    "import httpx\n",
    "from fastapi import FastAPI\n",
    "\n",
    "app = FastAPI()\n",
    "\n",
    "\n",
    "@app.post(\"/parse_url/\")\n",
    "async def parse_url(url: str):\n",
    "    try:\n",
    "        async with httpx.AsyncClient() as client:\n",
    "            r = await client.get(url)\n",
    "            r.raise_for_status()\n",
    "\n",
    "            parse_time = 0.5 if random.random() < 0.1 else 0.1\n",
    "            await asyncio.sleep(parse_time)\n",
    "\n",
    "            return f\"Parsed {url}\"\n",
    "    except Exception as e:\n",
    "        return f\"Error fetching {url}: {e}\"\n",
    "\n",
    "\n",
    "async def run_test(n_requests: int):\n",
    "    url = \"https://httpbin.org/\"\n",
    "\n",
    "    async with httpx.AsyncClient(\n",
    "        app=app,\n",
    "        base_url=\"http://test\",\n",
    "    ) as client:\n",
    "        tasks = []\n",
    "        for _ in range(n_requests):\n",
    "            tasks.append(client.post(\"/parse_url/\", params={\"url\": url}))\n",
    "\n",
    "        ts = time.time()\n",
    "        _ = await asyncio.gather(*tasks)\n",
    "        return time.time() - ts\n",
    "\n",
    "\n",
    "if __name__ == \"__main__\":\n",
    "    t = asyncio.run(run_test(n_requests=100))\n",
    "    print(f\"Time taken: {t} seconds\")\n"
   ],
   "metadata": {
    "collapsed": false,
    "ExecuteTime": {
     "end_time": "2024-10-20T12:04:20.837004100Z",
     "start_time": "2024-10-20T12:04:20.728487500Z"
    }
   },
   "id": "5c40439ec73e22aa"
  },
  {
   "cell_type": "code",
   "execution_count": null,
   "outputs": [],
   "source": [],
   "metadata": {
    "collapsed": false
   },
   "id": "33077a78b9a6c5d9"
  }
 ],
 "metadata": {
  "kernelspec": {
   "display_name": "Python 3",
   "language": "python",
   "name": "python3"
  },
  "language_info": {
   "codemirror_mode": {
    "name": "ipython",
    "version": 2
   },
   "file_extension": ".py",
   "mimetype": "text/x-python",
   "name": "python",
   "nbconvert_exporter": "python",
   "pygments_lexer": "ipython2",
   "version": "2.7.6"
  }
 },
 "nbformat": 4,
 "nbformat_minor": 5
}
