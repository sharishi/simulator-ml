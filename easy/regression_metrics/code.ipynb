{
 "cells": [
  {
   "cell_type": "markdown",
   "source": [
    "# REGRESSION METRICS\n",
    "В этой задаче погрузимся в одну из ключевых тем, с которой начинается изучение машинного обучения - метрики регрессии. Метрики регрессии являются основополагающими инструментами для оценки и сравнения регрессионных моделей. Они часто встречаются на собеседованиях и являются важной частью аналитического арсенала ML-инженера. Поэтому, даже если вы уже знакомы с основными метриками, повторение будет полезным, а тем, кто впервые сталкивается с этой темой, поможет лучше понять их суть и применение."
   ],
   "metadata": {
    "collapsed": false
   },
   "id": "2484b1451d9589e9"
  },
  {
   "cell_type": "markdown",
   "source": [
    "## Задача регрессии\n",
    "Задача регрессии в машинном обучении заключается в прогнозировании непрерывных значений на основе одной или нескольких входных переменных. Регрессия ищет взаимосвязь между переменными и используется для прогнозирования одной зависимой (целевой) переменной на основе значений одной или нескольких независимых переменных."
   ],
   "metadata": {
    "collapsed": false
   },
   "id": "75b6c8634dbbcd56"
  },
  {
   "cell_type": "markdown",
   "source": [
    "MSE и RMSE\n",
    "MSE (Mean Squared Error) измеряет среднее квадратичное различие между фактическими и предсказанными значениями. Эта метрика широко используется для оценки общей точности модели и особенно полезна, когда нужно уделить больше внимания большим ошибкам (из-за квадратичной природы ошибки). Такие большие ошибки еще называют выбросами.\n",
    "\n",
    "\n",
    "RMSE (Root Mean Squared Error) - это квадратный корень из MSE. Она позволяет оценивать величину ошибки в величинах того же порядка, что и исходная целевая переменная.\n",
    "\n",
    "Например, если мы прогнозируем период в днях, то оценивать величину ошибки в днях намного удобнее, чем в квадратах дней. В остальном эта точно такая же MSE и обладает такими же свойствами."
   ],
   "metadata": {
    "collapsed": false
   },
   "id": "5078fbaabd7432d"
  },
  {
   "cell_type": "markdown",
   "source": [
    "MAE\n",
    "MAE (Mean Absolute Error) измеряет среднее абсолютное различие между фактическими и прогнозируемыми значениями. Эта метрика дает меру точности в тех же единицах, что и данные, что облегчает интерпретацию. MAE менее чувствительна к выбросам, чем MSE (RMSE).\n",
    "\n",
    "\n",
    "MAE vs MSE\n",
    "Важное отличие между MAE и MSE (RMSE), которое стоит учитывать - это чувствительность к выбросам. В зависимости от задачи такое свойство может быть как полезным, так и вредным.\n",
    "\n",
    "Рассмотрим пример:\n",
    "\n",
    "Фактические значения для 5 наблюдений составляют:  [4, 5, 8, 7, 5]\n",
    "\n",
    "Модель предсказывает следующие значения: [3, 6, 1, 7, 4]\n",
    "\n",
    "MAE = 2.0\n",
    "\n",
    "RMSE = 3.2\n",
    "\n",
    "Значение ошибки отличается в 1.6 раза.\n",
    "\n",
    "Модели, качество которых оцениваем по MAE, будут стремиться в среднем предсказывать точные значения. Даже если на 10 хороших примеров будет одна очень большая ошибка, она не сильно повлияет на итоговую метрику.\n",
    "\n",
    "Модели, которые мы оцениваем по MSE (RMSE) будут наоборот стремиться минимизировать предсказания с большими ошибками. Потому что каждая большая ошибка будет квадратично увеличивать среднее значение метрики.\n",
    "\n",
    "Предположим мы разрабатываем модель  предсказания оценки фильма, которую поставит пользователь, чтобы решить показывать ему фильм в рекомендациях или нет. Не так страшно, если для некоторых пользователей мы сильно ошибемся и покажем нерелевантные рекомендации. Главное, чтобы в среднем наши оценки были максимально точными. Здесь выбор MAE будет уместным.\n",
    "\n",
    "Или второй пример. В системе автопилота самолета мы разрабатываем модель, которая предсказывает угол наклона крыла. Даже 1 ошибка из 100 может быть критичной. Теперь нам не подходит просто точная модель в среднем. Намного важнее, чтобы она не делала сильно больших ошибок в отдельных случаях. Здесь выбор MSE будет более уместным, чем MAE."
   ],
   "metadata": {
    "collapsed": false
   },
   "id": "d4c7a08cd05e1182"
  },
  {
   "cell_type": "markdown",
   "source": [
    "MAPE\n",
    "MAPE (Mean Absolute Percentage Error) показывает среднее абсолютное процентное различие между фактическими и прогнозируемыми значениями. Эта метрика особенно полезна, когда мы хотим понять ошибку в процентном выражении, что делает ее легко интерпретируемой.\n",
    "\n",
    "MAPE особенно полезна в задачах, где важно учитывать относительные ошибки, а не абсолютные значения. Это часто встречается в экономике и финансах, например, при прогнозировании продаж.\n",
    "\n",
    "Предположим, компания прогнозирует продажи продуктов. Если фактическая продажа составляет 1000 единиц, а прогноз составляет 900, ошибка в 100 единиц может показаться значительной. Однако, если речь идет о продукте с продажами в 10000 единиц, ошибка в 100 единиц уже не будет казаться столь существенной. MAPE, показывая ошибку в процентном соотношении от фактического значения, помогает лучше оценить значимость ошибки в разных масштабах.\n",
    "\n",
    "У этой метрики есть недостатки. Например, она не симметричная. Подробнее об этом в задаче SMAPE. Рекомендуем решить ее после этой задачи.\n",
    "\n",
    "  - это мера, показывающая, какая доля изменчивости зависимой переменной может быть объяснена независимыми переменными модели. Этот коэффициент дает представление о том, насколько хорошо данные подходят под нашу модель.\n",
    "\n",
    "\n",
    "Давайте рассмотрим пример, в котором использование коэффициента детерминации R2\n",
    "  будет особенно полезно. Независимые переменные могут включать площадь недвижимости, расположение, возраст здания, близость к общественному транспорту и другие факторы. Зависимая переменная — это цена недвижимости.\n",
    "\n",
    "После обучения модели на основе доступных данных мы получаем значение R2, например, 0.85. Это означает, что 85% вариации цен на недвижимость можно объяснить используемыми в модели переменными.\n",
    "\n",
    "Таким образом, R2 является ключевым показателем в ситуациях, где нам нужно оценить, насколько хорошо наша модель отражает действительность, и насколько мы можем доверять её прогнозам на основе имеющихся данных."
   ],
   "metadata": {
    "collapsed": false
   },
   "id": "6276b4a5514ec74"
  },
  {
   "cell_type": "markdown",
   "source": [
    "# Задание №1\n",
    "Многие библиотеки уже содержат эти метрики. Но в этом задании вам необходимо будет реализовать функции для расчета этих метрик самостоятельно.\n",
    "\n",
    "Напишите функции для расчета:\n",
    "\n",
    "MSE\n",
    "RMSE\n",
    "MAE\n",
    "MAPE\n",
    "R2\n",
    " "
   ],
   "metadata": {
    "collapsed": false
   },
   "id": "9a95e5901fddde63"
  },
  {
   "cell_type": "code",
   "execution_count": 6,
   "outputs": [
    {
     "name": "stdout",
     "output_type": "stream",
     "text": [
      "All tests passed.\n"
     ]
    }
   ],
   "source": [
    "from typing import Any\n",
    "\n",
    "import numpy as np\n",
    "from numpy import floating\n",
    "\n",
    "\n",
    "def mean_squared_error(actual: np.ndarray, predicted: np.ndarray) -> float:\n",
    "    \"\"\"Returns the mean squared error\"\"\"\n",
    "    return np.mean((actual - predicted)**2)\n",
    "\n",
    "\n",
    "def root_mean_squared_error(actual: np.ndarray, predicted: np.ndarray) -> float:\n",
    "    \"\"\"Returns the root squared error\"\"\"\n",
    "    return (np.mean((actual - predicted)**2))**0.5\n",
    "\n",
    "\n",
    "def mean_absolute_error(actual: np.ndarray, predicted: np.ndarray) -> float:\n",
    "    \"\"\" Return the mean absolute error\"\"\"\n",
    "    return np.mean(np.abs((actual - predicted)))\n",
    "\n",
    "\n",
    "def mean_absolute_percentage_error(actual: np.ndarray, predicted: np.ndarray) -> float:\n",
    "    \"\"\"Return the mean absolute percentage error\"\"\"\n",
    "    return np.mean(np.abs((actual - predicted) / actual)) * 100\n",
    "\n",
    "\n",
    "def r_squared(actual: np.ndarray, predicted: np.ndarray) -> float:\n",
    "    \"\"\" Return the r_squared\"\"\"\n",
    "    return 1 - ((np.sum((actual - predicted)**2))/(np.sum((actual - np.mean(actual))**2)))\n",
    "\n",
    "\n",
    "def test():\n",
    "    actual = np.array([3, -0.5, 2, 7])\n",
    "    predicted = np.array([2.5, 0.0, 2, 8])\n",
    "\n",
    "    assert np.allclose(mean_squared_error(actual, predicted), 0.375)\n",
    "    assert np.allclose(root_mean_squared_error(actual, predicted), 0.6123724356957945)\n",
    "    assert np.allclose(mean_absolute_error(actual, predicted), 0.5)\n",
    "    assert np.allclose(\n",
    "        mean_absolute_percentage_error(actual, predicted), 32.73809523809524\n",
    "    )\n",
    "    assert np.allclose(r_squared(actual, predicted), 0.9486081370449679)\n",
    "\n",
    "    print(\"All tests passed.\")\n",
    "\n",
    "\n",
    "if __name__ == \"__main__\":\n",
    "    test()\n"
   ],
   "metadata": {
    "collapsed": false,
    "ExecuteTime": {
     "end_time": "2024-10-20T10:22:00.578588100Z",
     "start_time": "2024-10-20T10:22:00.567190900Z"
    }
   },
   "id": "162dec0d0466498b"
  },
  {
   "cell_type": "markdown",
   "source": [
    "## Задание №2\n",
    "В этом задании вам предстоит обучить модель регрессии и посчитать несколько метрик.\n",
    "\n",
    "Многие функции расчета метрик уже реализованы в популярных библиотеках. В этой задаче воспользуйтесь функциями mean_absolute_error, mean_squared_error, r2_score из библиотеке Scikit-learn."
   ],
   "metadata": {
    "collapsed": false
   },
   "id": "a8bcd34a0c9ea392"
  },
  {
   "cell_type": "code",
   "execution_count": 9,
   "id": "initial_id",
   "metadata": {
    "collapsed": true,
    "ExecuteTime": {
     "end_time": "2024-10-20T10:32:45.839808500Z",
     "start_time": "2024-10-20T10:32:45.828974800Z"
    }
   },
   "outputs": [
    {
     "name": "stdout",
     "output_type": "stream",
     "text": [
      "MSE: 0.038047659641672914\n",
      "MAE: 0.15546656260193287\n",
      "R2: 0.9999977445402571\n"
     ]
    }
   ],
   "source": [
    "from typing import Dict, Tuple\n",
    "\n",
    "import numpy as np\n",
    "from sklearn.linear_model import LinearRegression\n",
    "from sklearn.datasets import make_regression\n",
    "from sklearn.metrics import mean_absolute_error, mean_squared_error, r2_score\n",
    "from sklearn.model_selection import train_test_split\n",
    "\n",
    "\n",
    "def prepare_data():\n",
    "    X, y = make_regression(n_samples=1000, n_features=10, noise=0.2, random_state=42)\n",
    "    return X, y\n",
    "\n",
    "\n",
    "def solution(data: Tuple[np.ndarray, np.ndarray]) -> Dict[str, np.ndarray]:\n",
    "    \"\"\"\n",
    "    Function to train a regression model and calculate metrics.\n",
    "\n",
    "    Returns:\n",
    "        dict: Dictionary with metrics.\n",
    "\n",
    "    Examples:\n",
    "        >>> solution()\n",
    "        {\n",
    "            'y_pred': array([  2.309,  -0.654,  -0.288,   1.237]),\n",
    "            'mse': 0.039,\n",
    "            'mae': 0.152,\n",
    "            'r2': 0.948\n",
    "        }\n",
    "    \"\"\"\n",
    "\n",
    "    X, y = data\n",
    "    X_train, X_test, y_train, y_test = train_test_split(\n",
    "        X, y, test_size=0.2, random_state=42\n",
    "    )\n",
    "\n",
    "    # YOUR CODE HERE\n",
    "    model = LinearRegression()\n",
    "    model.fit(X_train, y_train)\n",
    "    y_pred = model.predict(X_test)\n",
    "\n",
    "    mse = mean_squared_error(y_test, y_pred)\n",
    "    mae = mean_absolute_error(y_test, y_pred)\n",
    "    r2 = r2_score(y_test, y_pred)\n",
    "\n",
    "    return {\n",
    "        \"y_pred\": y_pred,\n",
    "        \"y_test\": y_test,\n",
    "        \"mse\": mse,\n",
    "        \"mae\": mae,\n",
    "        \"r2\": r2,\n",
    "    }\n",
    "\n",
    "\n",
    "if __name__ == \"__main__\":\n",
    "    data = prepare_data()\n",
    "    metrics = solution(data)\n",
    "    print(\"MSE:\", metrics[\"mse\"])\n",
    "    print(\"MAE:\", metrics[\"mae\"])\n",
    "    print(\"R2:\", metrics[\"r2\"])\n"
   ]
  },
  {
   "cell_type": "code",
   "execution_count": 1,
   "outputs": [],
   "source": [],
   "metadata": {
    "collapsed": false,
    "ExecuteTime": {
     "end_time": "2024-10-20T09:53:51.081909500Z",
     "start_time": "2024-10-20T09:53:51.073389300Z"
    }
   },
   "id": "3a813f5126c5cdf8"
  },
  {
   "cell_type": "code",
   "execution_count": 1,
   "outputs": [],
   "source": [],
   "metadata": {
    "collapsed": false,
    "ExecuteTime": {
     "end_time": "2024-10-20T09:53:51.446197700Z",
     "start_time": "2024-10-20T09:53:51.440681200Z"
    }
   },
   "id": "e70c0bfffb340e0c"
  },
  {
   "cell_type": "code",
   "execution_count": null,
   "outputs": [],
   "source": [],
   "metadata": {
    "collapsed": false
   },
   "id": "c883ac8c58a05554"
  }
 ],
 "metadata": {
  "kernelspec": {
   "display_name": "Python 3",
   "language": "python",
   "name": "python3"
  },
  "language_info": {
   "codemirror_mode": {
    "name": "ipython",
    "version": 2
   },
   "file_extension": ".py",
   "mimetype": "text/x-python",
   "name": "python",
   "nbconvert_exporter": "python",
   "pygments_lexer": "ipython2",
   "version": "2.7.6"
  }
 },
 "nbformat": 4,
 "nbformat_minor": 5
}
