{
 "cells": [
  {
   "cell_type": "markdown",
   "source": [
    "Спрос (англ. demand) — это зависимость между ценой и количеством товара или услуг, которые покупатели могут и желают купить по определённой цене.\n",
    "\n",
    "Предложение (англ. supply) — это то, сколько товара или услуг продавцы готовы предоставить покупателям  по определённой цене.\n",
    "\n",
    "Эластичность спроса/предложения по цене - показатель изменения спроса/предложения какого-либо товара или услуги в результате изменения цены."
   ],
   "metadata": {
    "collapsed": false
   },
   "id": "8b1f772aca8a34fb"
  },
  {
   "cell_type": "markdown",
   "source": [
    "Вы продолжаете стажировку в KarpovExpress, работая в команде динамического ценообразования. Недавно компания запустила инновационный сервис экспресс-доставки продуктов (до 30 минут) в одном из густонаселенных районов Москвы.\n",
    "\n",
    "Для реализации проекта были привлечены курьеры, получающие оплату состоящую из двух частей:\n",
    "\n",
    "- фиксированная ставка за час работы (800 рублей)\n",
    "\n",
    "- бонус за каждый доставленный заказ (200 рублей)\n",
    "\n",
    "Сейчас для покупателей стоимость доставки фиксированная (300 рублей). Однако бизнес столкнулся с проблемой: в периоды повышенного спроса: когда много людей заказывают доставку одновременно, особенно в плохую погоду, компании трудно справиться.\n",
    "\n",
    "Почему так происходит:\n",
    "\n",
    "- В плохую погоду люди чаще заказывают доставку, чтобы не выходить на улицу\n",
    "\n",
    "- Курьерам неудобно работать под дождем или снегом\n",
    "\n",
    "Из-за этого клиентам приходится дольше ждать свои заказы. Компания не всегда может доставить продукты так быстро, как обещала.\n",
    "\n",
    "Пока команда разрабатывает сложную систему динамического ценообразования, ваш тимлид поручил вам создать простой, но эффективный алгоритм регулирования цены доставки в моменты, когда сервис начинает не справляться с потоком заказов."
   ],
   "metadata": {
    "collapsed": false
   },
   "id": "c873d375c00fe1b6"
  },
  {
   "cell_type": "markdown",
   "source": [
    "В нашей задаче вместо товара выступает услуга - доставка. Повышая цену доставки, мы можем \"срезать\" спрос и одновременно увеличить предложение (количество) курьеров.\n",
    "\n",
    "Когда доставка дороже:\n",
    "\n",
    "- Некоторые клиенты подождут или сами сходят в магазин.\n",
    "\n",
    "- Курьеры получат больше денег и охотнее будут работать даже в плохую погоду.\n",
    "\n",
    "Изменяя цену доставки, мы можем управлять и спросом, и предложением. Это поможет нам справляться с периодами, когда много заказов, доставляя их воврем"
   ],
   "metadata": {
    "collapsed": false
   },
   "id": "742ca5e4a2693c3c"
  },
  {
   "cell_type": "markdown",
   "source": [
    "Теперь давайте поговорим о том, как компании меняют цены, когда спрос резко возрастает. Такое изменение цены называется \"surge pricing\".\n",
    "\n",
    "Surge pricing (от англ. surge - всплеск и pricing ценообразование) - это особый вид динамического ценообразования, направленный на быстрое изменение цены в зависимости от спроса. Основная идея заключается в следующем:\n",
    "\n",
    "1. Цены повышаются в периоды высокого спроса. Когда много людей хотят купить товар или услугу, цена растет.\n",
    "\n",
    "2. Цель - управление уровнем спроса и предложения. Высокая цена отпугивает часть покупателей и привлекает больше продавцов.\n",
    "\n",
    "3. При этом подходе цены только растут, но никогда не опускаются ниже изначального уровня. Определение базовой (регулярной цены) это отдельная задача."
   ],
   "metadata": {
    "collapsed": false
   },
   "id": "64608216e587f1ea"
  },
  {
   "cell_type": "markdown",
   "source": [
    "Важно понимать, что в отличие от обычного динамического ценообразования, где цены могут как повышаться, так и понижаться, при \"ценовом всплеске\" цены только растут относительно базового уровня."
   ],
   "metadata": {
    "collapsed": false
   },
   "id": "e0a85d6c812646ae"
  },
  {
   "cell_type": "markdown",
   "source": [
    "\n",
    "Характеристика\tSurge pricing\tДинамическое ценообразование\n",
    "Цель\tВыравнивание спроса и предложения в периоды высокого спроса.\tПостоянно подбирать лучшую цену для бизнеса с учетом многих факторов.\n",
    "Гибкость\tМенее гибкое. Работает в основном при высоком спросе.\tБолее гибкое. Подходит для разных ситуаций на рынке.\n",
    "Сложность\tВ целом проще и более реактивно, основано на немедленных изменениях спроса.\tБолее сложное и проактивное, использует широкий спектр данных.\n",
    "Реализация\tМожно использовать простые технологии.\tНужны сложные технологии и продолжительная работа.\n"
   ],
   "metadata": {
    "collapsed": false
   },
   "id": "92b4e144e3e9cb38"
  },
  {
   "cell_type": "markdown",
   "source": [
    "Маленьким компаниям трудно создать такие сложные системы. Это дорого и сложно. Для них есть более простой способ менять цены. В таких случаях хорошим начальным решением, или \"бейзлайном\", может служить пропорциональный контроллер (Proportional control).\n",
    "\n",
    "Работу Proportional control можно представить следующим образом:\n",
    "\n",
    "1. У нас есть цель - нужное соотношение числа заказов и курьеров.\n",
    "\n",
    "2. Мы смотрим, насколько текущая ситуация отличается от цели.\n",
    "\n",
    "3. Если разница большая, мы сильно меняем цену.\n",
    "\n",
    "4. Если разница маленькая, мы чуть-чуть меняем цену.\n",
    "\n",
    "5. Когда мы близко к цели, мы почти не меняем цену."
   ],
   "metadata": {
    "collapsed": false
   },
   "id": "2a00929d3aa1fd5a"
  },
  {
   "cell_type": "markdown",
   "source": [
    "Основная идея метода: стремится корректировать отклонение системы от желаемого состояния (уставки) пропорционально величине этого отклонения. Чем больше отклонение от желаемого состояния, тем сильнее корректировка. При приближении к желаемому состоянию, корректирующее воздействие уменьшается.\n",
    "\n"
   ],
   "metadata": {
    "collapsed": false
   },
   "id": "71b4e6d151c083a6"
  },
  {
   "cell_type": "markdown",
   "source": [
    "В нашей задаче управляющим воздействием является ценовой множитель применяемым к базовой стоимости доставки."
   ],
   "metadata": {
    "collapsed": false
   },
   "id": "7bea8a2f799afcca"
  },
  {
   "cell_type": "markdown",
   "source": [
    "На практике это выглядит как изменение цены на основе разницы между тем, что хотим, и тем, что есть.\n",
    "\n",
    "Формула выглядит так:\n",
    "\n",
    "Корректировка=K ×(Цель−Реальность)\n",
    "\n",
    "Здесь:\n",
    "\n",
    "   - Корректировка - это то, на сколько мы меняем цену\n",
    "\n",
    "   - K - это пропорциональный коэффициент. Единственный параметр, который определяет, насколько сильно мы реагируем на отклонения\n",
    "\n",
    "   - Цель - это то соотношение количества заказов и курьеров, которое нам нужно\n",
    "\n",
    "   - Реальность - это то соотношение заказов и курьеров, которое у нас есть сейчас"
   ],
   "metadata": {
    "collapsed": false
   },
   "id": "669bb6793ae9aef8"
  },
  {
   "cell_type": "markdown",
   "source": [
    "Напишите класс ProportionalController.\n",
    "\n",
    "Конструктор класса должен принимать аргументы: k_p и set_point .\n",
    "\n",
    "k_p - коэффициент пропорционального контроллера\n",
    "\n",
    "set_point - целевое соотношение количества заказов и курьеров, для нас оно равно 1.0\n",
    "\n",
    "Напишите методы:\n",
    "\n",
    "get_error - расчет ошибки, разница между целью и реальностью\n",
    "\n",
    "get_control - рассчитывает управляющие воздействие, применение коэффициента к ошибке."
   ],
   "metadata": {
    "collapsed": false
   },
   "id": "7fb5b2a8428b8c5e"
  },
  {
   "cell_type": "code",
   "execution_count": 1,
   "outputs": [],
   "source": [
    "class ProportionalController:\n",
    "    \"\"\"\n",
    "    A proportional controller for system regulation.\n",
    "\n",
    "    This class implements a simple proportional controller that\n",
    "    calculates the control output based on the error between\n",
    "    a setpoint and the current process value.\n",
    "\n",
    "    Attributes:\n",
    "        k_p (float): The proportional gain coefficient.\n",
    "        set_point (float): The desired value (target state of the system).\n",
    "\n",
    "    Methods:\n",
    "        get_error(process_variable): Calculates the error.\n",
    "        get_control(process_variable): Calculates the overall control.\n",
    "    \"\"\"\n",
    "    def __init__(self, k_p, set_point=1.0):\n",
    "        \"\"\"\n",
    "        Args:\n",
    "            k_p (float): The proportional gain coefficient.\n",
    "            set_point (float, optional): The desired value. Defaults to 1.0.\n",
    "        \"\"\"\n",
    "\n",
    "        self.k_p = k_p\n",
    "        self.set_point = set_point\n",
    "\n",
    "    def get_error(self, process_variable: float) -> float:\n",
    "        \"\"\"\n",
    "        Calculates the error between the set_point and the process variable.\n",
    "\n",
    "        Args:\n",
    "            process_variable (float): The current value of the process.\n",
    "\n",
    "        Returns:\n",
    "            float: The calculated error.\n",
    "        \"\"\"\n",
    "\n",
    "        return self.set_point - process_variable\n",
    "\n",
    "    def get_control(self, process_variable: float) -> float:\n",
    "        \"\"\"\n",
    "        Calculates the overall control output of the proportional controller.\n",
    "\n",
    "        Args:\n",
    "            process_variable (float): The current value of the process.\n",
    "\n",
    "        Returns:\n",
    "            float: The control output.\n",
    "        \"\"\"\n",
    "\n",
    "        return self.k_p * self.get_control(process_variable)\n",
    " "
   ],
   "metadata": {
    "collapsed": false,
    "ExecuteTime": {
     "end_time": "2025-01-05T10:52:50.270415500Z",
     "start_time": "2025-01-05T10:52:50.261475500Z"
    }
   },
   "id": "e4633d6acb42e11b"
  },
  {
   "cell_type": "markdown",
   "source": [
    "PID-controller\n",
    "Простой способ изменения цен (Proportional control) хорош, но не идеален. Он легко настраивается и понятно работает. Но иногда он не может точно попасть в цель или не учитывает, как быстро меняется ситуация и наличие тренда. Поэтому часто используют более умную систему - PID-контроллер, которая учитывает больше факторов."
   ],
   "metadata": {
    "collapsed": false
   },
   "id": "eaeb33c39213c863"
  },
  {
   "cell_type": "markdown",
   "source": [
    "PID-контроллер использует формулу с тремя частями:\n",
    "\n",
    "Корректировка=P+I+D\n",
    "\n",
    "Где:\n",
    "\n",
    "- Корректировка - на сколько мы меняем цену\n",
    "\n",
    "- P - реакция на текущую ситуацию: разницу между целью и реальностью. То что мы разобрали на прошлом шаге.\n",
    "\n",
    "- I - учет прошлого опыта. По сути учитывает сумму ошибок.\n",
    "\n",
    "- D - предсказание будущего. Смотрит на скорость изменения (производную) ошибки."
   ],
   "metadata": {
    "collapsed": false
   },
   "id": "e0f202f169baae65"
  },
  {
   "cell_type": "markdown",
   "source": [
    "Более подробно:\n",
    "\n",
    "Контроллер\tОписание\tФормула\n",
    "P (Пропорциональная часть)\tЭто просто разница между целью и текущей ситуацией, умноженная на коэффициент\t P=K \n",
    "p\n",
    " ×(Цель−Реальность)\n",
    "I (Интегральная часть)\tМы складываем все ошибки за определенное время и умножаем на коэффициент\t I=K \n",
    "i\n",
    " ×Сумма всех прошлых ошибок × Δt\n",
    "D (Дифференциальная часть)\tЭто разница между текущей и предыдущей ошибкой, умноженная на коэффициент\t D=K \n",
    "d\n",
    " ×(Текущая ошибка−Предыдущая ошибка)/Δt\n"
   ],
   "metadata": {
    "collapsed": false
   },
   "id": "e5bddff84914c5b8"
  },
  {
   "cell_type": "markdown",
   "source": [
    "Каждая часть имеет свой коэффициент K , который является гиперпараметром модели:\n",
    "\n",
    "- Kp: определяет, насколько сильно мы реагируем на текущую разницу\n",
    "\n",
    "- Ki: помогает исправлять долгосрочные проблемы\n",
    "\n",
    "- Kd: помогает не перестараться, когда ситуация быстро меняется"
   ],
   "metadata": {
    "collapsed": false
   },
   "id": "7a7df93154949c73"
  },
  {
   "cell_type": "markdown",
   "source": [
    "Напишите класс PIDController.\n",
    "\n",
    "Конструктор класса принимает аргументы: k_p, k_i, k_d и set_point . Также для рассчета воздействия на цену класс должен уметь хранить значение последней ошибки и сумму накопленных ошибок.\n",
    "\n",
    "Реализуйте методы:\n",
    "\n",
    "get_error - расчет остаточной ошибки\n",
    "\n",
    "get_proportional - расчет пропорционального контроллера (Proportional controller)\n",
    "\n",
    "get_integral - контроллер накопленных ошибок\n",
    "\n",
    "get_derivative - контроллер на основе производной (скорости изменения) ошибки\n",
    "\n",
    "get_control - рассчитывает управляющие воздействие - множитель для увеличения цены. dt это время прошедшее между текущем измерением и предыдущем, будет передаваться при вызове метода."
   ],
   "metadata": {
    "collapsed": false
   },
   "id": "6158afdf56e22501"
  },
  {
   "cell_type": "code",
   "execution_count": 3,
   "outputs": [],
   "source": [
    "class PIDController:\n",
    "    \"\"\"\n",
    "    A Proportional-Integral-Derivative (PID) controller for system regulation.\n",
    "\n",
    "    This class implements a PID controller that calculates the control output\n",
    "    based on the error between a setpoint and the current process value.\n",
    "\n",
    "    Attributes:\n",
    "        k_p (float): The proportional gain coefficient.\n",
    "        k_i (float): The integral gain coefficient.\n",
    "        k_d (float): The derivative gain coefficient.\n",
    "        set_point (float): The desired value (target state of the system).\n",
    "        integral_term (float): The accumulated integral term.\n",
    "        last_error (float): The error from the previous iteration.\n",
    "\n",
    "    Methods:\n",
    "        get_error(process_variable): Calculates the error.\n",
    "        get_proportional(error): Calculates the proportional term.\n",
    "        get_integral(error, dt): Calculates the integral term.\n",
    "        get_derivative(error, dt): Calculates the derivative term.\n",
    "        get_control(process_variable, dt): Calculates the overall control output.\n",
    "    \"\"\"\n",
    "\n",
    "    def __init__(self, k_p: float, k_i: float, k_d: float, set_point: float):\n",
    "        \"\"\"\n",
    "        Initializes the PID controller.\n",
    "\n",
    "        Args:\n",
    "            k_p (float): The proportional gain coefficient.\n",
    "            k_i (float): The integral gain coefficient.\n",
    "            k_d (float): The derivative gain coefficient.\n",
    "            set_point (float): The desired value.\n",
    "        \"\"\"\n",
    "        self.k_p = k_p\n",
    "        self.k_i = k_i\n",
    "        self.k_d = k_d\n",
    "        self.set_point = set_point  # соотношение, количества заказов и курьеров которое нам нужно\n",
    "        self.integral_term = 0\n",
    "        self.last_error = None\n",
    "\n",
    "    def get_error(self, process_variable: float) -> float:\n",
    "        \"\"\"\n",
    "        Calculates the error between the setpoint and the process variable.\n",
    "\n",
    "        Args:\n",
    "            process_variable (float): The current value of the process.\n",
    "\n",
    "        Returns:\n",
    "            float: The calculated error.\n",
    "        \"\"\"\n",
    "        return self.set_point - process_variable  # цель - реальность\n",
    "\n",
    "    def get_proportional(self, error: float) -> float:\n",
    "        \"\"\"\n",
    "        Calculates the proportional term of the PID controller.\n",
    "\n",
    "        Args:\n",
    "            error (float): The current error.\n",
    "\n",
    "        Returns:\n",
    "            float: The proportional term.\n",
    "        \"\"\"\n",
    "        return self.k_p * error\n",
    "\n",
    "    def get_integral(self, error: float, dt: float) -> float:\n",
    "        \"\"\"\n",
    "        Calculates the integral term of the PID controller.\n",
    "\n",
    "        Args:\n",
    "            error (float): The current error.\n",
    "            dt (float): The time step.\n",
    "\n",
    "        Returns:\n",
    "            float: The integral term.\n",
    "        \"\"\"\n",
    "\n",
    "        self.integral_term += error * dt\n",
    "        return self.k_i * self.integral_term\n",
    "\n",
    "    def get_derivative(self, error: float, dt: float) -> float:\n",
    "        \"\"\"\n",
    "        Calculates the derivative term of the PID controller.\n",
    "\n",
    "        Args:\n",
    "            error (float): The current error.\n",
    "            dt (float): The time step.\n",
    "\n",
    "        Returns:\n",
    "            float: The derivative term.\n",
    "        \"\"\"\n",
    "        if self.last_error is None:\n",
    "            result = 0\n",
    "        else:\n",
    "            result = (error - self.last_error)/dt\n",
    "\n",
    "        self.last_error = error\n",
    "        return self.k_d * result\n",
    "\n",
    "    def get_control(self, process_variable: float, dt: float) -> float:\n",
    "        \"\"\"\n",
    "        Calculates the overall control output of the PID controller.\n",
    "\n",
    "        Args:\n",
    "            process_variable (float): The current value of the process.\n",
    "            dt (float): The time step.\n",
    "\n",
    "        Returns:\n",
    "            float: The control output.\n",
    "        \"\"\"\n",
    "        error = self.get_error(process_variable)\n",
    "        return self.get_proportional(error) + self.get_integral(error, dt) + self.get_derivative(error, dt)\n",
    "\n"
   ],
   "metadata": {
    "collapsed": false,
    "ExecuteTime": {
     "end_time": "2025-01-05T11:59:51.177160900Z",
     "start_time": "2025-01-05T11:59:51.166645200Z"
    }
   },
   "id": "5072cfe70c6346cf"
  },
  {
   "cell_type": "markdown",
   "source": [
    "Имея готовый PID-controller мы можем смоделировать как будет меняться спрос и предложение под воздействием нашего алгоритма.\n",
    "\n",
    "Мы создадим генерацию двух временных рядов: спроса (demand) и предложения (supply). И напишем функцию эластичности, которая будет симулировать изменение спроса со стороны покупателей и предложения со стороны курьеров в зависимости от скорректированной цены. В качестве сигнала наших контроллеров выступит DSR (англ. demand supply ratio - соотношение спроса и предложения."
   ],
   "metadata": {
    "collapsed": false
   },
   "id": "41d021afef57687d"
  },
  {
   "cell_type": "markdown",
   "source": [
    "Регулируемыми параметрами (гиперпараметрами) наших контроллеров будут выступать ранее изученные коэффициенты k_p, k_i, k_d. Заданным значением (set_point) контроллеров возьмем идеальное соотношение спроса и предложения 1.0."
   ],
   "metadata": {
    "collapsed": false
   },
   "id": "2ef9fd44afe9be0"
  },
  {
   "cell_type": "code",
   "execution_count": null,
   "outputs": [],
   "source": [],
   "metadata": {
    "collapsed": false
   },
   "id": "ee0829a391b0e7cf"
  }
 ],
 "metadata": {
  "kernelspec": {
   "display_name": "Python 3",
   "language": "python",
   "name": "python3"
  },
  "language_info": {
   "codemirror_mode": {
    "name": "ipython",
    "version": 2
   },
   "file_extension": ".py",
   "mimetype": "text/x-python",
   "name": "python",
   "nbconvert_exporter": "python",
   "pygments_lexer": "ipython2",
   "version": "2.7.6"
  }
 },
 "nbformat": 4,
 "nbformat_minor": 5
}
