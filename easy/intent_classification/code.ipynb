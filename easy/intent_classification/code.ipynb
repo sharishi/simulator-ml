{
 "cells": [
  {
   "cell_type": "markdown",
   "source": [
    "# INTENT CLASSIFICATION"
   ],
   "metadata": {
    "collapsed": false
   },
   "id": "de21042531027f72"
  },
  {
   "cell_type": "markdown",
   "source": [
    "## Описание задачи\n",
    "Наши студенты задают множество вопросов в общем чате на совершенно различные темы: от общих тем и вопросов оплаты курсов, до трудоустройства и даже вопросов, не относящихся к области деятельности платформы. Для ускорения обработки запросов и снижения нагрузки на поддержку было принято решение создать Telegram-бота для автоматизации ответов и эскалации сложных запросов к живым операторам.\n",
    "\n",
    "## Классификация интентов\n",
    "Классификация интентов (намерений) пользователя является ключевым элементом в создании эффективных систем интерактивного взаимодействия, таких как чат-боты, виртуальные ассистенты и системы рекомендаций. Ваша задача — разработать систему, которая позволяла бы в режиме реального времени классифицировать интенты пользователей с высокой точностью, минуя задержки и затраты, связанные с применением больших языковых моделей (LLM).\n",
    "\n",
    "## Семантический маршрутизатор\n",
    "Вам поручена разработка семантического маршрутизатора – инструмента, который использует заранее определенные шаблоны и ключевые слова для поиска наиболее подходящего ответа/действия на основе их смыслового (семантического) содержания.\n",
    "\n",
    "При получении запроса пользователя маршрутизатор анализирует его на смысловое соответствие заранее определенным категориям, таким как “вопросы по оплате”, “технические вопросы”, “трудоустройство” и т.д., Затем, в качестве интента пользователя, возвращается наиболее близкая по смыслу категория и в зависимости от этой категории запрос может быть обработан по-разным сценариям:\n",
    "\n",
    "Обращение к базе знаний: Маршрутизатор может обратиться к базе знаний и, используя RAG, предоставить пользователю релевантную информацию. Это обеспечивает быстрый доступ к актуальным данным и позволяет пользователю самостоятельно найти ответ на свой вопрос.\n",
    "Ответ в личные сообщения: Если запрос касается конкретной инструкции или руководства, маршрутизатор отправляет пользователю ссылку на соответствующий документ в личные сообщения.\n",
    "Перенаправление на сервис: В случаях, когда запрос связан с навигацией по обучающим курсам или другим ресурсам на платформе, маршрутизатор перенаправляет пользователя на сервис с подсказками.\n",
    "Игнорирование некоторых запросов: Для запросов, которые не требуют ответа или относятся к не поддерживаемым темам, маршрутизатор может автоматически игнорировать их, не перегружая систему и техническую поддержку.\n",
    "Таким образом, маршрутизатор значительно ускоряет время реакции на запросы пользователей и снижает нагрузку на техническую поддержку, обеспечивая эффективное и точное направление запросов к соответствующим источникам информации или специалистам."
   ],
   "metadata": {
    "collapsed": false
   },
   "id": "f5b245037db672b9"
  },
  {
   "cell_type": "markdown",
   "source": [
    "Семантическая маршрутизация\n",
    "Вспомним пару определений...\n",
    "\n",
    "Энкодер (Sentence Encoder) – это модель машинного обучения, которая преобразует тексты в числовые векторы, \"кодирующие\" смысл текстов (желающим, предлагаем, решить задачу на эмбеддинги товаров, чтобы лучше разобраться, что такое эмбеддинги, какие они бывают и с чем их едят). В результате, каждый запрос пользователя становится точкой в неком многомерном пространстве эмбеддингов.\n",
    "\n",
    "Эмбеддинги (Embeddings) – собственно, числовые векторы, полученные из текстовых предложений с помощью энкодера предложений. Эти векторы представляют собой компактные числовые представления исходных текстов. Рассчитанное косинусное сходство между эмбеддингами позволяет нам легко определять и сравнивать смысловую близость текстов.\n",
    "\n",
    "Косинусная близость (Cosine Similarity) – это степень сходства между двумя векторами, основанная на угле между ними в многомерном пространстве. Чем меньше угол между векторами, тем более похожими мы считаем два вектора (независимо от длины каждого).\n",
    "\n",
    "Маршрут (Route) – категория запросов пользователей, объединённых общим \"намерением\" (интентом) и которую мы обрабатываем по одной и той же логике. Иначе говоря, запросы на каждый интент обрабатываются по-своему, вызывают свою функцию."
   ],
   "metadata": {
    "collapsed": false
   },
   "id": "3b073d718e0f2464"
  },
  {
   "cell_type": "markdown",
   "source": [
    "Что такое семантический маршрутизатор?\n",
    "Семантический маршрутизатор — это специальный инструмент, который помогает понять, что хочет пользователь, когда он задаёт вопрос или делает запрос. Он работает, сравнивая смысл вопроса с заранее заданными категориями.\n",
    "\n",
    "Как это работает?\n",
    "Когда пользователь отправляет запрос, он преобразуется в эмбеддинг — уникальное числовое представление смысла запроса. Затем этот эмбеддинг сравнивается с эмбеддингами всех возможных категорий интентов. Для этого используется косинусное сходство, которое измеряет, насколько близко расположены эти эмбеддинги в многомерном пространстве. Побеждает та категория, у которой сходство максимально.\n",
    "\n",
    "Пример для лучшего понимания\n",
    "Представьте, что у вас есть множество ключей и замков. Каждый ключ — это запрос пользователя, преобразованный в уникальную форму (эмбеддинг), а каждый замок — это категория интентов с набором выражений. Семантический маршрутизатор работает как мастер-ключ, который подбирает замок, наиболее подходящий под форму ключа. Таким образом, он определяет, к какой категории отнести запрос."
   ],
   "metadata": {
    "collapsed": false
   },
   "id": "c5fc3d34ea7a8c25"
  },
  {
   "cell_type": "markdown",
   "source": [
    "Процесс работы\n",
    "1. Определение маршрутов\n",
    "Сначала мы создаем все возможные маршруты в системе. Каждый маршрут — это определённая категория вопросов, которые могут задать пользователи. В каждой категории есть примеры вопросов, которые туда относятся.\n",
    "\n",
    "Примеры выражений маршрута Tech Support:\n",
    "\n",
    "Что делать, если не приходит подтверждение на email?\n",
    "Как устранить проблемы с воспроизведением видео?\n",
    "Почему не отображаются прогресс и оценки?\n",
    "Почему мой аккаунт не активирован?\n",
    "\n",
    "2. Создание числовых представлений для маршрутов\n",
    "Каждый вопрос из категорий переводится в числовую форму (эмбеддинг) с помощью специальной программы, называемой энкодер предложений.\n",
    "3. Создание числового представления для запроса пользователя\n",
    "Когда пользователь задает вопрос, этот вопрос тоже переводится в числовую форму с помощью того же энкодера.\n",
    "\n",
    "4. Сравнение и выбор маршрута\n",
    "Числовое представление вопроса пользователя сравнивается с представлениями всех маршрутов. Находим маршрут, который больше всего похож на вопрос пользователя. Если ни один маршрут не подходит достаточно хорошо, мы отмечаем запрос как \"неизвестный интент\".\n",
    "\n"
   ],
   "metadata": {
    "collapsed": false
   },
   "id": "8bf832208f748ce8"
  },
  {
   "cell_type": "markdown",
   "source": [
    "# Задание\n",
    "1. Создайте функцию для подключения энкодера\n",
    "Напишите функцию init_sentence_encoder, которая подключит предварительно обученную модель SentenceTransformer из каталога моделей Hugging Face. Мы будем использовать уменьшенную версию BERT для русского языка — cointegrated/rubert-tiny2.\""
   ],
   "metadata": {
    "collapsed": false
   },
   "id": "9b7ddaaf9c85df21"
  },
  {
   "cell_type": "code",
   "execution_count": 11,
   "outputs": [],
   "source": [
    "from sentence_transformers import SentenceTransformer\n",
    "\n",
    "def init_sentence_encoder(model_name: str = 'cointegrated/rubert-tiny2') -> SentenceTransformer:\n",
    "    \"\"\"\n",
    "    Initialize a SentenceTransformer model for encoding sentences.\n",
    "\n",
    "    Parameters:\n",
    "        model_name (str): The name of the model to load. Default is 'cointegrated/rubert-tiny2'.\n",
    "            Model names can be found at the Hugging Face model hub: https://huggingface.co/models\n",
    "\n",
    "    Returns:\n",
    "        SentenceTransformer: An initialized SentenceTransformer model.\n",
    "\n",
    "    Raises:\n",
    "        ValueError: If the model name is empty.\n",
    "        RuntimeError: If the model fails to load.\n",
    "    \"\"\"\n",
    "    if not model_name:\n",
    "        raise ValueError(\"Model name is empty\")\n",
    "    try:\n",
    "        model = SentenceTransformer(model_name)\n",
    "    except Exception as e:\n",
    "        raise RuntimeError(f\"Failed to load the model '{model_name}': {e}\")\n",
    "    return model"
   ],
   "metadata": {
    "collapsed": false,
    "ExecuteTime": {
     "end_time": "2024-10-26T06:29:32.851536800Z",
     "start_time": "2024-10-26T06:29:32.832536700Z"
    }
   },
   "id": "c5d818325e3bf364"
  },
  {
   "cell_type": "markdown",
   "source": [
    "2. Создайте класс для маршрутов\n",
    "Теперь создайте класс Route, который будет описывать определённое намерение пользователя и содержать список фраз, связанных с этим намерением.\n",
    "\n",
    "При создании маршрута нужно будет рассчитать эмбеддинги для всех фраз, используя энкодер предложений, который вы сделали на первом шаге. Для удобства сохраните эти эмбеддинги как torch.Tensor (см. документацию метода encode).\n",
    "\n",
    "Наименование маршрута и списки фраз не могут быть пустыми (см. приложенный шаблон)."
   ],
   "metadata": {
    "collapsed": false
   },
   "id": "b59ca4574d93018"
  },
  {
   "cell_type": "code",
   "execution_count": 12,
   "outputs": [],
   "source": [
    "from typing import List\n",
    "import torch\n",
    "from sentence_transformers import SentenceTransformer\n"
   ],
   "metadata": {
    "collapsed": false,
    "ExecuteTime": {
     "end_time": "2024-10-26T06:29:34.040564100Z",
     "start_time": "2024-10-26T06:29:34.026554600Z"
    }
   },
   "id": "43426e6305cf02f9"
  },
  {
   "cell_type": "code",
   "execution_count": 13,
   "outputs": [],
   "source": [
    "class Route:\n",
    "    \"\"\"\n",
    "    A class representing a route, which consists of a name and a list of sentences.\n",
    "\n",
    "    Attributes:\n",
    "        name (str): The name of the route.\n",
    "        sentences (List[str]): A list of sentences representing the route.\n",
    "        embeddings (torch.Tensor): Embeddings of the sentences generated by the SentenceTransformer.\n",
    "    \"\"\"\n",
    "    def __init__(self, name: str, sentences: List[str]):\n",
    "        \"\"\"\n",
    "        Initialize a Route instance.\n",
    "\n",
    "        Parameters:\n",
    "            name (str): The name of the route.\n",
    "            sentences (List[str]): A list of sentences for the route.\n",
    "\n",
    "        Raises:\n",
    "            ValueError: If the route name is empty or the sentences list is empty or contains empty sentences.\n",
    "            RuntimeError: If there is an error encoding the sentences.\n",
    "        \"\"\"\n",
    "        if not name:\n",
    "            raise ValueError(\"Route name cannot be empty.\")\n",
    "        if not sentences:\n",
    "            raise ValueError(\"Sentences list cannot be empty.\")\n",
    "        if any(not sentence for sentence in sentences):\n",
    "            raise ValueError(\"Sentences list cannot contain empty sentences.\")\n",
    "        \n",
    "        self.name = name\n",
    "        self.sentences = sentences\n",
    "        model = init_sentence_encoder()\n",
    "        try:\n",
    "            self.embeddings = torch.tensor(model.encode(sentences))\n",
    "        except Exception as e:\n",
    "            raise RuntimeError(f\"Error encoding sentences: {e}\")\n"
   ],
   "metadata": {
    "collapsed": false,
    "ExecuteTime": {
     "end_time": "2024-10-26T06:29:34.369601600Z",
     "start_time": "2024-10-26T06:29:34.365600600Z"
    }
   },
   "id": "b6b0127443f887d9"
  },
  {
   "cell_type": "markdown",
   "source": [
    "3. Создайте класс для семантического маршрутизатора\n",
    "Теперь подготовим класс SemanticRouter. Этот класс будет содержать все ваши маршруты и помогать определять намерения пользователя по его запросу.\n",
    "\n",
    "Запрос пользователя будет переводиться в эмбеддинг с помощью модели энкодера предложений. Затем мы будем сравнивать этот эмбеддинг с эмбеддингами всех маршрутов, чтобы найти тот, который больше всего похож на запрос.\n",
    "\n",
    "Для сравнения используйте косинусное сходство — есть специальный метод для его расчёта между двумя тензорами (torch.Tensor) в модуле util.\n",
    "\n",
    "Если запрос пользователя не достаточно похож на фразы в маршрутах, верните None - мы не можем уверенно сопоставить запрос с каким-либо из известных намерений."
   ],
   "metadata": {
    "collapsed": false
   },
   "id": "5d814edf8430d202"
  },
  {
   "cell_type": "code",
   "execution_count": 14,
   "id": "initial_id",
   "metadata": {
    "collapsed": true,
    "ExecuteTime": {
     "end_time": "2024-10-26T06:29:35.266191800Z",
     "start_time": "2024-10-26T06:29:35.244178300Z"
    }
   },
   "outputs": [],
   "source": [
    "class SemanticRouter:\n",
    "    \"\"\"\n",
    "    A class representing a semantic router for classifying user intents.\n",
    "    \"\"\"\n",
    "    def __init__(self, routes: List[Route]):\n",
    "        \"\"\"\n",
    "        Initialize a SemanticRouter instance.\n",
    "\n",
    "        Parameters:\n",
    "            routes (List[Route]): A list of Route objects.\n",
    "        \"\"\"\n",
    "        self.routes = routes\n",
    "\n",
    "    def classify_intent(self, user_input: str, similarity_threshold: float = 0.8) -> str:\n",
    "        \"\"\"\n",
    "        Classify the intent of a user input by comparing it to predefined routes.\n",
    "\n",
    "        Parameters:\n",
    "            user_input (str): The user's input to classify.\n",
    "            similarity_threshold (float): The threshold for similarity to consider a match. Default is 0.8.\n",
    "\n",
    "        Returns:\n",
    "            str: The name of the best matching route if the similarity exceeds the threshold, otherwise None.\n",
    "        \"\"\"\n",
    "        model = init_sentence_encoder()\n",
    "        try:\n",
    "            user_embedding = torch.tensor(model.encode([user_input]))\n",
    "        except Exception as e:\n",
    "            raise RuntimeError(f\"Error encoding sentences: {e}\")\n",
    " \n",
    "        best_match = None\n",
    "        highest_similarity = 0.0\n",
    "\n",
    "        for route in self.routes:\n",
    "            similarities = torch.nn.functional.cosine_similarity(user_embedding, route.embeddings)\n",
    "            max_similarity = similarities.max().item()  \n",
    "\n",
    "            if max_similarity > highest_similarity and max_similarity >= similarity_threshold:\n",
    "                highest_similarity = max_similarity\n",
    "                best_match = route.name\n",
    "\n",
    "        return best_match\n",
    "        "
   ]
  },
  {
   "cell_type": "code",
   "execution_count": 15,
   "outputs": [
    {
     "data": {
      "text/plain": "model.safetensors:  45%|####4     | 52.4M/118M [00:00<?, ?B/s]",
      "application/vnd.jupyter.widget-view+json": {
       "version_major": 2,
       "version_minor": 0,
       "model_id": "4927f79af6f44f9ebad4ab29f0c47117"
      }
     },
     "metadata": {},
     "output_type": "display_data"
    },
    {
     "data": {
      "text/plain": "tokenizer_config.json:   0%|          | 0.00/401 [00:00<?, ?B/s]",
      "application/vnd.jupyter.widget-view+json": {
       "version_major": 2,
       "version_minor": 0,
       "model_id": "8ee38285f814427e8efcdfe30ca6bcac"
      }
     },
     "metadata": {},
     "output_type": "display_data"
    },
    {
     "data": {
      "text/plain": "vocab.txt:   0%|          | 0.00/1.08M [00:00<?, ?B/s]",
      "application/vnd.jupyter.widget-view+json": {
       "version_major": 2,
       "version_minor": 0,
       "model_id": "315711d3914a47cf86b352a7d054aba2"
      }
     },
     "metadata": {},
     "output_type": "display_data"
    },
    {
     "data": {
      "text/plain": "tokenizer.json:   0%|          | 0.00/1.74M [00:00<?, ?B/s]",
      "application/vnd.jupyter.widget-view+json": {
       "version_major": 2,
       "version_minor": 0,
       "model_id": "2e16591f7ff540ab808d0cbded828201"
      }
     },
     "metadata": {},
     "output_type": "display_data"
    },
    {
     "data": {
      "text/plain": "special_tokens_map.json:   0%|          | 0.00/112 [00:00<?, ?B/s]",
      "application/vnd.jupyter.widget-view+json": {
       "version_major": 2,
       "version_minor": 0,
       "model_id": "2702672ef84a4a2aa3b99604e594028e"
      }
     },
     "metadata": {},
     "output_type": "display_data"
    },
    {
     "data": {
      "text/plain": "1_Pooling/config.json:   0%|          | 0.00/190 [00:00<?, ?B/s]",
      "application/vnd.jupyter.widget-view+json": {
       "version_major": 2,
       "version_minor": 0,
       "model_id": "d8392ed31dd3442fb2545519d1dc96ff"
      }
     },
     "metadata": {},
     "output_type": "display_data"
    },
    {
     "name": "stdout",
     "output_type": "stream",
     "text": [
      "b2c_support\n"
     ]
    }
   ],
   "source": [
    "sentence_encoder = init_sentence_encoder()\n",
    "\n",
    "b2c_support = Route(\n",
    "    name=\"b2c_support\",\n",
    "    sentences=[\n",
    "        \"Какие способы оплаты вы принимаете?\",\n",
    "        \"Как использовать промокод при оплате?\",\n",
    "        \"Можно ли оплатить курс в рассрочку?\",\n",
    "        \"Почему мне дважды списали деньги за курс?\"\n",
    "    ],\n",
    ")\n",
    "\n",
    "tech_support = Route(\n",
    "    name=\"tech_support\",\n",
    "    sentences=[\n",
    "        \"Что делать, если не приходит подтверждение на email?\",\n",
    "        \"Как устранить проблемы с воспроизведением видео?\",\n",
    "        \"Почему не отображаются прогресс и оценки?\",\n",
    "        \"Почему мой аккаунт не активирован?\"\n",
    "    ],\n",
    ")\n",
    "\n",
    "router = SemanticRouter([b2c_support, tech_support])\n",
    "\n",
    "print(router.classify_intent('Как изменить способ оплаты?'))"
   ],
   "metadata": {
    "collapsed": false,
    "ExecuteTime": {
     "end_time": "2024-10-26T06:30:00.565427400Z",
     "start_time": "2024-10-26T06:29:36.051694Z"
    }
   },
   "id": "882f28a74a1f49be"
  },
  {
   "cell_type": "code",
   "execution_count": null,
   "outputs": [],
   "source": [
    "from typing import List\n",
    "from sentence_transformers import SentenceTransformer, util\n",
    "\n",
    "\n",
    "def init_sentence_encoder(model_name: str = 'cointegrated/rubert-tiny2') -> SentenceTransformer:\n",
    "    \"\"\"\n",
    "    Initialize a SentenceTransformer model for encoding sentences.\n",
    "\n",
    "    Parameters:\n",
    "        model_name (str): The name of the model to load. Default is 'cointegrated/rubert-tiny2'.\n",
    "            Model names can be found at the Hugging Face model hub: https://huggingface.co/models\n",
    "\n",
    "    Returns:\n",
    "        SentenceTransformer: An initialized SentenceTransformer model.\n",
    "\n",
    "    Raises:\n",
    "        ValueError: If the model name is empty.\n",
    "        RuntimeError: If the model fails to load.\n",
    "    \"\"\"\n",
    "    if not model_name.strip():\n",
    "        raise ValueError('Model name cannot be empty.')\n",
    "\n",
    "    try:\n",
    "        model = SentenceTransformer(model_name)\n",
    "    except Exception as e:\n",
    "        raise RuntimeError(f\"Failed to load '{model_name}'. Error: {e}\")\n",
    "\n",
    "    return model\n",
    "\n",
    "sentence_encoder = init_sentence_encoder()\n",
    "\n",
    "\n",
    "class Route:\n",
    "    \"\"\"\n",
    "    A class representing a route, which consists of a name and a list of sentences.\n",
    "\n",
    "    Attributes:\n",
    "        name (str): The name of the route.\n",
    "        sentences (List[str]): A list of sentences representing the route.\n",
    "        embeddings (torch.Tensor): Embeddings of the sentences generated by the SentenceTransformer.\n",
    "    \"\"\"\n",
    "    def __init__(self, name: str, sentences: List[str]):\n",
    "        \"\"\"\n",
    "        Initialize a Route instance.\n",
    "\n",
    "        Parameters:\n",
    "            name (str): The name of the route.\n",
    "            sentences (List[str]): A list of sentences for the route.\n",
    "\n",
    "        Raises:\n",
    "            ValueError: If the route name is empty or the sentences list is empty or contains empty sentences.\n",
    "            RuntimeError: If there is an error encoding the sentences.\n",
    "        \"\"\"\n",
    "        if not name.strip():\n",
    "            raise ValueError('Route name cannot be empty.')\n",
    "\n",
    "        if not sentences:\n",
    "            raise ValueError(\"Route sentences list cannot be empty.\")\n",
    "\n",
    "        empty_sentences = all(phrase.strip() != '' for phrase in sentences)\n",
    "        if not empty_sentences:\n",
    "            raise ValueError(\"Route sentence cannot be empty.\")\n",
    "\n",
    "        self.name = name\n",
    "        self.sentences = sentences\n",
    "\n",
    "        try:\n",
    "            self.embeddings = sentence_encoder.encode(sentences, convert_to_tensor=True)\n",
    "        except Exception as e:\n",
    "            raise RuntimeError(f\"Error encoding route sentences: {e}\")\n",
    "\n",
    "\n",
    "class SemanticRouter:\n",
    "    \"\"\"\n",
    "    A class representing a semantic router for classifying user intents.\n",
    "    \"\"\"\n",
    "    def __init__(self, routes: List[Route]):\n",
    "        \"\"\"\n",
    "        Initialize a SemanticRouter instance.\n",
    "\n",
    "        Parameters:\n",
    "            routes (List[Route]): A list of Route objects.\n",
    "        \"\"\"\n",
    "        self.routes = routes\n",
    "\n",
    "    def classify_intent(self, user_input: str, similarity_threshold: float = 0.8) -> str:\n",
    "        \"\"\"\n",
    "        Classify the intent of a user input by comparing it to predefined routes.\n",
    "\n",
    "        Parameters:\n",
    "            user_input (str): The user's input to classify.\n",
    "            similarity_threshold (float): The threshold for similarity to consider a match. Default is 0.8.\n",
    "\n",
    "        Returns:\n",
    "            str: The name of the best matching route if the similarity exceeds the threshold, otherwise None.\n",
    "        \"\"\"\n",
    "        # Encode the user input into an embedding vector\n",
    "        user_embedding = sentence_encoder.encode(user_input, convert_to_tensor=True)\n",
    "\n",
    "        max_similarity = -1\n",
    "        best_route = None\n",
    "\n",
    "        # Iterate through all routes to find the highest similarity\n",
    "        for route in self.routes:\n",
    "            similarity = util.pytorch_cos_sim(user_embedding, route.embeddings)\n",
    "            max_route_similarity = similarity.max().item()\n",
    "\n",
    "            if max_route_similarity > max_similarity:\n",
    "                max_similarity = max_route_similarity\n",
    "                best_route = route\n",
    "\n",
    "        # Check if the best route found exceeds the similarity threshold\n",
    "        if best_route and max_similarity >= similarity_threshold:\n",
    "            return best_route.name\n",
    "\n",
    "         # Return None if no matching route is found\n",
    "        return None\n"
   ],
   "metadata": {
    "collapsed": false
   },
   "id": "b7259d9b35fcd3ea"
  }
 ],
 "metadata": {
  "kernelspec": {
   "display_name": "Python 3",
   "language": "python",
   "name": "python3"
  },
  "language_info": {
   "codemirror_mode": {
    "name": "ipython",
    "version": 2
   },
   "file_extension": ".py",
   "mimetype": "text/x-python",
   "name": "python",
   "nbconvert_exporter": "python",
   "pygments_lexer": "ipython2",
   "version": "2.7.6"
  }
 },
 "nbformat": 4,
 "nbformat_minor": 5
}
