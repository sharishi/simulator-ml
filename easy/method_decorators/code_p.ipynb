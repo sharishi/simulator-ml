{
 "cells": [
  {
   "cell_type": "markdown",
   "source": [
    "# METHOD DECORATORS"
   ],
   "metadata": {
    "collapsed": false
   },
   "id": "48af2b6974e07b2d"
  },
  {
   "cell_type": "markdown",
   "source": [
    "Декоратор @staticmethod преобразует метод в статический метод, который не принимает неявного первого аргумента (self или cls).  Такой метод не может изменять что-либо в классе или объекте, потому что он не имеет доступа к внутренним частям self или cls. Статический метод работает отдельно и может быть использован вне класса (без декоратора), но обычно мы оставляем его в классе для удобства. Он привязан к классу, а не к конкретному объекту, и вызывается через имя класса, а не через объект."
   ],
   "metadata": {
    "collapsed": false
   },
   "id": "da4d993a50c4c397"
  },
  {
   "cell_type": "markdown",
   "source": [
    "Декоратор @classmethod превращает метод в метод класса, который связан с самим классом, а не с конкретным объектом этого класса. Это значит, что он не может изменять состояние отдельного объекта. Но он может изменять состояние всего класса, которое будет действовать на все объекты этого класса, потому что у него есть доступ к cls (классу), а не к self (конкретному объекту)."
   ],
   "metadata": {
    "collapsed": false
   },
   "id": "8190bd601efca9ca"
  },
  {
   "cell_type": "markdown",
   "source": [
    "\"Создать python класс BankMetrics, который хранит процентную ставку банка и счета клиентов. Он включает методы для регулирования глобальной процентной ставки банка, расчета среднего баланса по всем счетам и расчета выплаты процентов по отдельным счетам. Посмотреть в сторону декораторов @staticmethod и @classmethod для создания удобной структуры класса\"."
   ],
   "metadata": {
    "collapsed": false
   },
   "id": "cf1e58ecda85804b"
  },
  {
   "cell_type": "code",
   "execution_count": 4,
   "id": "initial_id",
   "metadata": {
    "collapsed": true,
    "ExecuteTime": {
     "end_time": "2024-10-14T10:25:37.723392400Z",
     "start_time": "2024-10-14T10:25:37.705597900Z"
    }
   },
   "outputs": [],
   "source": [
    "from __future__ import annotations\n",
    "from typing import List\n",
    "import numpy as np\n",
    "\n",
    "\n",
    "class BankMetrics:\n",
    "    \"\"\"\n",
    "    A class to represent bank metrics.\n",
    "\n",
    "    Attributes\n",
    "    ----------\n",
    "    global_bank_rate : float\n",
    "        The global bank rate applicable to all accounts.\n",
    "    accounts : List[BankMetrics]\n",
    "        A list of BankMetrics instances representing bank accounts.\n",
    "\n",
    "    Methods\n",
    "    -------\n",
    "    __init__(name: str, balance: float):\n",
    "        Initializes a new BankMetrics instance with a name and balance.\n",
    "    adjust_global_bank_rate(new_rate: float):\n",
    "        Method to adjust the global bank rate.\n",
    "    calculate_avg_balance() -> float:\n",
    "        Method to calculate the average balance across all accounts.\n",
    "    calculate_interest(account: BankMetrics) -> float:\n",
    "        Method to calculate interest for a given account.\n",
    "    \"\"\"\n",
    "\n",
    "    global_bank_rate: float = 15.0\n",
    "    accounts: List[BankMetrics] = []\n",
    "\n",
    "    def __init__(self, name: str, balance: float):\n",
    "        self.name = name\n",
    "        self.balance = balance\n",
    "        BankMetrics.accounts.append(self)\n",
    "\n",
    "    @staticmethod\n",
    "    def adjust_global_bank_rate(new_rate: float):\n",
    "        BankMetrics.global_bank_rate = new_rate\n",
    "\n",
    "\n",
    "    @classmethod\n",
    "    def calculate_avg_balance(cls) -> float:\n",
    "        balances = [account.balance for account in cls.accounts]\n",
    "        return np.mean(balances)\n",
    "    \n",
    "    @classmethod\n",
    "    def calculate_interest(cls, account: BankMetrics) -> float:\n",
    "        return account.balance * (cls.global_bank_rate / 100)\n",
    "\n",
    "\n",
    "if __name__ == \"__main__\":\n",
    "    Account1 = BankMetrics(\"Tom\", 15000)\n",
    "    Account2 = BankMetrics(\"Jerry\", 20000)\n",
    "    Account3 = BankMetrics(\"Spike\", 10000)\n",
    "\n",
    "    assert BankMetrics.calculate_avg_balance() == 15000\n",
    "\n",
    "    BankMetrics.adjust_global_bank_rate(16.0)\n",
    "    assert BankMetrics.global_bank_rate == 16.0\n",
    "\n",
    "    assert BankMetrics.calculate_interest(Account1) == 2400.0\n"
   ]
  },
  {
   "cell_type": "code",
   "execution_count": null,
   "outputs": [],
   "source": [],
   "metadata": {
    "collapsed": false
   },
   "id": "2e06a4b3094ec123"
  }
 ],
 "metadata": {
  "kernelspec": {
   "display_name": "Python 3",
   "language": "python",
   "name": "python3"
  },
  "language_info": {
   "codemirror_mode": {
    "name": "ipython",
    "version": 2
   },
   "file_extension": ".py",
   "mimetype": "text/x-python",
   "name": "python",
   "nbconvert_exporter": "python",
   "pygments_lexer": "ipython2",
   "version": "2.7.6"
  }
 },
 "nbformat": 4,
 "nbformat_minor": 5
}
