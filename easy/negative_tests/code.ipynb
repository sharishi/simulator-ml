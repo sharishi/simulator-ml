{
 "cells": [
  {
   "cell_type": "markdown",
   "source": [
    "“Developer tests tend to be \"clean tests\". Developers tend to test whether the code works (clean tests) rather than all the ways the code breaks (dirty tests). Immature testing organizations have about five clean tests for every dirty test. Mature testing organizations tend to have five dirty tests for every clean test. This ratio is not reversed by reducing the clean tests; it’s done by creating 25 times as many dirty tests (Boris Beizer in Johnson 1994).”\n",
    "\n",
    "Steve McConnell. “Code Complete”|"
   ],
   "metadata": {
    "collapsed": false
   },
   "id": "2870d22577713ad8"
  },
  {
   "cell_type": "markdown",
   "source": [
    "Чтобы наш код был надёжным, нам нужно проверять не только позитивные сценарии (тест-кейсы и как функция себя ведёт), но также и всевозможные негативные сценарии, какую ошибку вызывает функция на ту или иную проблему. Это позволит проблеме быть обнаруженной на раннем этапе. В противном случае проблема будет тянуться от функции к функции, от шага к шагу, и локализовать баг, когда он возникнет (т.е. понять, с какого этапа ошибки начались), будет очень трудно."
   ],
   "metadata": {
    "collapsed": false
   },
   "id": "4f9dd94eb44239b8"
  },
  {
   "cell_type": "code",
   "execution_count": null,
   "id": "initial_id",
   "metadata": {
    "collapsed": true
   },
   "outputs": [],
   "source": [
    "def ctr(clicks: int, views: int) -> float:\n",
    "    \"\"\"Click-through Rate.\"\"\"\n",
    "\n",
    "    # Check that the values are integers\n",
    "    if not isinstance(clicks, int):\n",
    "        raise TypeError(\"clicks must be an integer\")\n",
    "\n",
    "    if not isinstance(views, int):\n",
    "        raise TypeError(\"views must be an integer\")\n",
    "\n",
    "    # Check that the values are positive\n",
    "    if clicks < 0:\n",
    "        raise ValueError(\"clicks must be positive\")\n",
    "\n",
    "    if views < 0:\n",
    "        raise ValueError(\"views must be positive\")\n",
    "\n",
    "    # Check if clicks are greater than views\n",
    "    if views < clicks:\n",
    "        raise ValueError(\"clicks must be less than or equal to views\")\n",
    "\n",
    "    # Calculate the clickthrough rate\n",
    "    if views:\n",
    "        return clicks / views\n",
    "    else:\n",
    "        raise ZeroDivisionError(\"views must be greater than zero\")\n"
   ]
  },
  {
   "cell_type": "markdown",
   "source": [
    "Допишите 5 негативных тестов на каждый из сценариев неправильных данных (1-й даём как шаблон):"
   ],
   "metadata": {
    "collapsed": false
   },
   "id": "555d0a1c55df458f"
  },
  {
   "cell_type": "code",
   "execution_count": null,
   "outputs": [],
   "source": [
    "import metrics\n",
    "\n",
    "\n",
    "def test_non_int_clicks():\n",
    "    try:\n",
    "        metrics.ctr(1.5, 2)\n",
    "    except TypeError:\n",
    "        pass\n",
    "    else:\n",
    "        raise AssertionError(\"Non int clicks not handled\")\n",
    "\n",
    "\n",
    "def test_non_int_views():\n",
    "    try:\n",
    "        metrics.ctr(2, 2.5)\n",
    "    except TypeError:\n",
    "        pass\n",
    "    else:\n",
    "        raise AssertionError(\"Non int views not handled\")\n",
    "\n",
    "\n",
    "def test_non_positive_clicks():\n",
    "    try:\n",
    "        metrics.ctr(-1, 2)\n",
    "    except ValueError:\n",
    "        pass\n",
    "    else:\n",
    "        raise AssertionError(\"Non positive clicks not handled\")\n",
    "\n",
    "\n",
    "def test_non_positive_views():\n",
    "    try:\n",
    "        metrics.ctr(1, -1)\n",
    "    except ValueError:\n",
    "        pass\n",
    "    else:\n",
    "        raise AssertionError(\"Non positive views not handled\")\n",
    "\n",
    "\n",
    "def test_clicks_greater_than_views():\n",
    "    try:\n",
    "        metrics.ctr(1, 2)\n",
    "    except ValueError:\n",
    "        pass\n",
    "    else:\n",
    "        raise AssertionError(\"less clicks not handled\")\n",
    "\n",
    "\n",
    "def test_zero_views():\n",
    "    try:\n",
    "        metrics.ctr(0, 2)\n",
    "    except ValueError:\n",
    "        pass\n",
    "    else:\n",
    "        raise AssertionError(\"zero views not handled\")\n",
    "\n"
   ],
   "metadata": {
    "collapsed": false
   },
   "id": "280e05b743ce9a03"
  }
 ],
 "metadata": {
  "kernelspec": {
   "display_name": "Python 3",
   "language": "python",
   "name": "python3"
  },
  "language_info": {
   "codemirror_mode": {
    "name": "ipython",
    "version": 2
   },
   "file_extension": ".py",
   "mimetype": "text/x-python",
   "name": "python",
   "nbconvert_exporter": "python",
   "pygments_lexer": "ipython2",
   "version": "2.7.6"
  }
 },
 "nbformat": 4,
 "nbformat_minor": 5
}
