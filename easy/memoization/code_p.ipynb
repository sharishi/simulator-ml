{
 "cells": [
  {
   "cell_type": "markdown",
   "source": [
    "В real-time сервисах существуют строгие SLA (Service Level Agreements) – ограничения и обязательства, которые мы даём пользователям, например, на время ответа, доступность и т.д."
   ],
   "metadata": {
    "collapsed": false
   },
   "id": "2f872d81bab9eba6"
  },
  {
   "cell_type": "markdown",
   "source": [
    "Золотое правило оптимизации:\n",
    "\n",
    "Если что-то можно не делать, это нужно не делать."
   ],
   "metadata": {
    "collapsed": false
   },
   "id": "6ec01e80d038cbea"
  },
  {
   "cell_type": "markdown",
   "source": [
    "Мемоизация – это одна из техник кэширования, запоминание того, какой ответ и на какие входные данные мы выдавали, чтобы при встрече с этими же входными данными нам не приходилось запускать вычисление заново, достаточно было достать готовый ответ из кэша."
   ],
   "metadata": {
    "collapsed": false
   },
   "id": "2789ca0a418de274"
  },
  {
   "cell_type": "markdown",
   "source": [
    "# Decorator"
   ],
   "metadata": {
    "collapsed": false
   },
   "id": "67f58aa9f8633682"
  },
  {
   "cell_type": "markdown",
   "source": [
    "Мы напишем мемоизацию с помощью декоратора."
   ],
   "metadata": {
    "collapsed": false
   },
   "id": "bed995e33c686a6c"
  },
  {
   "cell_type": "markdown",
   "source": [
    "Декоратор – это функция от функции, которая возвращает функцию ... со слегка изменённым поведением. ))"
   ],
   "metadata": {
    "collapsed": false
   },
   "id": "68599fbd1ef12367"
  },
  {
   "cell_type": "code",
   "execution_count": 2,
   "id": "initial_id",
   "metadata": {
    "collapsed": true,
    "ExecuteTime": {
     "end_time": "2024-10-02T18:12:29.867304700Z",
     "start_time": "2024-10-02T18:12:29.853784900Z"
    }
   },
   "outputs": [],
   "source": [
    "#@my_pretty_decorator\n",
    "def some_cool_func(x: int) -> int:\n",
    "    ...\n",
    "    return ...\n",
    "# эквивалент\n",
    "\n",
    "\n",
    "def some_cool_func1(x: int) -> int:\n",
    "    ...\n",
    "    return ...\n",
    "\n",
    "# some_cool_func = my_pretty_decorator(some_cool_func1)"
   ]
  },
  {
   "cell_type": "markdown",
   "source": [
    "# Пример: @timer"
   ],
   "metadata": {
    "collapsed": false
   },
   "id": "a9bf73cefc4c849"
  },
  {
   "cell_type": "code",
   "execution_count": 4,
   "outputs": [
    {
     "name": "stdout",
     "output_type": "stream",
     "text": [
      "slow_conversion_rate was run in 11.0 ms\n"
     ]
    },
    {
     "data": {
      "text/plain": "1.6666666666666667"
     },
     "execution_count": 4,
     "metadata": {},
     "output_type": "execute_result"
    }
   ],
   "source": [
    "from typing import Callable\n",
    "import time\n",
    "\n",
    "def timer(func: Callable):\n",
    "    # We define a function that takes the same arguments\n",
    "    # as func, but now we add some extra behavior to it,\n",
    "    # in our case we track it's running time\n",
    "    def wrapped(x: int, y: int) -> float:\n",
    "        # We do some stuff before running the function\n",
    "        start = time.time()\n",
    "\n",
    "        # We run function as usual\n",
    "        result = func(x, y)\n",
    "\n",
    "        # Some behavior after running\n",
    "        end = time.time()\n",
    "        duration = round(1000 * (end - start), 1)\n",
    "        print(f\"{func.__name__} was run in {duration} ms\")\n",
    "\n",
    "        # Return the result of the original function\n",
    "        return result\n",
    "\n",
    "    return wrapped\n",
    "\n",
    "\n",
    "@timer\n",
    "def slow_conversion_rate(conversions: int, clicks: int) -> float:\n",
    "    time.sleep(0.01)\n",
    "    return conversions / clicks\n",
    "slow_conversion_rate(5,3)"
   ],
   "metadata": {
    "collapsed": false,
    "ExecuteTime": {
     "end_time": "2024-10-02T18:13:51.313288Z",
     "start_time": "2024-10-02T18:13:51.285433800Z"
    }
   },
   "id": "140d6018cad14141"
  },
  {
   "cell_type": "markdown",
   "source": [
    "# Задание: @memoize\n"
   ],
   "metadata": {
    "collapsed": false
   },
   "id": "29ba3a47085bb1de"
  },
  {
   "cell_type": "markdown",
   "source": [
    "Ваша задача написать декоратор @memoize, который кэширует, какие аргументы были поданы на вход функции и что она вернула. Декоратор должен работать с любыми функциями :)"
   ],
   "metadata": {
    "collapsed": false
   },
   "id": "5e372fa7ad7c3250"
  },
  {
   "cell_type": "code",
   "execution_count": 5,
   "outputs": [],
   "source": [
    "from typing import Callable\n",
    "\n",
    "\n",
    "def memoize(func: Callable) -> Callable:\n",
    "    \"\"\"Memoize function\"\"\"\n",
    "    cache = {}\n",
    "\n",
    "    def wrapped(*args, **kwargs):\n",
    "        key = str((args, sorted(kwargs.items())))\n",
    "\n",
    "        if key in cache:\n",
    "            return cache[key]\n",
    "\n",
    "        result = func(*args, **kwargs)\n",
    "        cache[key] = result\n",
    "\n",
    "        return result\n",
    "\n",
    "    return wrapped\n"
   ],
   "metadata": {
    "collapsed": false,
    "ExecuteTime": {
     "end_time": "2024-10-02T18:38:36.958720100Z",
     "start_time": "2024-10-02T18:38:36.945202Z"
    }
   },
   "id": "a6f572fe32e4fc9f"
  },
  {
   "cell_type": "code",
   "execution_count": 6,
   "outputs": [],
   "source": [
    "from typing import Callable\n",
    "\n",
    "\n",
    "def memoize(func: Callable) -> Callable:\n",
    "    \"\"\"Memoize function\"\"\"\n",
    "    cache = {}\n",
    "\n",
    "    def wrapped(*args, **kwargs):\n",
    "        key = str(args) + str(sorted(kwargs.items()))\n",
    "\n",
    "        if key not in cache:\n",
    "            cache[key] = result = func(*args, **kwargs)\n",
    "\n",
    "        return cache[key]\n",
    "\n",
    "    return wrapped\n",
    "\n"
   ],
   "metadata": {
    "collapsed": false,
    "ExecuteTime": {
     "end_time": "2024-10-02T18:43:34.988265900Z",
     "start_time": "2024-10-02T18:43:34.980749800Z"
    }
   },
   "id": "d65657007a7f38a4"
  },
  {
   "cell_type": "code",
   "execution_count": null,
   "outputs": [],
   "source": [],
   "metadata": {
    "collapsed": false
   },
   "id": "b0be0454bf13af45"
  }
 ],
 "metadata": {
  "kernelspec": {
   "display_name": "Python 3",
   "language": "python",
   "name": "python3"
  },
  "language_info": {
   "codemirror_mode": {
    "name": "ipython",
    "version": 2
   },
   "file_extension": ".py",
   "mimetype": "text/x-python",
   "name": "python",
   "nbconvert_exporter": "python",
   "pygments_lexer": "ipython2",
   "version": "2.7.6"
  }
 },
 "nbformat": 4,
 "nbformat_minor": 5
}
