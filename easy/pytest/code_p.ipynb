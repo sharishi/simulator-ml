{
 "cells": [
  {
   "cell_type": "code",
   "execution_count": null,
   "outputs": [],
   "source": [],
   "metadata": {
    "collapsed": false
   },
   "id": "509ad88f6037311"
  },
  {
   "cell_type": "markdown",
   "source": [
    "Ваш коллега написал код для подсчета нескольких бизнес метрик:\n",
    "\n",
    "Общая прибыль\n",
    "Маржинальность (отношение прибыли к выручке)\n",
    "Средняя наценка (отношение прибыли к затратам)\n",
    "Помогите ему написать для них юнит-тесты, используя Pytest."
   ],
   "metadata": {
    "collapsed": false
   },
   "id": "4152522878377a64"
  },
  {
   "cell_type": "code",
   "execution_count": 3,
   "id": "initial_id",
   "metadata": {
    "collapsed": true,
    "ExecuteTime": {
     "end_time": "2024-10-02T18:06:52.863366200Z",
     "start_time": "2024-10-02T18:06:52.854358Z"
    }
   },
   "outputs": [],
   "source": [
    "from typing import List\n",
    "\n",
    "\n",
    "def profit(revenue: List[float], costs: List[float]) -> float:\n",
    "    return sum(revenue) - sum(costs)\n",
    "\n",
    "\n",
    "def margin(revenue: List[float], costs: List[float]) -> float:\n",
    "    return (sum(revenue) - sum(costs)) / sum(revenue)\n",
    "\n",
    "\n",
    "def markup(revenue: List[float], costs: List[float]) -> float:\n",
    "    return (sum(revenue) - sum(costs)) / sum(costs)"
   ]
  },
  {
   "cell_type": "code",
   "execution_count": 4,
   "outputs": [
    {
     "data": {
      "text/plain": "0.5"
     },
     "execution_count": 4,
     "metadata": {},
     "output_type": "execute_result"
    }
   ],
   "source": [
    "margin([1, 2, 3], [1, 1, 1])"
   ],
   "metadata": {
    "collapsed": false,
    "ExecuteTime": {
     "end_time": "2024-10-02T18:06:53.476445300Z",
     "start_time": "2024-10-02T18:06:53.465932400Z"
    }
   },
   "id": "bacf3d0ad1acd85"
  },
  {
   "cell_type": "markdown",
   "source": [
    "Tests"
   ],
   "metadata": {
    "collapsed": false
   },
   "id": "1b3a9ffec462c030"
  },
  {
   "cell_type": "code",
   "execution_count": 5,
   "outputs": [],
   "source": [
    "import metrics\n",
    "\n",
    "\n",
    "def test_profit() -> None:\n",
    "    \"\"\"Test profit\"\"\"\n",
    "    assert metrics.profit([1, 2, 3], [1, 1, 1]) == 3\n",
    "\n",
    "\n",
    "def test_margin() -> None:\n",
    "    \"\"\"Test margin\"\"\"\n",
    "    assert metrics.margin([1, 2, 3], [1, 1, 1]) == 0.5\n",
    "\n",
    "\n",
    "def test_markup() -> None:\n",
    "    \"\"\"Test markup\"\"\"\n",
    "    assert metrics.markup([1, 2, 3], [1, 1, 1]) == 1"
   ],
   "metadata": {
    "collapsed": false,
    "ExecuteTime": {
     "end_time": "2024-10-02T18:08:59.217189200Z",
     "start_time": "2024-10-02T18:08:59.208767400Z"
    }
   },
   "id": "ef6881fad2dcfc55"
  },
  {
   "cell_type": "code",
   "execution_count": null,
   "outputs": [],
   "source": [],
   "metadata": {
    "collapsed": false
   },
   "id": "d0a1f526068d03c0"
  }
 ],
 "metadata": {
  "kernelspec": {
   "display_name": "Python 3",
   "language": "python",
   "name": "python3"
  },
  "language_info": {
   "codemirror_mode": {
    "name": "ipython",
    "version": 2
   },
   "file_extension": ".py",
   "mimetype": "text/x-python",
   "name": "python",
   "nbconvert_exporter": "python",
   "pygments_lexer": "ipython2",
   "version": "2.7.6"
  }
 },
 "nbformat": 4,
 "nbformat_minor": 5
}
