{
 "cells": [
  {
   "cell_type": "markdown",
   "source": [
    "# MAP, FILTER, REDUCE\n",
    "Функции map, filter и reduce в Python являются важными инструментами функционального программирования, позволяющими эффективно обрабатывать коллекции данных.  Эти функции предоставляют удобные возможности для создания кратких и выразительных конструкций обработки данных, сохраняя при этом эффективность и читаемость кода.\n",
    "\n",
    "Функциональный стиль программирования подразумевает декларативный подход к написанию кода, мы описываем, что нужно сделать, а не как это нужно сделать.\n",
    "\n",
    "В литературе функции map, filter, reduce еще называют функциями высшего порядка. Что означает, что эти функции могут принимать на вход другие функции и возвращать функции-итераторы. Это позволяет создавать абстракции и композиции операций обработки коллекций без использования циклов. Примеры такого использования мы рассмотрим ниже."
   ],
   "metadata": {
    "collapsed": false
   },
   "id": "3a19c3ec9924a3fc"
  },
  {
   "cell_type": "markdown",
   "source": [
    "## Лямбда-функции\n",
    "С функциями map, filter, reduce часто используются лямбда-функции. Поэтому познакомимся сначала с ними.\n",
    "\n",
    "Лямбда-функции в Python - это способ создания анонимных функций, то есть функций без имени. Они часто используются для описания небольших одноразовых функций, выполнение которых не требует полного определения функции с использованием def. Лямбда-функции особенно удобны для использования в аргументах функций, которые принимают другие функции в качестве параметров, например, таких как map, filter или sorted."
   ],
   "metadata": {
    "collapsed": false
   },
   "id": "82b40a74cce3486"
  },
  {
   "cell_type": "code",
   "execution_count": 5,
   "id": "initial_id",
   "metadata": {
    "collapsed": true,
    "ExecuteTime": {
     "end_time": "2024-10-14T11:22:29.632446100Z",
     "start_time": "2024-10-14T11:22:29.624654300Z"
    }
   },
   "outputs": [
    {
     "data": {
      "text/plain": "[(5, -1), (1, 2), (3, 4)]"
     },
     "execution_count": 5,
     "metadata": {},
     "output_type": "execute_result"
    }
   ],
   "source": [
    "points = [(1, 2), (3, 4), (5, -1)]\n",
    "points_sorted_by_y = sorted(points, key=lambda point: point[1])\n",
    "points_sorted_by_y"
   ]
  },
  {
   "cell_type": "markdown",
   "source": [
    "map()\n",
    "Функция принимает два аргумента: функцию (предикат) и итерируемый объект. Она применяет функцию к каждому элементу итерируемого объекта и возвращает итератор с результатами."
   ],
   "metadata": {
    "collapsed": false
   },
   "id": "54aa523cc5483ed5"
  },
  {
   "cell_type": "code",
   "execution_count": 6,
   "outputs": [
    {
     "name": "stdout",
     "output_type": "stream",
     "text": [
      "[1, 4, 9, 16]\n"
     ]
    }
   ],
   "source": [
    "nums = [1, 2, 3, 4]\n",
    "squared_nums = list(map(lambda x: x**2, nums))\n",
    "\n",
    "print(squared_nums)"
   ],
   "metadata": {
    "collapsed": false,
    "ExecuteTime": {
     "end_time": "2024-10-14T11:24:23.691667300Z",
     "start_time": "2024-10-14T11:24:23.687156200Z"
    }
   },
   "id": "18eb0a373fccea85"
  },
  {
   "cell_type": "markdown",
   "source": [
    "Функции map, filter, reduce являются итераторами (не хранят значения в памяти и вычисляют следующий элемент на очередной итерации). Поэтому, если необходимо вывести результат функцией print, результат необходимо обернуть в функцию list."
   ],
   "metadata": {
    "collapsed": false
   },
   "id": "1f7b1780b196b45a"
  },
  {
   "cell_type": "markdown",
   "source": [
    "filter()\n",
    "Функция принимает два аргумента: функцию (предикат) и итерируемый объект, применяет функцию-предикат к каждому элементу и возвращает итератор с теми элементами, для которых функция-предикат вернула True."
   ],
   "metadata": {
    "collapsed": false
   },
   "id": "4e45a36f1cbbf024"
  },
  {
   "cell_type": "code",
   "execution_count": 7,
   "outputs": [
    {
     "name": "stdout",
     "output_type": "stream",
     "text": [
      "[2, 4, 6]\n"
     ]
    }
   ],
   "source": [
    "nums = [1, 2, 3, 4, 5, 6]\n",
    "even_nums = list(filter(lambda x: x % 2 == 0, nums))\n",
    "\n",
    "print(even_nums)"
   ],
   "metadata": {
    "collapsed": false,
    "ExecuteTime": {
     "end_time": "2024-10-14T11:26:51.920453Z",
     "start_time": "2024-10-14T11:26:51.915941600Z"
    }
   },
   "id": "7b81b2e7dfc49a8"
  },
  {
   "cell_type": "markdown",
   "source": [
    "reduce()\n",
    "Это функция из модуля functools. Она применяет заданную функцию-предикат кумулятивно к элементам итерируемого объекта (слева направо) так, чтобы привести итерируемый объект к единственному значению. Функция всегда возвращает одно значение."
   ],
   "metadata": {
    "collapsed": false
   },
   "id": "dfdfdc8ca6808c85"
  },
  {
   "cell_type": "code",
   "execution_count": 8,
   "outputs": [
    {
     "name": "stdout",
     "output_type": "stream",
     "text": [
      "10\n"
     ]
    }
   ],
   "source": [
    "from functools import reduce\n",
    "\n",
    "\n",
    "data = range(1, 5)\n",
    "sum_of_data = reduce(lambda x, y: x + y, data)\n",
    "\n",
    "print(sum_of_data)"
   ],
   "metadata": {
    "collapsed": false,
    "ExecuteTime": {
     "end_time": "2024-10-14T11:27:35.783956100Z",
     "start_time": "2024-10-14T11:27:35.777752300Z"
    }
   },
   "id": "55db79fee69e57a4"
  },
  {
   "cell_type": "markdown",
   "source": [
    "Функции можно использовать совместно передавая одну в качестве аргумента в другую.\n",
    "\n"
   ],
   "metadata": {
    "collapsed": false
   },
   "id": "7720cee89141a70d"
  },
  {
   "cell_type": "code",
   "execution_count": 9,
   "outputs": [
    {
     "name": "stdout",
     "output_type": "stream",
     "text": [
      "385\n"
     ]
    }
   ],
   "source": [
    "from functools import reduce\n",
    "\n",
    "\n",
    "# Исходный список чисел\n",
    "numbers = [1, 2, 3, 4, 5, 6, 7, 8, 9, 10]\n",
    "\n",
    "# Суммируем квадраты\n",
    "sum_of_squares = reduce(lambda x, y: x + y, map(lambda x: x**2, numbers))\n",
    "\n",
    "print(sum_of_squares)\n"
   ],
   "metadata": {
    "collapsed": false,
    "ExecuteTime": {
     "end_time": "2024-10-14T11:28:20.483364600Z",
     "start_time": "2024-10-14T11:28:20.476732300Z"
    }
   },
   "id": "103f9a67baf90341"
  },
  {
   "cell_type": "code",
   "execution_count": 10,
   "outputs": [
    {
     "name": "stdout",
     "output_type": "stream",
     "text": [
      "220\n"
     ]
    }
   ],
   "source": [
    "from functools import reduce\n",
    "\n",
    "\n",
    "# Исходный список чисел\n",
    "numbers = [1, 2, 3, 4, 5, 6, 7, 8, 9, 10]\n",
    "\n",
    "# Фильтруем четные числа\n",
    "even_numbers = filter(lambda x: x % 2 == 0, numbers)\n",
    "\n",
    "# Возводим четные числа в квадрат\n",
    "squared_even_numbers = map(lambda x: x**2, even_numbers)\n",
    "\n",
    "# Суммируем квадраты\n",
    "sum_of_squares = reduce(lambda x, y: x + y, squared_even_numbers)\n",
    "\n",
    "print(sum_of_squares)\n"
   ],
   "metadata": {
    "collapsed": false,
    "ExecuteTime": {
     "end_time": "2024-10-14T11:28:42.037400200Z",
     "start_time": "2024-10-14T11:28:42.031887700Z"
    }
   },
   "id": "9d6d28d70f52c825"
  },
  {
   "cell_type": "markdown",
   "source": [
    "В библиотеке Pandas, предназначенной для работы с табличными данными, функции подобные map и apply используются для трансформации данных в столбцах DataFrame или Series.\n",
    "\n",
    "map в Pandas: Этот метод применяется к каждому элементу Series для выполнения преобразования или применения функции.\n",
    "apply в Pandas: Похож на map, но более мощный, так как может применяться к DataFrame, обрабатывая данные вдоль оси (строки или столбцы).\n",
    "Apache Spark - это мощная система для обработки больших данных, которая использует функции, аналогичные map и reduce, для распределенной обработки данных.\n",
    "\n",
    "map в Spark: Применяется к каждому элементу RDD (Resilient Distributed Dataset) и возвращает новый RDD, что позволяет выполнять распределенные вычисления.\n",
    "reduce в Spark: Используется для агрегирования данных в RDD, например, для суммирования или нахождения максимального значения."
   ],
   "metadata": {
    "collapsed": false
   },
   "id": "5f5cffae6344db1a"
  },
  {
   "cell_type": "markdown",
   "source": [
    "# Задание\n",
    "Задание 1: Из списка продаж фильтровать те, что превышают определенную сумму, и применить к ним налог.\n"
   ],
   "metadata": {
    "collapsed": false
   },
   "id": "14a908b2b97b9ddf"
  },
  {
   "cell_type": "code",
   "execution_count": 12,
   "outputs": [
    {
     "data": {
      "text/plain": "[330.0, 440.00000000000006, 550.0]"
     },
     "execution_count": 12,
     "metadata": {},
     "output_type": "execute_result"
    }
   ],
   "source": [
    "from typing import List\n",
    "\n",
    "\n",
    "def sales_with_tax(sales: List[float], tax_rate: float, threshold: float = 300) -> List[float]:\n",
    "    \"\"\"Filter sales by tax rate\"\"\"\n",
    "    return list(map(lambda x: x * (1 + tax_rate), filter(lambda x: x > threshold, sales)))\n",
    "\n",
    "sales_with_tax([100, 200, 300, 400, 500], 0.1, 250)"
   ],
   "metadata": {
    "collapsed": false,
    "ExecuteTime": {
     "end_time": "2024-10-14T11:34:18.704366100Z",
     "start_time": "2024-10-14T11:34:18.691705Z"
    }
   },
   "id": "e9b899c0ceda7715"
  },
  {
   "cell_type": "markdown",
   "source": [
    "Задание 2: Суммировать продажи после фильтрации по минимальной сумме продажи.\n",
    "\n",
    "\n"
   ],
   "metadata": {
    "collapsed": false
   },
   "id": "be602e66be5ad2b8"
  },
  {
   "cell_type": "code",
   "execution_count": 13,
   "outputs": [
    {
     "data": {
      "text/plain": "1350"
     },
     "execution_count": 13,
     "metadata": {},
     "output_type": "execute_result"
    }
   ],
   "source": [
    "from functools import reduce\n",
    "from typing import List\n",
    "\n",
    "\n",
    "def sum_sales(sales: List[float], threshold: float = 300) -> float:\n",
    "    \"\"\"Sum sales filtered by tax rate\"\"\"\n",
    "    return reduce(lambda x, y: x + y, filter(lambda x: x > threshold, sales))\n",
    "\n",
    "sum_sales([150, 250, 350, 450, 550], 250)"
   ],
   "metadata": {
    "collapsed": false,
    "ExecuteTime": {
     "end_time": "2024-10-14T11:37:59.162121200Z",
     "start_time": "2024-10-14T11:37:59.147818100Z"
    }
   },
   "id": "c010fb5855b4ed9b"
  },
  {
   "cell_type": "markdown",
   "source": [
    "Задание 3: Найти средний возраст клиентов, чей возраст превышает определенный порог."
   ],
   "metadata": {
    "collapsed": false
   },
   "id": "8bc81aebcdbed3a4"
  },
  {
   "cell_type": "code",
   "execution_count": 19,
   "outputs": [
    {
     "data": {
      "text/plain": "45.6"
     },
     "execution_count": 19,
     "metadata": {},
     "output_type": "execute_result"
    }
   ],
   "source": [
    "from functools import reduce\n",
    "from typing import List\n",
    "\n",
    "\n",
    "def average_age(ages: List[int], threshold: int = 30) -> float:\n",
    "     \"\"\"Average age calculate\"\"\"\n",
    "     filtered_ages = list(filter(lambda x: x > threshold, ages))\n",
    "     sum_of_ages = reduce(lambda x, y: x+ y ,filtered_ages)\n",
    "     return sum_of_ages/len(filtered_ages)\n",
    "average_age( [22, 35, 42, 55, 67, 18, 29], 25)"
   ],
   "metadata": {
    "collapsed": false,
    "ExecuteTime": {
     "end_time": "2024-10-14T11:43:20.738936100Z",
     "start_time": "2024-10-14T11:43:20.722439200Z"
    }
   },
   "id": "fe73be4bf7e1c115"
  },
  {
   "cell_type": "markdown",
   "source": [
    "Задание 4: Увеличить цену каждого товара на 20% и отфильтровать те, чья итоговая цена превышает определенный порог."
   ],
   "metadata": {
    "collapsed": false
   },
   "id": "866a9fb7ecf1c942"
  },
  {
   "cell_type": "code",
   "execution_count": 21,
   "outputs": [
    {
     "data": {
      "text/plain": "[48.0, 60.0, 72.0]"
     },
     "execution_count": 21,
     "metadata": {},
     "output_type": "execute_result"
    }
   ],
   "source": [
    "from typing import List\n",
    "\n",
    "\n",
    "def increased_prices(prices: List[float], increase_rate: float = 0.2, threshold: float = 300) -> List[float]:\n",
    "    \"\"\"Show filtered increase prices\"\"\"\n",
    "    new_prices = map(lambda x: x + x*increase_rate, prices)\n",
    "    return list(filter(lambda x: x > threshold,new_prices))\n",
    "increased_prices([20, 30, 40, 50, 60], 0.2, 40)"
   ],
   "metadata": {
    "collapsed": false,
    "ExecuteTime": {
     "end_time": "2024-10-14T11:46:31.963386100Z",
     "start_time": "2024-10-14T11:46:31.945582300Z"
    }
   },
   "id": "e39e1b9d06532203"
  },
  {
   "cell_type": "markdown",
   "source": [
    "Задание 5: Рассчитайте средневзвешенную цену проданных товаров. Взвешивать нужно на количество продаж. Т.е. количество выступает как вес в формуле средневзвешенного."
   ],
   "metadata": {
    "collapsed": false
   },
   "id": "e2c37379f1d39522"
  },
  {
   "cell_type": "code",
   "execution_count": 31,
   "outputs": [
    {
     "data": {
      "text/plain": "239.33333333333334"
     },
     "execution_count": 31,
     "metadata": {},
     "output_type": "execute_result"
    }
   ],
   "source": [
    "def weighted_sale_price(sales: List[float]) -> float:\n",
    "    \"\"\"Returns the weighted sale price\"\"\"\n",
    "    nom = reduce(lambda x, y: x + y, list(map(lambda x: x[0]*x[1], sales)))\n",
    "    den = reduce(lambda x, y: x + y, list(map(lambda sale: sale[1], sales)))\n",
    "    return nom / den if den > 0 else 0\n",
    "\n",
    "weighted_sale_price([(120, 2), (300, 5), (150, 3), (400, 1), (250, 4)])"
   ],
   "metadata": {
    "collapsed": false,
    "ExecuteTime": {
     "end_time": "2024-10-14T12:03:05.917207600Z",
     "start_time": "2024-10-14T12:03:05.886252700Z"
    }
   },
   "id": "cc7220a34e3c90a4"
  },
  {
   "cell_type": "code",
   "execution_count": 24,
   "outputs": [
    {
     "name": "stdout",
     "output_type": "stream",
     "text": [
      "239.33333333333334\n"
     ]
    }
   ],
   "source": [
    "from functools import reduce\n",
    "from typing import List\n",
    "\n",
    "\n",
    "def weighted_sale_price(sales: List[float]) -> float:\n",
    "    \"\"\"Returns the weighted sale price\"\"\"\n",
    "    nom = reduce(lambda acc, sale: acc + sale[0] * sale[1], sales, 0.0)  # Sum of price * quantity\n",
    "    den = reduce(lambda acc, sale: acc + sale[1], sales, 0)  # Sum of quantities\n",
    "    return nom / den if den > 0 else 0  # Prevent division by zero\n",
    "\n",
    "# Example usage\n",
    "result = weighted_sale_price([(120, 2), (300, 5), (150, 3), (400, 1), (250, 4)])\n",
    "print(result)  # Output: 239.0"
   ],
   "metadata": {
    "collapsed": false,
    "ExecuteTime": {
     "end_time": "2024-10-14T11:54:19.685689900Z",
     "start_time": "2024-10-14T11:54:19.667174200Z"
    }
   },
   "id": "5ca731a7f593c62f"
  },
  {
   "cell_type": "code",
   "execution_count": null,
   "outputs": [],
   "source": [],
   "metadata": {
    "collapsed": false
   },
   "id": "2cd034a85c77a2dd"
  }
 ],
 "metadata": {
  "kernelspec": {
   "display_name": "Python 3",
   "language": "python",
   "name": "python3"
  },
  "language_info": {
   "codemirror_mode": {
    "name": "ipython",
    "version": 2
   },
   "file_extension": ".py",
   "mimetype": "text/x-python",
   "name": "python",
   "nbconvert_exporter": "python",
   "pygments_lexer": "ipython2",
   "version": "2.7.6"
  }
 },
 "nbformat": 4,
 "nbformat_minor": 5
}
