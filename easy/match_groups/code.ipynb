{
 "cells": [
  {
   "cell_type": "markdown",
   "source": [
    "# Новые пары"
   ],
   "metadata": {
    "collapsed": false
   },
   "id": "9a9f5c37d5427a4b"
  },
  {
   "cell_type": "markdown",
   "source": [
    "Вас попросили написать маленькую, но важную функцию, которая дополняет матчи, найденные моделью.\n",
    "\n",
    "Если товары 1 и 2 – матчи, а также товары 7 и 2 – матчи, то логично сделать вывод, что 1 и 7 тоже матч.\n",
    "! В данном случае мы не разделяем товары на наши и и товары конкурентов!"
   ],
   "metadata": {
    "collapsed": false
   },
   "id": "b199962fbeaf7f17"
  },
  {
   "cell_type": "markdown",
   "source": [
    "Напишите функцию, которая выполняет описанный постпроцессинг предсказаний:"
   ],
   "metadata": {
    "collapsed": false
   },
   "id": "8b0f81fb248c7fb0"
  },
  {
   "cell_type": "markdown",
   "source": [
    "На входе и выходе ожидается список из tuple. Список на выходе должен быть отсортирован, не содержать дублей и в каждой паре на первом месте товар с меньшим индексом."
   ],
   "metadata": {
    "collapsed": false
   },
   "id": "a4e035c5a67fe53b"
  },
  {
   "cell_type": "code",
   "execution_count": 4,
   "id": "initial_id",
   "metadata": {
    "collapsed": true,
    "ExecuteTime": {
     "end_time": "2024-10-05T17:48:14.734774100Z",
     "start_time": "2024-10-05T17:48:14.726551600Z"
    }
   },
   "outputs": [],
   "source": [
    "from typing import List\n",
    "from typing import Tuple\n",
    "\n",
    "\n",
    "def extend_matches(pairs: List[Tuple[int, int]]) -> List[Tuple[int, int]]:\n",
    "    \"\"\"Find matches\"\"\"\n",
    "    pairs_t = pairs.copy()\n",
    "    res_set = set()\n",
    "    # result_list = []\n",
    "    if pairs_t:  # Проверяем, что множество не пустое\n",
    "        max_t = max(len(t) for t in pairs_t)\n",
    "    else:\n",
    "        return []\n",
    "\n",
    "    while max_t > 0:\n",
    "        for i in range(len(pairs_t)):\n",
    "            for j in range(len(pairs_t)):\n",
    "                if set(pairs_t[i]) & set(pairs_t[j]):\n",
    "                    pairs_t.append(tuple(sorted(set(pairs_t[i]) | set(pairs_t[j]))))\n",
    "        max_t -= 1\n",
    "    sets = set(pairs_t)\n",
    "    # print(\"s\",sets)\n",
    "    for tup in sets.copy():\n",
    "        pairs = [(min(tup[i], tup[j]), max(tup[i], tup[j]))\n",
    "                 for i in range(len(tup))\n",
    "                 for j in range(i + 1, len(tup))]\n",
    "\n",
    "        # Добавляем их во множество\n",
    "        # sets.update(pairs)\n",
    "        res_set.update(pairs)\n",
    "    #\n",
    "    # # Преобразуем множество в отсортированный список\n",
    "    #     result_list = sorted(sets)\n",
    "    # print(\"r\",)\n",
    "\n",
    "    return sorted(res_set)\n"
   ]
  },
  {
   "cell_type": "code",
   "execution_count": 5,
   "outputs": [
    {
     "ename": "KeyboardInterrupt",
     "evalue": "",
     "output_type": "error",
     "traceback": [
      "\u001B[1;31m---------------------------------------------------------------------------\u001B[0m",
      "\u001B[1;31mKeyboardInterrupt\u001B[0m                         Traceback (most recent call last)",
      "Cell \u001B[1;32mIn[5], line 1\u001B[0m\n\u001B[1;32m----> 1\u001B[0m \u001B[43mextend_matches\u001B[49m\u001B[43m(\u001B[49m\u001B[43m[\u001B[49m\u001B[43m(\u001B[49m\u001B[38;5;241;43m5\u001B[39;49m\u001B[43m,\u001B[49m\u001B[43m \u001B[49m\u001B[38;5;241;43m3\u001B[39;49m\u001B[43m,\u001B[49m\u001B[43m \u001B[49m\u001B[38;5;241;43m4\u001B[39;49m\u001B[43m,\u001B[49m\u001B[43m \u001B[49m\u001B[38;5;241;43m8\u001B[39;49m\u001B[43m)\u001B[49m\u001B[43m,\u001B[49m\u001B[43m \u001B[49m\u001B[43m(\u001B[49m\u001B[38;5;241;43m1\u001B[39;49m\u001B[43m,\u001B[49m\u001B[43m \u001B[49m\u001B[38;5;241;43m2\u001B[39;49m\u001B[43m)\u001B[49m\u001B[43m,\u001B[49m\u001B[43m \u001B[49m\u001B[43m(\u001B[49m\u001B[38;5;241;43m7\u001B[39;49m\u001B[43m,\u001B[49m\u001B[43m \u001B[49m\u001B[38;5;241;43m2\u001B[39;49m\u001B[43m)\u001B[49m\u001B[43m]\u001B[49m\u001B[43m)\u001B[49m\n",
      "Cell \u001B[1;32mIn[4], line -1\u001B[0m, in \u001B[0;36mextend_matches\u001B[1;34m(pairs)\u001B[0m\n\u001B[0;32m      0\u001B[0m <Error retrieving source code with stack_data see ipython/ipython#13598>\n",
      "\u001B[1;31mKeyboardInterrupt\u001B[0m: "
     ]
    }
   ],
   "source": [
    "extend_matches([(1, 2), (2, 3), (5, 3), (4, 6), (6, 7), (8, 9)])"
   ],
   "metadata": {
    "collapsed": false,
    "ExecuteTime": {
     "end_time": "2024-10-05T17:49:24.616724200Z",
     "start_time": "2024-10-05T17:48:27.670474100Z"
    }
   },
   "id": "5f7ac10607f8c639"
  },
  {
   "cell_type": "code",
   "execution_count": 26,
   "outputs": [],
   "source": [
    "from typing import List\n",
    "from typing import Tuple\n",
    "\n",
    "\n",
    "def extend_matches(pairs: List[Tuple[int, int]]) -> List[Tuple[int, int]]:\n",
    "    \"\"\"Add new pairs based on existing ones\"\"\"\n",
    "    # Collect all unique ids\n",
    "    unique_ids = set()\n",
    "    for x, y in pairs:\n",
    "        unique_ids.add(x)\n",
    "        unique_ids.add(y)\n",
    "\n",
    "    # Create a dictionary of existing pairs\n",
    "    pairs_dict = {x: {x} for x in unique_ids}\n",
    "    for x, y in pairs:\n",
    "        united_pairs = pairs_dict[x] | pairs_dict[y]\n",
    "        for z in united_pairs:\n",
    "            pairs_dict[z].update(united_pairs)\n",
    "\n",
    "    # Create a list of new pairs\n",
    "    new_pairs = []\n",
    "    for x, x_pairs in pairs_dict.items():\n",
    "        for y in x_pairs:\n",
    "            new_pairs.append((x, y))\n",
    "\n",
    "\n",
    "    # Drop self-pairs and duplicates\n",
    "    new_pairs = [pair for pair in new_pairs if pair[0] < pair[1]]\n",
    "\n",
    "    # Sort the list of new pairs\n",
    "    new_pairs = sorted(new_pairs)\n",
    "\n",
    "    return new_pairs\n"
   ],
   "metadata": {
    "collapsed": false,
    "ExecuteTime": {
     "end_time": "2024-10-05T18:03:24.632547500Z",
     "start_time": "2024-10-05T18:03:24.619535300Z"
    }
   },
   "id": "ef011ecd4e2a96b"
  },
  {
   "cell_type": "code",
   "execution_count": 27,
   "outputs": [
    {
     "data": {
      "text/plain": "[(1, 2),\n (1, 3),\n (1, 5),\n (2, 3),\n (2, 5),\n (3, 5),\n (4, 6),\n (4, 7),\n (6, 7),\n (8, 9)]"
     },
     "execution_count": 27,
     "metadata": {},
     "output_type": "execute_result"
    }
   ],
   "source": [
    "extend_matches([(1, 2), (2, 3), (5, 3), (4, 6), (6, 7), (8, 9)])"
   ],
   "metadata": {
    "collapsed": false,
    "ExecuteTime": {
     "end_time": "2024-10-05T18:03:25.023730200Z",
     "start_time": "2024-10-05T18:03:25.015216300Z"
    }
   },
   "id": "c5c73440a370a557"
  },
  {
   "cell_type": "markdown",
   "source": [
    "# Match Groups\n",
    "Отлично, работает как часы. Однако мы с командой посидели-подумали и пришли к выводу, что работать с парами не так удобно, как с группами матчей. Если товары (1, 2) и (7, 2) – матчи, почему бы не объединить их в одну группу (1, 2, 7)? Такой формат записи более удобен. Более того, из одних \"источников правды\" приходят данные в одном формате (группами), из других в формате пар (из модели). Формат match-групп кажется более универсальной записью.\n",
    "\n",
    "Давайте обновим наш постпроцессинг, чтобы он работал как с парами, так и с тройками товаров, четвёрками и другими наборами товаров."
   ],
   "metadata": {
    "collapsed": false
   },
   "id": "831b9fe2fbdf78f7"
  },
  {
   "cell_type": "code",
   "execution_count": 57,
   "outputs": [],
   "source": [
    "from typing import List\n",
    "\n",
    "\n",
    "def extend_matches(groups: List[tuple]) -> List[tuple]:\n",
    "    \"\"\"Add new pairs based on existing ones\"\"\"\n",
    "    # Collect all unique ids\n",
    "    unique_ids = set()\n",
    "    for x in groups:\n",
    "        for y in x:\n",
    "            unique_ids.add(y)\n",
    "\n",
    "    # Create a dictionary of existing pairs\n",
    "    pairs_dict = {x: {x} for x in unique_ids}\n",
    "    for x in groups:\n",
    "        for j in range(len(x)-1):\n",
    "            united_pairs = pairs_dict[x[j]] | pairs_dict[x[j+1]]\n",
    "            for z in united_pairs:\n",
    "                pairs_dict[z].update(united_pairs)\n",
    "    print(pairs_dict)\n",
    "    # Create a list of new pairs\n",
    "\n",
    "    new_pairs = [tuple(value) for value in pairs_dict.values()]\n",
    "\n",
    "\n",
    "    # Drop self-pairs and duplicates\n",
    "    new_pairs = {pair for pair in new_pairs if pair[0] < pair[1]}\n",
    "\n",
    "    # Sort the list of new pairs\n",
    "    new_pairs = sorted(new_pairs)\n",
    "\n",
    "    return new_pairs"
   ],
   "metadata": {
    "collapsed": false,
    "ExecuteTime": {
     "end_time": "2024-10-05T18:30:32.853661500Z",
     "start_time": "2024-10-05T18:30:32.843655900Z"
    }
   },
   "id": "8720b19dab5bee32"
  },
  {
   "cell_type": "code",
   "execution_count": 58,
   "outputs": [
    {
     "name": "stdout",
     "output_type": "stream",
     "text": [
      "{1: {1, 2, 7}, 2: {1, 2, 7}, 3: {3, 4, 5, 8}, 4: {3, 4, 5, 8}, 5: {3, 4, 5, 8}, 7: {1, 2, 7}, 8: {3, 4, 5, 8}}\n"
     ]
    },
    {
     "data": {
      "text/plain": "[(1, 2, 7), (3, 4, 5, 8)]"
     },
     "execution_count": 58,
     "metadata": {},
     "output_type": "execute_result"
    }
   ],
   "source": [
    "extend_matches([(5, 3, 4, 8), (1, 2), (7, 2)])"
   ],
   "metadata": {
    "collapsed": false,
    "ExecuteTime": {
     "end_time": "2024-10-05T18:30:33.453013200Z",
     "start_time": "2024-10-05T18:30:33.442115600Z"
    }
   },
   "id": "411a9424dec30b2d"
  },
  {
   "cell_type": "markdown",
   "source": [
    "# Эталонное решение"
   ],
   "metadata": {
    "collapsed": false
   },
   "id": "330373cb38902726"
  },
  {
   "cell_type": "code",
   "execution_count": 60,
   "outputs": [],
   "source": [
    "from typing import List\n",
    "\n",
    "\n",
    "def extend_matches(groups: List[tuple]) -> List[tuple]:\n",
    "    \"\"\"Extend and unite groups based on existing ones\n",
    "\n",
    "    Example:\n",
    "    input: [(1, 2), (2, 3), (5, 3), (4, 6), (6, 7), (8, 9)]\n",
    "    output: [(1, 2, 3, 5), (4, 6, 7), (8, 9)]\n",
    "\n",
    "    \"\"\"\n",
    "    groups = [set(group) for group in groups]\n",
    "    new_groups = []\n",
    "\n",
    "    for group in groups:\n",
    "        for new_group in new_groups:\n",
    "            if group & new_group:\n",
    "                new_group |= group\n",
    "                break\n",
    "        else:\n",
    "            new_groups.append(group)\n",
    "\n",
    "    new_groups = [tuple(group) for group in new_groups]\n",
    "    return new_groups\n"
   ],
   "metadata": {
    "collapsed": false,
    "ExecuteTime": {
     "end_time": "2024-10-05T19:13:54.380417500Z",
     "start_time": "2024-10-05T19:13:54.378903500Z"
    }
   },
   "id": "8e1d4d9b87ae2c5f"
  },
  {
   "cell_type": "code",
   "execution_count": 59,
   "outputs": [],
   "source": [
    "from typing import List\n",
    "from typing import Tuple\n",
    "\n",
    "\n",
    "def extend_matches(pairs: List[Tuple[int, int]]) -> List[Tuple[int, int]]:\n",
    "    \"\"\"Find matches\"\"\"\n",
    "    pairs_t = pairs.copy()\n",
    "    res_set = set()\n",
    "    # result_list = []\n",
    "    if pairs_t:  # Проверяем, что множество не пустое\n",
    "        max_t = max(len(t) for t in pairs_t)\n",
    "    else:\n",
    "        return []\n",
    "\n",
    "    while max_t > 0:\n",
    "        for i in range(len(pairs_t)):\n",
    "            for j in range(len(pairs_t)):\n",
    "                if set(pairs_t[i]) & set(pairs_t[j]):\n",
    "                    pairs_t.append(tuple(sorted(set(pairs_t[i]) | set(pairs_t[j]))))\n",
    "        max_t -= 1\n",
    "    sets = set(pairs_t)\n",
    "    # print(\"s\",sets)\n",
    "    for tup in sets.copy():\n",
    "        pairs = [(min(tup[i], tup[j]), max(tup[i], tup[j]))\n",
    "                 for i in range(len(tup))\n",
    "                 for j in range(i + 1, len(tup))]\n",
    "\n",
    "        # Добавляем их во множество\n",
    "        # sets.update(pairs)\n",
    "        res_set.update(pairs)\n",
    "    #\n",
    "    # # Преобразуем множество в отсортированный список\n",
    "    #     result_list = sorted(sets)\n",
    "    # print(\"r\",)\n",
    "\n",
    "    return sorted(res_set)\n"
   ],
   "metadata": {
    "collapsed": false,
    "ExecuteTime": {
     "end_time": "2024-10-05T18:32:25.071380400Z",
     "start_time": "2024-10-05T18:32:25.039041100Z"
    }
   },
   "id": "cb2ec5671d022b95"
  },
  {
   "cell_type": "code",
   "execution_count": null,
   "outputs": [],
   "source": [],
   "metadata": {
    "collapsed": false
   },
   "id": "fd3876e354838ba1"
  }
 ],
 "metadata": {
  "kernelspec": {
   "display_name": "Python 3",
   "language": "python",
   "name": "python3"
  },
  "language_info": {
   "codemirror_mode": {
    "name": "ipython",
    "version": 2
   },
   "file_extension": ".py",
   "mimetype": "text/x-python",
   "name": "python",
   "nbconvert_exporter": "python",
   "pygments_lexer": "ipython2",
   "version": "2.7.6"
  }
 },
 "nbformat": 4,
 "nbformat_minor": 5
}
