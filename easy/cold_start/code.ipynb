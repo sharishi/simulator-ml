{
 "cells": [
  {
   "cell_type": "markdown",
   "source": [
    "# Товары новинки\n",
    "Вы решаете задачу прогнозирования спроса в быстро развивающемся стартапе KarpovExpress, где количество новых товаров увеличивается на десятки штук каждый месяц.\n",
    "\n",
    "Прогноз продаж надо делать каждую неделю в рублях или товарах, а на товары-новинки нет данных и истории продаж. \n",
    "\n",
    "Модель прогнозирования спроса не выдает ничего адекватного и не умеет работать с NaN пропусками. Но есть идея — **пропуски для товаров-новинок можно заполнить среднем значением продаж по категориям этого товара!**\n",
    "\n",
    "Прогнозирование для новых товаров - очень важная вещь, которая поможет новым пользователям чаще видеть релевантные товары в рекомендациях или бизнесу предсказывать поведения пользователей.\n",
    "\n",
    "Вы решили дописать функцию fillna_with_mean, которая заполняет пропуски в колонке target ее средними значениями по группам. Группировка происходит по колонке group. \n",
    "\n",
    "Ваша функция не привязана к определенному формату датасета, ниже дан пример для задачи прогнозирования спроса. Также Вы можете использовать этот подход для других задач\n",
    "Например:\n",
    "\n",
    "- Оценка конверсии товаров - нужно заполнить пропуски для товаров-новинок.\n",
    "- Предсказание ежедневных посещений сайта пользователями - нужно заполнить пропуски для новых пользователей."
   ],
   "metadata": {
    "collapsed": false
   },
   "id": "2cf19c51d7b7d451"
  },
  {
   "cell_type": "code",
   "execution_count": 9,
   "id": "initial_id",
   "metadata": {
    "collapsed": true,
    "ExecuteTime": {
     "end_time": "2024-09-25T19:57:02.540265500Z",
     "start_time": "2024-09-25T19:57:02.533215400Z"
    }
   },
   "outputs": [
    {
     "name": "stdout",
     "output_type": "stream",
     "text": [
      "       monday  product_id  category  sales\n",
      "0  2020-01-05           6         3   35.0\n",
      "1  2020-01-05           0         0   45.0\n",
      "2  2020-01-05           4         2   67.0\n",
      "3  2020-01-05           8         0    4.0\n",
      "4  2020-01-05           2         2   67.0\n",
      "5  2020-01-05           1         5   38.0\n",
      "6  2020-01-05           5         4   32.0\n",
      "7  2020-01-05           9         0   86.0\n",
      "8  2020-01-05           7         5   72.0\n",
      "9  2020-01-05           3         5    5.0\n"
     ]
    }
   ],
   "source": [
    "import pandas as pd\n",
    "import numpy as np\n",
    "\n",
    "data = {\n",
    "    \"monday\": [\"2020-01-05\"] * 10,\n",
    "    \"product_id\": [6, 0, 4, 8, 2, 1, 5, 9, 7, 3],\n",
    "    \"category\": [3, 0, 2, 0, 2, 5, 4, 0, 5, 5],\n",
    "    \"sales\": [35.0, np.nan, 67.0, 4.0, np.nan, np.nan, 32.0, 86.0, 72.0, 5.0]\n",
    "}\n",
    "\n",
    "def fillna_with_mean(\n",
    "    df: pd.DataFrame, target: str, group: str\n",
    ") -> pd.DataFrame:\n",
    "    \"\"\"Fill the null data\"\"\"\n",
    "    df = df.copy()\n",
    "    df[target] = np.floor(df[target].fillna(df.groupby(group)[target].transform('mean')))\n",
    "    return df\n",
    "\n",
    "print(fillna_with_mean(pd.DataFrame(data), 'sales', 'category'))"
   ]
  },
  {
   "cell_type": "markdown",
   "source": [
    "# Эталонное решение"
   ],
   "metadata": {
    "collapsed": false
   },
   "id": "4dd00a7c8691dbe"
  },
  {
   "cell_type": "code",
   "execution_count": null,
   "outputs": [],
   "source": [
    "import numpy as np\n",
    "import pandas as pd\n",
    "\n",
    "\n",
    "def fillna_with_mean(df: pd.DataFrame, target: str, group: str) -> pd.DataFrame:\n",
    "    \"\"\"Fill nans with mean\n",
    "\n",
    "    Parameters\n",
    "    ----------\n",
    "    df : pd.DataFrame\n",
    "        Dataframe\n",
    "    target : str\n",
    "        Target\n",
    "    group : str\n",
    "        Group\n",
    "\n",
    "    Returns\n",
    "    -------\n",
    "    pd.DataFrame\n",
    "        result\n",
    "    \"\"\"\n",
    "    df = df.copy()\n",
    "    fillna_values = df.groupby(by=group)\n",
    "    fillna_values = fillna_values[target].transform(\"mean\")\n",
    "    fillna_values = np.floor(fillna_values)\n",
    "    df.loc[df[target].isna(), target] = fillna_values\n",
    "    return df"
   ],
   "metadata": {
    "collapsed": false
   },
   "id": "ae824014bdf05cee"
  }
 ],
 "metadata": {
  "kernelspec": {
   "display_name": "Python 3",
   "language": "python",
   "name": "python3"
  },
  "language_info": {
   "codemirror_mode": {
    "name": "ipython",
    "version": 2
   },
   "file_extension": ".py",
   "mimetype": "text/x-python",
   "name": "python",
   "nbconvert_exporter": "python",
   "pygments_lexer": "ipython2",
   "version": "2.7.6"
  }
 },
 "nbformat": 4,
 "nbformat_minor": 5
}
